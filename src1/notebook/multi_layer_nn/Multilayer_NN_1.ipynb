{
 "nbformat": 4,
 "nbformat_minor": 0,
 "metadata": {
  "kernelspec": {
   "name": "python3",
   "language": "python",
   "display_name": "Python 3 (ipykernel)"
  },
  "colab": {
   "name": "Multilayer NN - Keras -TF2.X.ipynb",
   "provenance": [],
   "collapsed_sections": []
  },
  "accelerator": "GPU",
  "language_info": {
   "name": "python"
  }
 },
 "cells": [
  {
   "cell_type": "markdown",
   "metadata": {
    "id": "UDmgHVIHbWwA"
   },
   "source": [
    "# MULTILAYER NN - TENSORFLOW 2.X"
   ]
  },
  {
   "cell_type": "code",
   "metadata": {
    "colab": {
     "base_uri": "https://localhost:8080/"
    },
    "id": "Dj3F-Ml9cBcK",
    "executionInfo": {
     "status": "ok",
     "timestamp": 1627918524433,
     "user_tz": 300,
     "elapsed": 1625,
     "user": {
      "displayName": "deep ai",
      "photoUrl": "https://lh3.googleusercontent.com/a-/AOh14GjfZWDM3qKZbLd0FrGsKXwHUuK8gNMkFMIT4Ye8=s64",
      "userId": "00364258643751704926"
     }
    },
    "outputId": "207cdcb3-2842-4297-8e64-d89acce3621b",
    "ExecuteTime": {
     "end_time": "2024-02-28T06:48:42.743714Z",
     "start_time": "2024-02-28T06:48:42.141879Z"
    }
   },
   "source": [
    "import tensorflow as tf\n",
    "print(tf.__version__)\n",
    "!python --version"
   ],
   "execution_count": 21,
   "outputs": [
    {
     "name": "stdout",
     "output_type": "stream",
     "text": [
      "2.12.0\n",
      "Python 3.11.2\r\n"
     ]
    }
   ]
  },
  {
   "cell_type": "code",
   "metadata": {
    "id": "jBkOuvnKbWwE",
    "ExecuteTime": {
     "end_time": "2024-02-28T06:48:45.322550Z",
     "start_time": "2024-02-28T06:48:45.281948Z"
    }
   },
   "source": [
    "import keras\n",
    "import tensorflow_datasets as tfds\n",
    "from tensorflow.python.keras.models import Sequential\n",
    "from tensorflow.python.keras.layers import Dense, Flatten\n",
    "from tensorflow.python.keras import regularizers\n",
    "from tensorflow.python.keras.utils import np_utils\n",
    "import numpy as np"
   ],
   "execution_count": 22,
   "outputs": []
  },
  {
   "cell_type": "code",
   "metadata": {
    "id": "AL1wfM_QbWwF",
    "ExecuteTime": {
     "end_time": "2024-02-28T06:48:53.944509Z",
     "start_time": "2024-02-28T06:48:53.907749Z"
    }
   },
   "source": [
    "batch_size = 100\n",
    "n_inputs = 784\n",
    "n_classes = 10\n",
    "n_epochs = 5"
   ],
   "execution_count": 24,
   "outputs": []
  },
  {
   "cell_type": "code",
   "metadata": {
    "colab": {
     "base_uri": "https://localhost:8080/"
    },
    "id": "M7IxKsOgbWwG",
    "executionInfo": {
     "status": "ok",
     "timestamp": 1627917944266,
     "user_tz": 300,
     "elapsed": 751,
     "user": {
      "displayName": "deep ai",
      "photoUrl": "https://lh3.googleusercontent.com/a-/AOh14GjfZWDM3qKZbLd0FrGsKXwHUuK8gNMkFMIT4Ye8=s64",
      "userId": "00364258643751704926"
     }
    },
    "outputId": "281ade66-93f7-4db5-ed0f-87be98ff7382",
    "ExecuteTime": {
     "end_time": "2024-02-28T06:48:59.644244Z",
     "start_time": "2024-02-28T06:48:54.540476Z"
    }
   },
   "source": [
    "# Load MNIST dataset from TensorFlow Datasets\n",
    "\n",
    "image_train, label_train = tfds.as_numpy(tfds.load(\n",
    "    'mnist',\n",
    "    split='train',\n",
    "    batch_size=-1,\n",
    "    as_supervised=True,\n",
    "))\n",
    "\n",
    "image_test, label_test = tfds.as_numpy(tfds.load(\n",
    "    'mnist',\n",
    "    split='test',\n",
    "    batch_size=-1,\n",
    "    as_supervised=True,\n",
    "))"
   ],
   "execution_count": 25,
   "outputs": []
  },
  {
   "cell_type": "code",
   "metadata": {
    "id": "QgNolL3rbWwG",
    "ExecuteTime": {
     "end_time": "2024-02-27T15:38:22.953624Z",
     "start_time": "2024-02-27T15:38:21.913111Z"
    }
   },
   "source": [
    "# Function to normalize images\n",
    "def normalize_img(image, label):\n",
    "    \"\"\"Normalizes images: `uint8` -> `float32`.\"\"\"\n",
    "    return tf.cast(image, tf.float32) / 255., label\n",
    "\n",
    "# Apply normalization to train and test datasets\n",
    "image_train, label_train = normalize_img(image_train, label_train)\n",
    "image_test, label_test = normalize_img(image_test, label_test)"
   ],
   "execution_count": 5,
   "outputs": []
  },
  {
   "cell_type": "markdown",
   "metadata": {
    "id": "VkAVj2nDbWwM"
   },
   "source": [
    "## Creating a sequential model"
   ]
  },
  {
   "cell_type": "code",
   "execution_count": 6,
   "outputs": [],
   "source": [
    "model_sgd = Sequential([\n",
    "    Flatten(input_shape=(28, 28, 1)),\n",
    "    Dense(128, activation='relu'),\n",
    "    Dense(128, activation='relu'),\n",
    "    Dense(10, activation='softmax')\n",
    "])"
   ],
   "metadata": {
    "collapsed": false,
    "ExecuteTime": {
     "end_time": "2024-02-27T15:38:24.764677Z",
     "start_time": "2024-02-27T15:38:24.582Z"
    }
   }
  },
  {
   "cell_type": "markdown",
   "metadata": {
    "id": "TLH1-AVgbWwO"
   },
   "source": [
    "## Model Summary:"
   ]
  },
  {
   "cell_type": "code",
   "metadata": {
    "colab": {
     "base_uri": "https://localhost:8080/"
    },
    "id": "lkb4VNr1bWwO",
    "executionInfo": {
     "status": "ok",
     "timestamp": 1627917963794,
     "user_tz": 300,
     "elapsed": 7,
     "user": {
      "displayName": "deep ai",
      "photoUrl": "https://lh3.googleusercontent.com/a-/AOh14GjfZWDM3qKZbLd0FrGsKXwHUuK8gNMkFMIT4Ye8=s64",
      "userId": "00364258643751704926"
     }
    },
    "outputId": "d9098b1b-976f-4e36-8204-3089f7d4db18",
    "ExecuteTime": {
     "end_time": "2024-02-27T15:38:27.000164Z",
     "start_time": "2024-02-27T15:38:26.943542Z"
    }
   },
   "source": [
    "model_sgd.summary()"
   ],
   "execution_count": 7,
   "outputs": [
    {
     "name": "stdout",
     "output_type": "stream",
     "text": [
      "Model: \"sequential\"\n",
      "_________________________________________________________________\n",
      "Layer (type)                 Output Shape              Param #   \n",
      "=================================================================\n",
      "flatten (Flatten)            (None, 784)               0         \n",
      "_________________________________________________________________\n",
      "dense (Dense)                (None, 128)               100480    \n",
      "_________________________________________________________________\n",
      "dense_1 (Dense)              (None, 128)               16512     \n",
      "_________________________________________________________________\n",
      "dense_2 (Dense)              (None, 10)                1290      \n",
      "=================================================================\n",
      "Total params: 118,282\n",
      "Trainable params: 118,282\n",
      "Non-trainable params: 0\n",
      "_________________________________________________________________\n"
     ]
    }
   ]
  },
  {
   "cell_type": "markdown",
   "metadata": {
    "id": "Sjw3mY3pbWwP"
   },
   "source": [
    "## Compiling the model:"
   ]
  },
  {
   "cell_type": "code",
   "metadata": {
    "id": "sE3WZH6NbWwP",
    "ExecuteTime": {
     "end_time": "2024-02-27T15:38:29.377608Z",
     "start_time": "2024-02-27T15:38:29.347426Z"
    }
   },
   "source": [
    "# Compile the model\n",
    "model_sgd.compile(optimizer='sgd',\n",
    "              loss='sparse_categorical_crossentropy',\n",
    "              metrics=['accuracy'])"
   ],
   "execution_count": 8,
   "outputs": []
  },
  {
   "cell_type": "markdown",
   "metadata": {
    "id": "EG-gmoTzbWwP"
   },
   "source": [
    "## Training the model:"
   ]
  },
  {
   "cell_type": "code",
   "metadata": {
    "colab": {
     "base_uri": "https://localhost:8080/"
    },
    "id": "n2Ov_f5EbWwP",
    "executionInfo": {
     "status": "ok",
     "timestamp": 1627918172879,
     "user_tz": 300,
     "elapsed": 202887,
     "user": {
      "displayName": "deep ai",
      "photoUrl": "https://lh3.googleusercontent.com/a-/AOh14GjfZWDM3qKZbLd0FrGsKXwHUuK8gNMkFMIT4Ye8=s64",
      "userId": "00364258643751704926"
     }
    },
    "outputId": "21e24737-7ec5-4382-b1f0-354bd047422a",
    "ExecuteTime": {
     "end_time": "2024-02-27T15:39:02.504199Z",
     "start_time": "2024-02-27T15:38:31.762040Z"
    }
   },
   "source": [
    "history_sgd = model_sgd.fit(image_train, label_train, epochs=5)"
   ],
   "execution_count": 9,
   "outputs": [
    {
     "name": "stdout",
     "output_type": "stream",
     "text": [
      "Epoch 1/5\n",
      "1875/1875 [==============================] - 7s 3ms/step - loss: 0.6395 - accuracy: 0.8308\n",
      "Epoch 2/5\n",
      "1875/1875 [==============================] - 6s 3ms/step - loss: 0.2971 - accuracy: 0.9145\n",
      "Epoch 3/5\n",
      "1875/1875 [==============================] - 6s 3ms/step - loss: 0.2452 - accuracy: 0.9295\n",
      "Epoch 4/5\n",
      "1875/1875 [==============================] - 6s 3ms/step - loss: 0.2122 - accuracy: 0.9388\n",
      "Epoch 5/5\n",
      "1875/1875 [==============================] - 6s 3ms/step - loss: 0.1873 - accuracy: 0.9460\n"
     ]
    }
   ]
  },
  {
   "cell_type": "markdown",
   "metadata": {
    "id": "yTqc9YkBbWwP"
   },
   "source": [
    "## Evaluating the model:"
   ]
  },
  {
   "cell_type": "code",
   "metadata": {
    "colab": {
     "base_uri": "https://localhost:8080/"
    },
    "id": "EyeKJ55sbWwQ",
    "executionInfo": {
     "status": "ok",
     "timestamp": 1627918173653,
     "user_tz": 300,
     "elapsed": 781,
     "user": {
      "displayName": "deep ai",
      "photoUrl": "https://lh3.googleusercontent.com/a-/AOh14GjfZWDM3qKZbLd0FrGsKXwHUuK8gNMkFMIT4Ye8=s64",
      "userId": "00364258643751704926"
     }
    },
    "outputId": "7ef1eeb3-137e-486f-cd2b-52dfeda4bc37",
    "ExecuteTime": {
     "end_time": "2024-02-27T15:39:08.011251Z",
     "start_time": "2024-02-27T15:39:06.188536Z"
    }
   },
   "source": [
    "scores = model_sgd.evaluate(image_test, label_test)"
   ],
   "execution_count": 10,
   "outputs": [
    {
     "name": "stdout",
     "output_type": "stream",
     "text": [
      "313/313 [==============================] - 2s 3ms/step - loss: 0.1731 - accuracy: 0.9495\n"
     ]
    }
   ]
  },
  {
   "cell_type": "code",
   "metadata": {
    "colab": {
     "base_uri": "https://localhost:8080/"
    },
    "id": "3hWcxUdmbWwQ",
    "executionInfo": {
     "status": "ok",
     "timestamp": 1627918173654,
     "user_tz": 300,
     "elapsed": 8,
     "user": {
      "displayName": "deep ai",
      "photoUrl": "https://lh3.googleusercontent.com/a-/AOh14GjfZWDM3qKZbLd0FrGsKXwHUuK8gNMkFMIT4Ye8=s64",
      "userId": "00364258643751704926"
     }
    },
    "outputId": "8d4c9dbc-ad0f-46fe-e480-ded39ee296f2",
    "ExecuteTime": {
     "end_time": "2024-02-27T15:39:10.877723Z",
     "start_time": "2024-02-27T15:39:10.846480Z"
    }
   },
   "source": [
    "print('loss:\\n', scores[0])\n",
    "print('accuracy:\\n', scores[1])"
   ],
   "execution_count": 11,
   "outputs": [
    {
     "name": "stdout",
     "output_type": "stream",
     "text": [
      "loss:\n",
      " 0.173126682639122\n",
      "accuracy:\n",
      " 0.9495000243186951\n"
     ]
    }
   ]
  },
  {
   "cell_type": "markdown",
   "metadata": {
    "id": "jECfsks6bWwQ"
   },
   "source": [
    "## Evaluating ADAM:"
   ]
  },
  {
   "cell_type": "code",
   "execution_count": 12,
   "outputs": [],
   "source": [
    "model_adam = Sequential([\n",
    "    Flatten(input_shape=(28, 28, 1)),\n",
    "    Dense(128, activation='relu'),\n",
    "    Dense(128, activation='relu'),\n",
    "    Dense(10, activation='softmax')\n",
    "])"
   ],
   "metadata": {
    "collapsed": false,
    "ExecuteTime": {
     "end_time": "2024-02-27T15:39:15.100960Z",
     "start_time": "2024-02-27T15:39:15.000531Z"
    }
   }
  },
  {
   "cell_type": "code",
   "execution_count": 13,
   "outputs": [],
   "source": [
    "model_adam.compile(loss='sparse_categorical_crossentropy',\n",
    "              optimizer='adam',\n",
    "              metrics=['accuracy'])"
   ],
   "metadata": {
    "collapsed": false,
    "ExecuteTime": {
     "end_time": "2024-02-27T15:39:16.014217Z",
     "start_time": "2024-02-27T15:39:15.986601Z"
    }
   }
  },
  {
   "cell_type": "code",
   "metadata": {
    "colab": {
     "base_uri": "https://localhost:8080/"
    },
    "id": "qNz-T_febWwQ",
    "executionInfo": {
     "status": "ok",
     "timestamp": 1627918344639,
     "user_tz": 300,
     "elapsed": 165962,
     "user": {
      "displayName": "deep ai",
      "photoUrl": "https://lh3.googleusercontent.com/a-/AOh14GjfZWDM3qKZbLd0FrGsKXwHUuK8gNMkFMIT4Ye8=s64",
      "userId": "00364258643751704926"
     }
    },
    "outputId": "1132744c-4299-465f-957c-eb61d2782316",
    "ExecuteTime": {
     "end_time": "2024-02-27T15:39:47.923207Z",
     "start_time": "2024-02-27T15:39:16.727053Z"
    }
   },
   "source": [
    "history_adam = model_adam.fit(image_train, label_train, epochs=5)"
   ],
   "execution_count": 14,
   "outputs": [
    {
     "name": "stdout",
     "output_type": "stream",
     "text": [
      "Epoch 1/5\n",
      "1875/1875 [==============================] - 9s 4ms/step - loss: 0.2348 - accuracy: 0.9316\n",
      "Epoch 2/5\n",
      "1875/1875 [==============================] - 6s 3ms/step - loss: 0.0984 - accuracy: 0.9698\n",
      "Epoch 3/5\n",
      "1875/1875 [==============================] - 5s 3ms/step - loss: 0.0686 - accuracy: 0.9776\n",
      "Epoch 4/5\n",
      "1875/1875 [==============================] - 6s 3ms/step - loss: 0.0520 - accuracy: 0.9838\n",
      "Epoch 5/5\n",
      "1875/1875 [==============================] - 6s 3ms/step - loss: 0.0402 - accuracy: 0.9865\n"
     ]
    }
   ]
  },
  {
   "cell_type": "code",
   "metadata": {
    "colab": {
     "base_uri": "https://localhost:8080/"
    },
    "id": "OpAn7u5tbWwQ",
    "executionInfo": {
     "status": "ok",
     "timestamp": 1627918345574,
     "user_tz": 300,
     "elapsed": 748,
     "user": {
      "displayName": "deep ai",
      "photoUrl": "https://lh3.googleusercontent.com/a-/AOh14GjfZWDM3qKZbLd0FrGsKXwHUuK8gNMkFMIT4Ye8=s64",
      "userId": "00364258643751704926"
     }
    },
    "outputId": "e964bbd5-14ca-40f2-c5e0-efa910098458",
    "ExecuteTime": {
     "end_time": "2024-02-27T15:39:59.675346Z",
     "start_time": "2024-02-27T15:39:57.749544Z"
    }
   },
   "source": [
    "scores = model_adam.evaluate(image_test, label_test)"
   ],
   "execution_count": 15,
   "outputs": [
    {
     "name": "stdout",
     "output_type": "stream",
     "text": [
      "313/313 [==============================] - 1s 3ms/step - loss: 0.0825 - accuracy: 0.9758\n"
     ]
    }
   ]
  },
  {
   "cell_type": "code",
   "metadata": {
    "colab": {
     "base_uri": "https://localhost:8080/"
    },
    "id": "0Zbrzhf9bWwR",
    "executionInfo": {
     "status": "ok",
     "timestamp": 1627918345574,
     "user_tz": 300,
     "elapsed": 7,
     "user": {
      "displayName": "deep ai",
      "photoUrl": "https://lh3.googleusercontent.com/a-/AOh14GjfZWDM3qKZbLd0FrGsKXwHUuK8gNMkFMIT4Ye8=s64",
      "userId": "00364258643751704926"
     }
    },
    "outputId": "5ae06b94-0ffc-4a94-94fd-ff7af252eb23",
    "ExecuteTime": {
     "end_time": "2024-02-27T15:40:00.149279Z",
     "start_time": "2024-02-27T15:40:00.098619Z"
    }
   },
   "source": [
    "print('loss:\\n', scores[0])\n",
    "print('accuracy:\\n', scores[1])"
   ],
   "execution_count": 16,
   "outputs": [
    {
     "name": "stdout",
     "output_type": "stream",
     "text": [
      "loss:\n",
      " 0.08254844695329666\n",
      "accuracy:\n",
      " 0.9757999777793884\n"
     ]
    }
   ]
  },
  {
   "cell_type": "code",
   "execution_count": 17,
   "outputs": [],
   "source": [
    "import matplotlib.pyplot as plt"
   ],
   "metadata": {
    "collapsed": false,
    "ExecuteTime": {
     "end_time": "2024-02-27T15:40:02.448521Z",
     "start_time": "2024-02-27T15:40:00.948877Z"
    }
   }
  },
  {
   "cell_type": "code",
   "execution_count": 18,
   "outputs": [
    {
     "data": {
      "text/plain": "<Figure size 1200x500 with 0 Axes>"
     },
     "execution_count": 18,
     "metadata": {},
     "output_type": "execute_result"
    },
    {
     "data": {
      "text/plain": "<Figure size 1200x500 with 0 Axes>"
     },
     "metadata": {},
     "output_type": "display_data"
    }
   ],
   "source": [
    "plt.figure(figsize=(12, 5))"
   ],
   "metadata": {
    "collapsed": false,
    "ExecuteTime": {
     "end_time": "2024-02-27T15:40:03.720764Z",
     "start_time": "2024-02-27T15:40:03.594206Z"
    }
   }
  },
  {
   "cell_type": "code",
   "execution_count": 19,
   "outputs": [
    {
     "data": {
      "text/plain": "<matplotlib.legend.Legend at 0x160f0b350>"
     },
     "execution_count": 19,
     "metadata": {},
     "output_type": "execute_result"
    },
    {
     "data": {
      "text/plain": "<Figure size 640x480 with 1 Axes>",
      "image/png": "[encoded data removed]"
     },
     "metadata": {},
     "output_type": "display_data"
    }
   ],
   "source": [
    "# Plotting accuracy\n",
    "plt.subplot(1, 2, 1)\n",
    "plt.plot(history_adam.history['accuracy'], label='Adam (training)')\n",
    "# plt.plot(history_adam.history['val_accuracy'], label='Adam (validation)')\n",
    "plt.plot(history_sgd.history['accuracy'], label='SGD (training)')\n",
    "# plt.plot(history_sgd.history['val_accuracy'], label='SGD (validation)')\n",
    "plt.title('Accuracy Comparison')\n",
    "plt.xlabel('Epoch')\n",
    "plt.ylabel('Accuracy')\n",
    "plt.legend()"
   ],
   "metadata": {
    "collapsed": false,
    "ExecuteTime": {
     "end_time": "2024-02-27T15:40:05.731884Z",
     "start_time": "2024-02-27T15:40:04.634604Z"
    }
   }
  },
  {
   "cell_type": "code",
   "execution_count": 20,
   "outputs": [
    {
     "data": {
      "text/plain": "Text(0.5, 0, 'Epoch')"
     },
     "execution_count": 20,
     "metadata": {},
     "output_type": "execute_result"
    },
    {
     "data": {
      "text/plain": "<Figure size 640x480 with 1 Axes>",
      "image/png": "[encoded data removed]"
     },
     "metadata": {},
     "output_type": "display_data"
    }
   ],
   "source": [
    "# Plotting loss\n",
    "plt.subplot(1, 2, 2)\n",
    "plt.plot(history_adam.history['loss'], label='Adam (training)')\n",
    "# plt.plot(history_adam.history['val_loss'], label='Adam (validation)')\n",
    "plt.plot(history_sgd.history['loss'], label='SGD (training)')\n",
    "# plt.plot(history_sgd.history['val_loss'], label='SGD (validation)')\n",
    "plt.title('Loss Comparison')\n",
    "plt.xlabel('Epoch')"
   ],
   "metadata": {
    "collapsed": false,
    "ExecuteTime": {
     "end_time": "2024-02-27T15:40:07.845459Z",
     "start_time": "2024-02-27T15:40:07.471478Z"
    }
   }
  },
  {
   "cell_type": "code",
   "execution_count": 20,
   "outputs": [],
   "source": [],
   "metadata": {
    "collapsed": false,
    "ExecuteTime": {
     "end_time": "2024-02-27T15:40:08.895531Z",
     "start_time": "2024-02-27T15:40:08.841418Z"
    }
   }
  }
 ]
}
