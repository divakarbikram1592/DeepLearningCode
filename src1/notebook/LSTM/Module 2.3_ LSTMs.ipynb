{
 "nbformat": 4,
 "nbformat_minor": 0,
 "metadata": {
  "colab": {
   "name": "Module 2.3: LSTMs.ipynb",
   "provenance": [],
   "collapsed_sections": []
  },
  "kernelspec": {
   "name": "python3",
   "language": "python",
   "display_name": "Python 3 (ipykernel)"
  }
 },
 "cells": [
  {
   "cell_type": "markdown",
   "metadata": {
    "id": "DSDYSPCLIpsR",
    "colab_type": "text"
   },
   "source": [
    "## Module 2.3: Working with LSTMs in Keras (A Review)\n",
    "\n",
    "We turn to implementing a type of recurrent neural network know as LSTM in the Keras functional API. In this module we will pay attention to:\n",
    "\n",
    "1. Using the Keras functional API for defining models.\n",
    "2. Mounting your Google drive to your Colab environment for file interface.\n",
    "3. Generating synthetic data from a LSTM and sequence seed.\n",
    "\n",
    "Those students who are comfortable with all these matters might consider skipping ahead.\n",
    "\n",
    "Note that we will not spend time tuning hyper-parameters: The purpose is to show how different techniques can be implemented in Keras, not to solve particular data science problems as optimally as possible. Obviously, most techniques include hyper-parameters that need to be tuned for optimal performance."
   ]
  },
  {
   "cell_type": "markdown",
   "metadata": {
    "id": "TK1JgxD3LD1U",
    "colab_type": "text"
   },
   "source": [
    "First we import required libraries."
   ]
  },
  {
   "cell_type": "code",
   "metadata": {
    "id": "btVPO4ETIEfL",
    "colab_type": "code",
    "outputId": "25a62dae-91b6-4b76-b83d-53382e4404d4",
    "executionInfo": {
     "status": "ok",
     "timestamp": 1576672451562,
     "user_tz": -60,
     "elapsed": 2066,
     "user": {
      "displayName": "Michael Ashcroft",
      "photoUrl": "https://lh3.googleusercontent.com/a-/AAuE7mAaRQqpOuFHR3D_ZulW6qlXPomIq5vZ-wR4ZuIm=s64",
      "userId": "16725792548700883920"
     }
    },
    "colab": {
     "base_uri": "https://localhost:8080/",
     "height": 98
    },
    "ExecuteTime": {
     "end_time": "2024-02-27T13:16:39.299968Z",
     "start_time": "2024-02-27T13:16:26.137146Z"
    }
   },
   "source": [
    "import sys\n",
    "import numpy\n",
    "\n",
    "# from google.colab import drive\n",
    "\n",
    "from keras.models import Sequential\n",
    "from keras import Model\n",
    "from keras.optimizers import Adadelta\n",
    "from keras.layers import Dense,Dropout,LSTM,Input\n",
    "from keras.callbacks import ModelCheckpoint\n",
    "from keras.utils import np_utils"
   ],
   "execution_count": 1,
   "outputs": [
    {
     "name": "stderr",
     "output_type": "stream",
     "text": [
      "2024-02-27 18:46:30.189195: I tensorflow/core/platform/cpu_feature_guard.cc:182] This TensorFlow binary is optimized to use available CPU instructions in performance-critical operations.\n",
      "To enable the following instructions: AVX2 FMA, in other operations, rebuild TensorFlow with the appropriate compiler flags.\n"
     ]
    }
   ]
  },
  {
   "cell_type": "markdown",
   "metadata": {
    "id": "sGCD1zv5Low8",
    "colab_type": "text"
   },
   "source": [
    "We will have a little fun and try to teach a neural network to write like Lewis Carroll, the author of Alice in Wonderland.\n",
    "\n",
    "Note, though, that the same technique can be used to model any sequential system, and generate simulations from seeds for such a system. Here the sequence are the characters written by Carroll during Alice in Wonderland, but it could be, for example, an industrial system that evolves in time. In that case, when we generate simulations of the system based on current and recent conditions we simulate the expected evolution of the system - something of great value!"
   ]
  },
  {
   "cell_type": "markdown",
   "metadata": {
    "id": "sfYWdsSGQJlQ",
    "colab_type": "text"
   },
   "source": [
    "We will use the [Project Gutenburg text file of Alice in Wonderland](https://www.gutenberg.org/files/11/11.txt). But we need to get the file into our colab environment and this takes some work.\n",
    "\n",
    "First, you need to place the file in your google drive. We will assume that you will place it in a folder called \"Mastering Keras Datasets\", and that you rename it \"Alice.txt\". If you don't, you will need to the file path used in the code.\n",
    "\n",
    "Once you have done that, you will need to mount your google drive in Colab. Run the following code and complete the required authorizations.\n",
    "\n",
    "Note that you will need to mount your drive every time you use code from this tutorial."
   ]
  },
  {
   "cell_type": "code",
   "metadata": {
    "id": "IlKpjJfKcksv",
    "colab_type": "code",
    "outputId": "e57bb726-7439-455b-816d-4c1f442edb0e",
    "executionInfo": {
     "status": "ok",
     "timestamp": 1571045131919,
     "user_tz": -120,
     "elapsed": 45875,
     "user": {
      "displayName": "Michael Ashcroft",
      "photoUrl": "https://lh3.googleusercontent.com/a-/AAuE7mAaRQqpOuFHR3D_ZulW6qlXPomIq5vZ-wR4ZuIm=s64",
      "userId": "16725792548700883920"
     }
    },
    "colab": {
     "base_uri": "https://localhost:8080/",
     "height": 123
    },
    "ExecuteTime": {
     "end_time": "2024-02-27T13:24:14.985285Z",
     "start_time": "2024-02-27T13:24:14.813602Z"
    }
   },
   "source": [
    "# Note: You will need to mount your drive every time you \n",
    "# run code in this tutorial.\n",
    "# drive.mount('/content/drive')"
   ],
   "execution_count": 3,
   "outputs": []
  },
  {
   "cell_type": "markdown",
   "metadata": {
    "id": "oV3vUZryMUjT",
    "colab_type": "text"
   },
   "source": [
    "Now we can load the file using code and prepare the data. We want to work with sequences of 100 characters as input data, and our target will be the next (101st) character.\n",
    "\n",
    "To keep things simple, we will ignore upper/lower case character distinctions, and cast all alphabetical characters to lower case. To allow our model to work with these characters, we will encode them as integers. We will then normalize them to real numbers between 0 and 1 and add a dimension (we are working with a system with a single feature). Finally we will one-hot encode the target character (see previous module for discussion of one-hot encoding). This is not the only way to handle the data, but it is a simple one.\n",
    "\n",
    "We will also return the unnormalized and non-reshaped X data, the number of characters found and an integer coding to character dictionary, all for use later.\n"
   ]
  },
  {
   "cell_type": "code",
   "metadata": {
    "id": "-RXtz4LwLHoY",
    "colab_type": "code",
    "colab": {},
    "ExecuteTime": {
     "end_time": "2024-02-27T13:46:32.788516Z",
     "start_time": "2024-02-27T13:46:32.755401Z"
    }
   },
   "source": [
    "def load_alice (\n",
    "    rawTextFile=\"/Users/apple/Documents/Projects-Python/DeepLearningCode/src/notebook/00-Prerequisites/resources/alice.txt\"   \n",
    "    ):\n",
    "    # load ascii text and covert to lowercase\n",
    "    raw_text = open(rawTextFile, encoding='utf-8').read()\n",
    "    raw_text = raw_text.lower()\n",
    "    # create mapping of unique chars to integers\n",
    "    chars = sorted(list(set(raw_text)))\n",
    "    char_to_int = dict((c, i) for i, c in enumerate(chars))\n",
    "    int_to_char = dict((i, c) for i, c in enumerate(chars))\n",
    "    # summarize the loaded data\n",
    "    n_chars = len(raw_text)\n",
    "    n_vocab = len(chars)\n",
    "    print (\"Total Characters: \", n_chars)\n",
    "    print (\"Total Vocab: \", n_vocab)\n",
    "    # prepare the dataset of input to output pairs encoded as integers\n",
    "    seq_length = 100\n",
    "    dataX = []\n",
    "    dataY = []\n",
    "    for i in range(0, n_chars - seq_length, 1):\n",
    "    \tseq_in = raw_text[i:i + seq_length]\n",
    "    \tseq_out = raw_text[i + seq_length]\n",
    "    \tdataX.append([char_to_int[char] for char in seq_in])\n",
    "    \tdataY.append(char_to_int[seq_out])\n",
    "    n_patterns = len(dataX)\n",
    "    print (\"Total Patterns: \", n_patterns)\n",
    "    # reshape X to be [samples, time steps, features]\n",
    "    X = numpy.reshape(dataX, (n_patterns, seq_length, 1))\n",
    "    # normalize\n",
    "    X = X / float(n_vocab)\n",
    "    # one hot encode the output variable\n",
    "    Y = np_utils.to_categorical(dataY)\n",
    "    return X,Y,dataX,n_vocab,int_to_char"
   ],
   "execution_count": 5,
   "outputs": []
  },
  {
   "cell_type": "markdown",
   "metadata": {
    "id": "LikRHGnkM8r-",
    "colab_type": "text"
   },
   "source": [
    "Now lets load the data. X and Y are the input and target label datasets we will use in training. X_ is the un-reshaped X data for use later."
   ]
  },
  {
   "cell_type": "code",
   "metadata": {
    "id": "kXdKny5NM_RT",
    "colab_type": "code",
    "outputId": "25e0e0d9-9daf-4ab2-9fd2-8cd256f775c1",
    "executionInfo": {
     "status": "ok",
     "timestamp": 1571045177877,
     "user_tz": -120,
     "elapsed": 3721,
     "user": {
      "displayName": "Michael Ashcroft",
      "photoUrl": "https://lh3.googleusercontent.com/a-/AAuE7mAaRQqpOuFHR3D_ZulW6qlXPomIq5vZ-wR4ZuIm=s64",
      "userId": "16725792548700883920"
     }
    },
    "colab": {
     "base_uri": "https://localhost:8080/",
     "height": 69
    },
    "ExecuteTime": {
     "end_time": "2024-02-27T13:46:34.377632Z",
     "start_time": "2024-02-27T13:46:34.295433Z"
    }
   },
   "source": [
    "X,Y,X_,n_vocab,int_to_char = load_alice()"
   ],
   "execution_count": 6,
   "outputs": [
    {
     "name": "stdout",
     "output_type": "stream",
     "text": [
      "Total Characters:  1326\n",
      "Total Vocab:  37\n",
      "Total Patterns:  1226\n"
     ]
    }
   ]
  },
  {
   "cell_type": "markdown",
   "metadata": {
    "id": "BHOixFxYdl1H",
    "colab_type": "text"
   },
   "source": [
    "You can play around below to look at the shape of the resulting X and Y arrays, as well as their contents. But they are no longer understandable character strings."
   ]
  },
  {
   "cell_type": "code",
   "metadata": {
    "id": "X2fL5Qbjdk1Z",
    "colab_type": "code",
    "colab": {},
    "ExecuteTime": {
     "end_time": "2024-02-27T13:46:39.027704Z",
     "start_time": "2024-02-27T13:46:38.963855Z"
    }
   },
   "source": [
    "# Play around here to look at data characteristics"
   ],
   "execution_count": 7,
   "outputs": []
  },
  {
   "cell_type": "markdown",
   "metadata": {
    "id": "p3Wk5Dvzexjs",
    "colab_type": "text"
   },
   "source": [
    "Now we define our LSTM using the Keras function API. We are going to make use of LSTM layers, and add a dropout layer for regularization.\n",
    "\n",
    "We will pass the data to the model defining function so that we can read input and output dimensions of it, rather than hard coding them.\n",
    "\n",
    "For comparison, a second version of the function is included showing how to use the sequential approach."
   ]
  },
  {
   "cell_type": "code",
   "metadata": {
    "id": "YpQik6VXIdTl",
    "colab_type": "code",
    "colab": {},
    "ExecuteTime": {
     "end_time": "2024-02-27T13:46:42.412374Z",
     "start_time": "2024-02-27T13:46:42.373705Z"
    }
   },
   "source": [
    "def get_model (X,Y):\n",
    "    # define the LSTM model\n",
    "    inputs=Input(shape=(X.shape[1],X.shape[2]),name=\"Input\")\n",
    "    lstm1=LSTM(256, input_shape=(100,1),return_sequences=True)(inputs)\n",
    "    drop1=Dropout(0.2)(lstm1)\n",
    "    lstm2=LSTM(256)(drop1)\n",
    "    drop2=Dropout(0.2)(lstm2)\n",
    "    outputs=Dense(Y.shape[1], activation='softmax')(drop2)\n",
    "    model=Model(inputs=inputs,outputs=outputs)\n",
    "    return model\n",
    "\n",
    "def get_model_sequential (X,Y):\n",
    "    # define the LSTM model\n",
    "    model = Sequential()\n",
    "    model.add(LSTM(256, input_shape=(X.shape[1],X.shape[2]),return_sequences=True))\n",
    "    model.add(Dropout(0.2))\n",
    "    model.add(LSTM(256))\n",
    "    model.add(Dropout(0.2))\n",
    "    model.add(Dense(Y.shape[1], activation='softmax'))\n",
    "    return model"
   ],
   "execution_count": 8,
   "outputs": []
  },
  {
   "cell_type": "markdown",
   "metadata": {
    "id": "25ea1_kwhKSL",
    "colab_type": "text"
   },
   "source": [
    "We get our model."
   ]
  },
  {
   "cell_type": "code",
   "metadata": {
    "id": "yHO2WNkIhPz4",
    "colab_type": "code",
    "colab": {},
    "ExecuteTime": {
     "end_time": "2024-02-27T13:46:48.023590Z",
     "start_time": "2024-02-27T13:46:44.230027Z"
    }
   },
   "source": [
    "model=get_model(X,Y)"
   ],
   "execution_count": 9,
   "outputs": [
    {
     "name": "stderr",
     "output_type": "stream",
     "text": [
      "2024-02-27 19:16:46.534231: I tensorflow/core/common_runtime/executor.cc:1197] [/device:CPU:0] (DEBUG INFO) Executor start aborting (this does not indicate an error and you can ignore this message): INVALID_ARGUMENT: You must feed a value for placeholder tensor 'gradients/split_2_grad/concat/split_2/split_dim' with dtype int32\n",
      "\t [[{{node gradients/split_2_grad/concat/split_2/split_dim}}]]\n",
      "2024-02-27 19:16:46.541861: I tensorflow/core/common_runtime/executor.cc:1197] [/device:CPU:0] (DEBUG INFO) Executor start aborting (this does not indicate an error and you can ignore this message): INVALID_ARGUMENT: You must feed a value for placeholder tensor 'gradients/split_grad/concat/split/split_dim' with dtype int32\n",
      "\t [[{{node gradients/split_grad/concat/split/split_dim}}]]\n",
      "2024-02-27 19:16:46.546137: I tensorflow/core/common_runtime/executor.cc:1197] [/device:CPU:0] (DEBUG INFO) Executor start aborting (this does not indicate an error and you can ignore this message): INVALID_ARGUMENT: You must feed a value for placeholder tensor 'gradients/split_1_grad/concat/split_1/split_dim' with dtype int32\n",
      "\t [[{{node gradients/split_1_grad/concat/split_1/split_dim}}]]\n",
      "2024-02-27 19:16:47.868853: I tensorflow/core/common_runtime/executor.cc:1197] [/device:CPU:0] (DEBUG INFO) Executor start aborting (this does not indicate an error and you can ignore this message): INVALID_ARGUMENT: You must feed a value for placeholder tensor 'gradients/split_2_grad/concat/split_2/split_dim' with dtype int32\n",
      "\t [[{{node gradients/split_2_grad/concat/split_2/split_dim}}]]\n",
      "2024-02-27 19:16:47.876451: I tensorflow/core/common_runtime/executor.cc:1197] [/device:CPU:0] (DEBUG INFO) Executor start aborting (this does not indicate an error and you can ignore this message): INVALID_ARGUMENT: You must feed a value for placeholder tensor 'gradients/split_grad/concat/split/split_dim' with dtype int32\n",
      "\t [[{{node gradients/split_grad/concat/split/split_dim}}]]\n",
      "2024-02-27 19:16:47.878500: I tensorflow/core/common_runtime/executor.cc:1197] [/device:CPU:0] (DEBUG INFO) Executor start aborting (this does not indicate an error and you can ignore this message): INVALID_ARGUMENT: You must feed a value for placeholder tensor 'gradients/split_1_grad/concat/split_1/split_dim' with dtype int32\n",
      "\t [[{{node gradients/split_1_grad/concat/split_1/split_dim}}]]\n"
     ]
    }
   ]
  },
  {
   "cell_type": "markdown",
   "metadata": {
    "id": "B8AlPqyChSLp",
    "colab_type": "text"
   },
   "source": [
    "Now we will define an optimizer and compile it. If you are unfamiliar with the different types of optimizers available in keras, I suggest you read the keras documentation [here](https://keras.io/optimizers/) and play around training the model with different alternatives."
   ]
  },
  {
   "cell_type": "code",
   "metadata": {
    "id": "D4QI98iFhdRn",
    "colab_type": "code",
    "colab": {},
    "ExecuteTime": {
     "end_time": "2024-02-27T13:46:50.260851Z",
     "start_time": "2024-02-27T13:46:50.211432Z"
    }
   },
   "source": [
    "opt=Adadelta()\n"
   ],
   "execution_count": 10,
   "outputs": []
  },
  {
   "cell_type": "markdown",
   "metadata": {
    "id": "hNvQlYwUhhps",
    "colab_type": "text"
   },
   "source": [
    "And we compile our model with the optimizer ready for training. We use categorical crossentropy as our loss function as this is a good default choice for working with a multi-class categorical target variable (i.e. the next character labels)."
   ]
  },
  {
   "cell_type": "code",
   "metadata": {
    "id": "-gBX1zHbh8T_",
    "colab_type": "code",
    "colab": {},
    "ExecuteTime": {
     "end_time": "2024-02-27T13:46:52.245626Z",
     "start_time": "2024-02-27T13:46:52.125064Z"
    }
   },
   "source": [
    "model.compile(optimizer=opt,\n",
    "              loss='categorical_crossentropy',\n",
    "              metrics=['accuracy'])"
   ],
   "execution_count": 11,
   "outputs": []
  },
  {
   "cell_type": "markdown",
   "metadata": {
    "id": "WxHPgLnEkZdn",
    "colab_type": "text"
   },
   "source": [
    "Now we will make a function to fit the model. We will not do this very professionally (it is just a fun project), and so will not use any validation data. Rather, we will just run the training for a number of epoches - by default 20, though you can change this.\n",
    "\n",
    "We will, though, use a ModelCheckpoint callback to save the best performing weights and load these into the model and the conclusion of the training. Note that training performance should normally improve with more epoches, so this is unlikely to improve performance. What we really want is to be able to load the best weights without having to redo the training process (see below)\n",
    "\n",
    "If you want to, you are encouraged to alter the code in this tutorial to work with a training and validation set, and adjust the fit function below to incorporate an EarlyStopping callback based on performance on the validation data.\n",
    "\n",
    "We have two one LSTM layer, we are dealing with sequences of length 100. So if we 'unroll' it, we have a network of 200 LSTM layers. And inside these layers are infact multiple internal layers setting up the LSTM architecture! So this is actually a pretty big network, and training will take some time (about 200 hours on the free Colab environment for 200 epochs). This is probably too much to conveniently run yourself.\n",
    "\n",
    "Here we have an example of how we could train it on Colab. Colab will eventually time out. The best thing to do is to save our weights file to our google drive, so we can load it at leisure later and resume training. This is what we will do. Remember that if you didn't use the default name for your folder in your google drive you should change the path string in the code.\n",
    "\n",
    "In real life, you will also often want to save the state of the optimizer (so that it keeps its current learning rate, etc). You can do this by accessing and saving model.optimizer.get_state(). It is left as an exercise to implement this.\n",
    "\n",
    "*It is not expected that you train the network using this function - see below to load trained weights from your google drive.*"
   ]
  },
  {
   "cell_type": "code",
   "metadata": {
    "id": "2W1MXN18kZ3N",
    "colab_type": "code",
    "colab": {},
    "ExecuteTime": {
     "end_time": "2024-02-27T15:24:46.081218Z",
     "start_time": "2024-02-27T15:24:46.051383Z"
    }
   },
   "source": [
    "def fit_model (model,X,Y,epochs=100):\n",
    "    # define the checkpoint callback\n",
    "    filepath=\"/Users/apple/Documents/Projects-Python/DeepLearningCode/src/notebook/00-Prerequisites/resources/alice_best_weights.hdf5\" \n",
    "    checkpoint = ModelCheckpoint(filepath, monitor='loss', verbose=1, \n",
    "                                 save_best_only=True, mode='min')\n",
    "    callbacks_list = [checkpoint]\n",
    "    # fit the model\n",
    "    model.fit(X, Y, epochs=epochs, batch_size=128, callbacks=callbacks_list)\n",
    "    # load the best weights\n",
    "    model.load_weights(filepath)\n",
    "    # return the final model\n",
    "    return model\n"
   ],
   "execution_count": 17,
   "outputs": []
  },
  {
   "cell_type": "markdown",
   "metadata": {
    "id": "Ek8_BWfrh8fm",
    "colab_type": "text"
   },
   "source": [
    "We would then fit (train) the model by calling the above function.\n",
    "\n",
    "*It is not expected that you train the network using this function - see below to load trained weights from your google drive.*"
   ]
  },
  {
   "cell_type": "code",
   "metadata": {
    "id": "HzsCLeYthGK-",
    "colab_type": "code",
    "outputId": "4b13c24e-78c3-4d98-ac83-1ca72b330017",
    "executionInfo": {
     "status": "error",
     "timestamp": 1570711632825,
     "user_tz": -120,
     "elapsed": 3247167,
     "user": {
      "displayName": "Michael Ashcroft",
      "photoUrl": "https://lh3.googleusercontent.com/a-/AAuE7mAaRQqpOuFHR3D_ZulW6qlXPomIq5vZ-wR4ZuIm=s64",
      "userId": "16725792548700883920"
     }
    },
    "colab": {
     "base_uri": "https://localhost:8080/",
     "height": 504
    },
    "ExecuteTime": {
     "end_time": "2024-02-27T15:27:19.821969Z",
     "start_time": "2024-02-27T15:24:47.627725Z"
    }
   },
   "source": [
    "model=fit_model(model,X,Y,10)"
   ],
   "execution_count": 18,
   "outputs": [
    {
     "name": "stdout",
     "output_type": "stream",
     "text": [
      "Epoch 1/10\n",
      "10/10 [==============================] - ETA: 0s - loss: 3.5987 - accuracy: 0.0848\n",
      "Epoch 1: loss improved from inf to 3.59870, saving model to /Users/apple/Documents/Projects-Python/DeepLearningCode/src/notebook/00-Prerequisites/resources/alice_best_weights.hdf5\n",
      "10/10 [==============================] - 20s 2s/step - loss: 3.5987 - accuracy: 0.0848\n",
      "Epoch 2/10\n",
      "10/10 [==============================] - ETA: 0s - loss: 3.5989 - accuracy: 0.0905\n",
      "Epoch 2: loss did not improve from 3.59870\n",
      "10/10 [==============================] - 21s 2s/step - loss: 3.5989 - accuracy: 0.0905\n",
      "Epoch 3/10\n",
      "10/10 [==============================] - ETA: 0s - loss: 3.5984 - accuracy: 0.1101\n",
      "Epoch 3: loss improved from 3.59870 to 3.59842, saving model to /Users/apple/Documents/Projects-Python/DeepLearningCode/src/notebook/00-Prerequisites/resources/alice_best_weights.hdf5\n",
      "10/10 [==============================] - 19s 2s/step - loss: 3.5984 - accuracy: 0.1101\n",
      "Epoch 4/10\n",
      "10/10 [==============================] - ETA: 0s - loss: 3.5982 - accuracy: 0.0856\n",
      "Epoch 4: loss improved from 3.59842 to 3.59818, saving model to /Users/apple/Documents/Projects-Python/DeepLearningCode/src/notebook/00-Prerequisites/resources/alice_best_weights.hdf5\n",
      "10/10 [==============================] - 13s 1s/step - loss: 3.5982 - accuracy: 0.0856\n",
      "Epoch 5/10\n",
      "10/10 [==============================] - ETA: 0s - loss: 3.5980 - accuracy: 0.0987\n",
      "Epoch 5: loss improved from 3.59818 to 3.59799, saving model to /Users/apple/Documents/Projects-Python/DeepLearningCode/src/notebook/00-Prerequisites/resources/alice_best_weights.hdf5\n",
      "10/10 [==============================] - 14s 1s/step - loss: 3.5980 - accuracy: 0.0987\n",
      "Epoch 6/10\n",
      "10/10 [==============================] - ETA: 0s - loss: 3.5969 - accuracy: 0.1036\n",
      "Epoch 6: loss improved from 3.59799 to 3.59689, saving model to /Users/apple/Documents/Projects-Python/DeepLearningCode/src/notebook/00-Prerequisites/resources/alice_best_weights.hdf5\n",
      "10/10 [==============================] - 14s 1s/step - loss: 3.5969 - accuracy: 0.1036\n",
      "Epoch 7/10\n",
      "10/10 [==============================] - ETA: 0s - loss: 3.5967 - accuracy: 0.1142\n",
      "Epoch 7: loss improved from 3.59689 to 3.59671, saving model to /Users/apple/Documents/Projects-Python/DeepLearningCode/src/notebook/00-Prerequisites/resources/alice_best_weights.hdf5\n",
      "10/10 [==============================] - 13s 1s/step - loss: 3.5967 - accuracy: 0.1142\n",
      "Epoch 8/10\n",
      "10/10 [==============================] - ETA: 0s - loss: 3.5961 - accuracy: 0.1175\n",
      "Epoch 8: loss improved from 3.59671 to 3.59609, saving model to /Users/apple/Documents/Projects-Python/DeepLearningCode/src/notebook/00-Prerequisites/resources/alice_best_weights.hdf5\n",
      "10/10 [==============================] - 13s 1s/step - loss: 3.5961 - accuracy: 0.1175\n",
      "Epoch 9/10\n",
      "10/10 [==============================] - ETA: 0s - loss: 3.5959 - accuracy: 0.1199\n",
      "Epoch 9: loss improved from 3.59609 to 3.59592, saving model to /Users/apple/Documents/Projects-Python/DeepLearningCode/src/notebook/00-Prerequisites/resources/alice_best_weights.hdf5\n",
      "10/10 [==============================] - 13s 1s/step - loss: 3.5959 - accuracy: 0.1199\n",
      "Epoch 10/10\n",
      "10/10 [==============================] - ETA: 0s - loss: 3.5953 - accuracy: 0.1313\n",
      "Epoch 10: loss improved from 3.59592 to 3.59534, saving model to /Users/apple/Documents/Projects-Python/DeepLearningCode/src/notebook/00-Prerequisites/resources/alice_best_weights.hdf5\n",
      "10/10 [==============================] - 13s 1s/step - loss: 3.5953 - accuracy: 0.1313\n"
     ]
    }
   ]
  },
  {
   "cell_type": "markdown",
   "metadata": {
    "id": "clAYq_A81Cob",
    "colab_type": "text"
   },
   "source": [
    "Here we will load saved weights. You can use the \"alice_best_weights.hdf5\" file that comes with the course - just place it in the same folder as the \"alice.txt\" file in your google drive. This file has been trained for 200 epoches, and gets a loss around 1.16.\n",
    "\n",
    "If you train the network yourself, the best weights will be saved as \"alice_best_weights.hdf5\" in the same location as above. You can therefore use the same code in both cases.\n",
    "\n",
    "In all cases remember to change the filepath if you are not using the default folder name.\n",
    "\n",
    "If you are resuming this tutorial here in a new session, you should re-mount your Google drive using the earlier code, re-load the data, and then run this code block to load the weights into a new model. \n",
    "\n",
    "If you want to train the model further, you will need to compile it with an optimizer."
   ]
  },
  {
   "cell_type": "code",
   "metadata": {
    "id": "A7bvAwsEfzlo",
    "colab_type": "code",
    "outputId": "2d48bd39-c481-4caa-e8dd-a49b2b2903cf",
    "executionInfo": {
     "status": "ok",
     "timestamp": 1571043657639,
     "user_tz": -120,
     "elapsed": 1835,
     "user": {
      "displayName": "Michael Ashcroft",
      "photoUrl": "https://lh3.googleusercontent.com/a-/AAuE7mAaRQqpOuFHR3D_ZulW6qlXPomIq5vZ-wR4ZuIm=s64",
      "userId": "16725792548700883920"
     }
    },
    "colab": {
     "base_uri": "https://localhost:8080/",
     "height": 435
    },
    "ExecuteTime": {
     "end_time": "2024-02-27T15:31:00.575306Z",
     "start_time": "2024-02-27T15:30:58.059875Z"
    }
   },
   "source": [
    "model=get_model(X,Y)\n",
    "filepath=\"/Users/apple/Documents/Projects-Python/DeepLearningCode/src/notebook/00-Prerequisites/resources/alice_best_weights.hdf5\"\n",
    "model.load_weights(filepath)"
   ],
   "execution_count": 19,
   "outputs": [
    {
     "name": "stderr",
     "output_type": "stream",
     "text": [
      "2024-02-27 21:00:58.678035: I tensorflow/core/common_runtime/executor.cc:1197] [/device:CPU:0] (DEBUG INFO) Executor start aborting (this does not indicate an error and you can ignore this message): INVALID_ARGUMENT: You must feed a value for placeholder tensor 'gradients/split_2_grad/concat/split_2/split_dim' with dtype int32\n",
      "\t [[{{node gradients/split_2_grad/concat/split_2/split_dim}}]]\n",
      "2024-02-27 21:00:58.681878: I tensorflow/core/common_runtime/executor.cc:1197] [/device:CPU:0] (DEBUG INFO) Executor start aborting (this does not indicate an error and you can ignore this message): INVALID_ARGUMENT: You must feed a value for placeholder tensor 'gradients/split_grad/concat/split/split_dim' with dtype int32\n",
      "\t [[{{node gradients/split_grad/concat/split/split_dim}}]]\n",
      "2024-02-27 21:00:58.685079: I tensorflow/core/common_runtime/executor.cc:1197] [/device:CPU:0] (DEBUG INFO) Executor start aborting (this does not indicate an error and you can ignore this message): INVALID_ARGUMENT: You must feed a value for placeholder tensor 'gradients/split_1_grad/concat/split_1/split_dim' with dtype int32\n",
      "\t [[{{node gradients/split_1_grad/concat/split_1/split_dim}}]]\n",
      "2024-02-27 21:00:59.479842: I tensorflow/core/common_runtime/executor.cc:1197] [/device:CPU:0] (DEBUG INFO) Executor start aborting (this does not indicate an error and you can ignore this message): INVALID_ARGUMENT: You must feed a value for placeholder tensor 'gradients/split_2_grad/concat/split_2/split_dim' with dtype int32\n",
      "\t [[{{node gradients/split_2_grad/concat/split_2/split_dim}}]]\n",
      "2024-02-27 21:00:59.485414: I tensorflow/core/common_runtime/executor.cc:1197] [/device:CPU:0] (DEBUG INFO) Executor start aborting (this does not indicate an error and you can ignore this message): INVALID_ARGUMENT: You must feed a value for placeholder tensor 'gradients/split_grad/concat/split/split_dim' with dtype int32\n",
      "\t [[{{node gradients/split_grad/concat/split/split_dim}}]]\n",
      "2024-02-27 21:00:59.487671: I tensorflow/core/common_runtime/executor.cc:1197] [/device:CPU:0] (DEBUG INFO) Executor start aborting (this does not indicate an error and you can ignore this message): INVALID_ARGUMENT: You must feed a value for placeholder tensor 'gradients/split_1_grad/concat/split_1/split_dim' with dtype int32\n",
      "\t [[{{node gradients/split_1_grad/concat/split_1/split_dim}}]]\n"
     ]
    }
   ]
  },
  {
   "cell_type": "markdown",
   "metadata": {
    "id": "r1x9CiNJ1tjY",
    "colab_type": "text"
   },
   "source": [
    "Now we can see if our network has mastered the art of writing like Lewis Carroll! Let's write a function to let us see, and then call it."
   ]
  },
  {
   "cell_type": "code",
   "metadata": {
    "id": "qC2dzmdpITMG",
    "colab_type": "code",
    "colab": {},
    "ExecuteTime": {
     "end_time": "2024-02-27T15:31:03.350881Z",
     "start_time": "2024-02-27T15:31:03.331006Z"
    }
   },
   "source": [
    "def write_like_Lewis_Carroll(model,X_,n_vocab,int_to_char):\n",
    "  # pick a random seed...\n",
    "  start = numpy.random.randint(0, len(X_)-1)\n",
    "  # ... in order to decide which X datum to use to start\n",
    "  pattern = X_[start]\n",
    "\n",
    "  print (\"Seed:\")\n",
    "  print (\"\\\"\", ''.join([int_to_char[value] for value in pattern]), \"\\\"\")\n",
    "  # generate characters\n",
    "  for i in range(1000):\n",
    "    # We transform the integer mapping of the characters to\n",
    "    # real numbers suitable for input into our model.\n",
    "    x = numpy.reshape(pattern, (1, len(pattern), 1))\n",
    "    x = x/float(n_vocab)\n",
    "    # We use the model to estimate the probability distribution for\n",
    "    # the next character\n",
    "    prediction = model.predict(x, verbose=0)\n",
    "    # We choose as the next character whichever the model thinks is most likely\n",
    "    index = numpy.argmax(prediction)\n",
    "    result = int_to_char[index]\n",
    "    seq_in = [int_to_char[value] for value in pattern]\n",
    "    sys.stdout.write(result)\n",
    "    # We add the integer to our pattern... \n",
    "    pattern.append(index)\n",
    "    # ... and drop the earliest integer from our pattern.\n",
    "    pattern = pattern[1:len(pattern)]\n",
    "  print (\"\\nDone.\")"
   ],
   "execution_count": 20,
   "outputs": []
  },
  {
   "cell_type": "code",
   "metadata": {
    "id": "aG-PGS0vISCB",
    "colab_type": "code",
    "outputId": "8896db20-cfed-4a7a-bbfc-c539508b3446",
    "executionInfo": {
     "status": "ok",
     "timestamp": 1571043754022,
     "user_tz": -120,
     "elapsed": 24907,
     "user": {
      "displayName": "Michael Ashcroft",
      "photoUrl": "https://lh3.googleusercontent.com/a-/AAuE7mAaRQqpOuFHR3D_ZulW6qlXPomIq5vZ-wR4ZuIm=s64",
      "userId": "16725792548700883920"
     }
    },
    "colab": {
     "base_uri": "https://localhost:8080/",
     "height": 418
    },
    "ExecuteTime": {
     "end_time": "2024-02-27T15:32:56.983537Z",
     "start_time": "2024-02-27T15:31:04.887418Z"
    }
   },
   "source": [
    "write_like_Lewis_Carroll(model,X_,n_vocab,int_to_char)"
   ],
   "execution_count": 21,
   "outputs": [
    {
     "name": "stdout",
     "output_type": "stream",
     "text": [
      "Seed:\n",
      "\" that she had never before seen a rabbit with either a waistcoat-pocket, or a watch to take out of it \"\n"
     ]
    },
    {
     "name": "stderr",
     "output_type": "stream",
     "text": [
      "2024-02-27 21:01:05.741250: I tensorflow/core/common_runtime/executor.cc:1197] [/device:CPU:0] (DEBUG INFO) Executor start aborting (this does not indicate an error and you can ignore this message): INVALID_ARGUMENT: You must feed a value for placeholder tensor 'gradients/split_2_grad/concat/split_2/split_dim' with dtype int32\n",
      "\t [[{{node gradients/split_2_grad/concat/split_2/split_dim}}]]\n",
      "2024-02-27 21:01:05.746850: I tensorflow/core/common_runtime/executor.cc:1197] [/device:CPU:0] (DEBUG INFO) Executor start aborting (this does not indicate an error and you can ignore this message): INVALID_ARGUMENT: You must feed a value for placeholder tensor 'gradients/split_grad/concat/split/split_dim' with dtype int32\n",
      "\t [[{{node gradients/split_grad/concat/split/split_dim}}]]\n",
      "2024-02-27 21:01:05.749277: I tensorflow/core/common_runtime/executor.cc:1197] [/device:CPU:0] (DEBUG INFO) Executor start aborting (this does not indicate an error and you can ignore this message): INVALID_ARGUMENT: You must feed a value for placeholder tensor 'gradients/split_1_grad/concat/split_1/split_dim' with dtype int32\n",
      "\t [[{{node gradients/split_1_grad/concat/split_1/split_dim}}]]\n",
      "2024-02-27 21:01:06.431513: I tensorflow/core/common_runtime/executor.cc:1197] [/device:CPU:0] (DEBUG INFO) Executor start aborting (this does not indicate an error and you can ignore this message): INVALID_ARGUMENT: You must feed a value for placeholder tensor 'gradients/split_2_grad/concat/split_2/split_dim' with dtype int32\n",
      "\t [[{{node gradients/split_2_grad/concat/split_2/split_dim}}]]\n",
      "2024-02-27 21:01:06.434900: I tensorflow/core/common_runtime/executor.cc:1197] [/device:CPU:0] (DEBUG INFO) Executor start aborting (this does not indicate an error and you can ignore this message): INVALID_ARGUMENT: You must feed a value for placeholder tensor 'gradients/split_grad/concat/split/split_dim' with dtype int32\n",
      "\t [[{{node gradients/split_grad/concat/split/split_dim}}]]\n",
      "2024-02-27 21:01:06.437513: I tensorflow/core/common_runtime/executor.cc:1197] [/device:CPU:0] (DEBUG INFO) Executor start aborting (this does not indicate an error and you can ignore this message): INVALID_ARGUMENT: You must feed a value for placeholder tensor 'gradients/split_1_grad/concat/split_1/split_dim' with dtype int32\n",
      "\t [[{{node gradients/split_1_grad/concat/split_1/split_dim}}]]\n"
     ]
    },
    {
     "name": "stdout",
     "output_type": "stream",
     "text": [
      "                                                                                                                                                                                                                                                                                                                                                                                                                                                                                                                                                                                                                                                                                                                                                                                                                                                                                                                                                                                                                                        \n",
      "Done.\n"
     ]
    }
   ]
  },
  {
   "cell_type": "markdown",
   "metadata": {
    "id": "BG_f2DsQgW5_",
    "colab_type": "text"
   },
   "source": [
    "If you run the above a few times, you will see that we have had some success - though we are still a long way from a good Alice in Wonderland simulator!\n",
    "\n",
    "Here is an extract from one simulation I ran:\n",
    "\n",
    "*'i should hit tere things,' said the caterpillar.*\n",
    "\n",
    "*'well, perhaps you may bean the same siings tuertion,' the duchess said to the gryphon.*\n",
    "\n",
    "*'what i cen the thing,' said the caterpillar.*\n",
    "\n",
    "*'well, perhaps you may bean the same siings tuertion,' the mock turtle seplied,*\n",
    "\n",
    "*'that i man the mice,' said the caterpillar.*\n",
    "\n",
    "We have got to the point of basic sentence structure, quotations for speech, plausible characters given the context, etc. There remains misspellings, and occasional punctuation errors, and other issues. (And this was a good selection.) \n",
    "\n",
    "In fact, you should be able to do much better. Trying with 500 time points (predicting the 501st character from the preceeding 500) and using a three layer LSTM will lead to major improvements. So would using more training data (multiple Lewis Carole books). You can see the performance achieved on a Shakespeare simulator [here](http://karpathy.github.io/2015/05/21/rnn-effectiveness/). \n",
    "\n",
    "If you have time, consider it an exercise to try to improve this implementation to that level - but be warned, the suggested changes would lead to training time being about 7 times longer for the same number of epochs, and of course more epoches would be required as it would be a more complex model. Since it would have taken 100+ hours on the Colab environment (which disconnects after a time limit) this is really only an exercise for those with access to a powerful local environment. "
   ]
  },
  {
   "cell_type": "code",
   "execution_count": null,
   "outputs": [],
   "source": [],
   "metadata": {
    "collapsed": false
   }
  }
 ]
}
