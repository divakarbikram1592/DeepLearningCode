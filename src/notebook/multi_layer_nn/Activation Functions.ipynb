{
 "cells": [
  {
   "cell_type": "markdown",
   "metadata": {
    "id": "C9NmwlYPgoTC"
   },
   "source": [
    "# ACTIVATION FUNCTIONS"
   ]
  },
  {
   "cell_type": "code",
   "execution_count": 4,
   "metadata": {
    "colab": {
     "base_uri": "https://localhost:8080/"
    },
    "executionInfo": {
     "elapsed": 1862,
     "status": "ok",
     "timestamp": 1627918852161,
     "user": {
      "displayName": "deep ai",
      "photoUrl": "https://lh3.googleusercontent.com/a-/AOh14GjfZWDM3qKZbLd0FrGsKXwHUuK8gNMkFMIT4Ye8=s64",
      "userId": "00364258643751704926"
     },
     "user_tz": 300
    },
    "id": "ELWRxsAHgoTG",
    "outputId": "8e16244c-e153-4b8c-d63e-7cd32894c4e7",
    "ExecuteTime": {
     "end_time": "2024-02-23T14:13:10.006149Z",
     "start_time": "2024-02-23T14:13:09.797208Z"
    }
   },
   "outputs": [
    {
     "name": "stdout",
     "output_type": "stream",
     "text": [
      "2.12.0\n",
      "Python 3.11.2\r\n"
     ]
    }
   ],
   "source": [
    "import tensorflow as tf\n",
    "print(tf.__version__)\n",
    "!python --version"
   ]
  },
  {
   "cell_type": "code",
   "execution_count": 18,
   "metadata": {
    "executionInfo": {
     "elapsed": 12,
     "status": "ok",
     "timestamp": 1627918852162,
     "user": {
      "displayName": "deep ai",
      "photoUrl": "https://lh3.googleusercontent.com/a-/AOh14GjfZWDM3qKZbLd0FrGsKXwHUuK8gNMkFMIT4Ye8=s64",
      "userId": "00364258643751704926"
     },
     "user_tz": 300
    },
    "id": "LMXGtzj4goTI",
    "ExecuteTime": {
     "end_time": "2024-02-23T14:18:34.303783Z",
     "start_time": "2024-02-23T14:18:34.285323Z"
    }
   },
   "outputs": [],
   "source": [
    "import tensorflow_datasets as tfds\n",
    "from tensorflow.python.keras.models import Sequential\n",
    "from tensorflow.python.keras.layers import Dense, Flatten\n",
    "from tensorflow.python.keras.callbacks import Callback\n",
    "from tensorflow.python.keras.utils import np_utils\n",
    "import numpy as np"
   ]
  },
  {
   "cell_type": "code",
   "execution_count": 19,
   "metadata": {
    "colab": {
     "base_uri": "https://localhost:8080/"
    },
    "executionInfo": {
     "elapsed": 302,
     "status": "ok",
     "timestamp": 1627918852455,
     "user": {
      "displayName": "deep ai",
      "photoUrl": "https://lh3.googleusercontent.com/a-/AOh14GjfZWDM3qKZbLd0FrGsKXwHUuK8gNMkFMIT4Ye8=s64",
      "userId": "00364258643751704926"
     },
     "user_tz": 300
    },
    "id": "k6fwfOa0goTJ",
    "outputId": "53bc27b3-d040-4921-b6d4-c6c8ca4f55c3",
    "ExecuteTime": {
     "end_time": "2024-02-23T14:18:39.231710Z",
     "start_time": "2024-02-23T14:18:34.730667Z"
    }
   },
   "outputs": [],
   "source": [
    "# Load MNIST dataset from TensorFlow Datasets\n",
    "image_train, label_train = tfds.as_numpy(tfds.load(\n",
    "    'mnist',\n",
    "    split='train',\n",
    "    batch_size=-1,\n",
    "    shuffle_files=True,\n",
    "    as_supervised=True,\n",
    "))\n",
    "\n",
    "image_test, label_test = tfds.as_numpy(tfds.load(\n",
    "    'mnist',\n",
    "    split='test',\n",
    "    batch_size=-1,\n",
    "    shuffle_files=True,\n",
    "    as_supervised=True,\n",
    "))"
   ]
  },
  {
   "cell_type": "markdown",
   "metadata": {
    "id": "pez2rGtCgoTJ"
   },
   "source": [
    "## Data Preprocessing:"
   ]
  },
  {
   "cell_type": "code",
   "execution_count": 20,
   "metadata": {
    "executionInfo": {
     "elapsed": 665,
     "status": "ok",
     "timestamp": 1627918853118,
     "user": {
      "displayName": "deep ai",
      "photoUrl": "https://lh3.googleusercontent.com/a-/AOh14GjfZWDM3qKZbLd0FrGsKXwHUuK8gNMkFMIT4Ye8=s64",
      "userId": "00364258643751704926"
     },
     "user_tz": 300
    },
    "id": "P32WTpXZgoTK",
    "ExecuteTime": {
     "end_time": "2024-02-23T14:18:41.427828Z",
     "start_time": "2024-02-23T14:18:40.080846Z"
    }
   },
   "outputs": [],
   "source": [
    "# Function to normalize images\n",
    "def normalize_img(image, label):\n",
    "    \"\"\"Normalizes images: `uint8` -> `float32`.\"\"\"\n",
    "    return tf.cast(image, tf.float32) / 255., label\n",
    "\n",
    "# Apply normalization to train and test datasets\n",
    "image_train, label_train = normalize_img(image_train, label_train)\n",
    "image_test, label_test = normalize_img(image_test, label_test)"
   ]
  },
  {
   "cell_type": "markdown",
   "metadata": {
    "id": "GMmyPBuMgoTN"
   },
   "source": [
    "## Creating NN with sigmoid activation function:"
   ]
  },
  {
   "cell_type": "code",
   "execution_count": 21,
   "metadata": {
    "executionInfo": {
     "elapsed": 5798,
     "status": "ok",
     "timestamp": 1627918861379,
     "user": {
      "displayName": "deep ai",
      "photoUrl": "https://lh3.googleusercontent.com/a-/AOh14GjfZWDM3qKZbLd0FrGsKXwHUuK8gNMkFMIT4Ye8=s64",
      "userId": "00364258643751704926"
     },
     "user_tz": 300
    },
    "id": "i6H-emtGgoTO",
    "ExecuteTime": {
     "end_time": "2024-02-23T14:18:43.460491Z",
     "start_time": "2024-02-23T14:18:42.944403Z"
    }
   },
   "outputs": [],
   "source": [
    "nn_sigmoid = Sequential()\n",
    "nn_sigmoid.add(Flatten(input_shape=(28, 28, 1))),\n",
    "nn_sigmoid.add(Dense(700, input_dim=784, activation='sigmoid'))\n",
    "nn_sigmoid.add(Dense(700, activation='sigmoid'))\n",
    "nn_sigmoid.add(Dense(700, activation='sigmoid'))\n",
    "nn_sigmoid.add(Dense(700, activation='sigmoid'))\n",
    "nn_sigmoid.add(Dense(700, activation='sigmoid'))\n",
    "nn_sigmoid.add(Dense(350, activation='sigmoid'))\n",
    "nn_sigmoid.add(Dense(100, activation='sigmoid'))\n",
    "nn_sigmoid.add(Dense(10, activation='softmax'))"
   ]
  },
  {
   "cell_type": "code",
   "execution_count": 30,
   "metadata": {
    "executionInfo": {
     "elapsed": 5,
     "status": "ok",
     "timestamp": 1627918861380,
     "user": {
      "displayName": "deep ai",
      "photoUrl": "https://lh3.googleusercontent.com/a-/AOh14GjfZWDM3qKZbLd0FrGsKXwHUuK8gNMkFMIT4Ye8=s64",
      "userId": "00364258643751704926"
     },
     "user_tz": 300
    },
    "id": "vsaLI3vKgoTP",
    "ExecuteTime": {
     "end_time": "2024-02-23T14:19:40.831097Z",
     "start_time": "2024-02-23T14:19:40.773514Z"
    }
   },
   "outputs": [],
   "source": [
    "# Compile model with SGD\n",
    "nn_sigmoid.compile(loss='sparse_categorical_crossentropy',optimizer='sgd',metrics=['accuracy'])"
   ]
  },
  {
   "cell_type": "markdown",
   "metadata": {
    "id": "reuLNZSXgoTP"
   },
   "source": [
    "## Creating NN with the ReLU activation function:"
   ]
  },
  {
   "cell_type": "code",
   "execution_count": 31,
   "metadata": {
    "executionInfo": {
     "elapsed": 304,
     "status": "ok",
     "timestamp": 1627918861680,
     "user": {
      "displayName": "deep ai",
      "photoUrl": "https://lh3.googleusercontent.com/a-/AOh14GjfZWDM3qKZbLd0FrGsKXwHUuK8gNMkFMIT4Ye8=s64",
      "userId": "00364258643751704926"
     },
     "user_tz": 300
    },
    "id": "nCqZKFLygoTP",
    "ExecuteTime": {
     "end_time": "2024-02-23T14:19:42.874210Z",
     "start_time": "2024-02-23T14:19:42.335743Z"
    }
   },
   "outputs": [],
   "source": [
    "nn_relu = Sequential()\n",
    "nn_relu.add(Flatten(input_shape=(28, 28, 1))),\n",
    "nn_relu.add(Dense(700, input_dim=784, activation='relu'))\n",
    "nn_relu.add(Dense(700, activation='relu'))\n",
    "nn_relu.add(Dense(700, activation='relu'))\n",
    "nn_relu.add(Dense(700, activation='relu'))\n",
    "nn_relu.add(Dense(700, activation='relu'))\n",
    "nn_relu.add(Dense(350, activation='relu'))\n",
    "nn_relu.add(Dense(100, activation='relu'))\n",
    "nn_relu.add(Dense(10, activation='softmax'))"
   ]
  },
  {
   "cell_type": "code",
   "execution_count": 32,
   "metadata": {
    "executionInfo": {
     "elapsed": 3,
     "status": "ok",
     "timestamp": 1627918861681,
     "user": {
      "displayName": "deep ai",
      "photoUrl": "https://lh3.googleusercontent.com/a-/AOh14GjfZWDM3qKZbLd0FrGsKXwHUuK8gNMkFMIT4Ye8=s64",
      "userId": "00364258643751704926"
     },
     "user_tz": 300
    },
    "id": "sc-WiNo6goTQ",
    "ExecuteTime": {
     "end_time": "2024-02-23T14:19:43.002106Z",
     "start_time": "2024-02-23T14:19:42.975421Z"
    }
   },
   "outputs": [],
   "source": [
    "# Compile model with SGD\n",
    "nn_relu.compile(loss='sparse_categorical_crossentropy', optimizer='sgd', metrics=['accuracy'])"
   ]
  },
  {
   "cell_type": "markdown",
   "metadata": {
    "id": "c4b23ZT6goTQ"
   },
   "source": [
    "## Creating NN with the ELU activation function:"
   ]
  },
  {
   "cell_type": "code",
   "execution_count": 33,
   "metadata": {
    "executionInfo": {
     "elapsed": 283,
     "status": "ok",
     "timestamp": 1627918862299,
     "user": {
      "displayName": "deep ai",
      "photoUrl": "https://lh3.googleusercontent.com/a-/AOh14GjfZWDM3qKZbLd0FrGsKXwHUuK8gNMkFMIT4Ye8=s64",
      "userId": "00364258643751704926"
     },
     "user_tz": 300
    },
    "id": "X4yTNpfrgoTQ",
    "ExecuteTime": {
     "end_time": "2024-02-23T14:19:45.722268Z",
     "start_time": "2024-02-23T14:19:44.956700Z"
    }
   },
   "outputs": [],
   "source": [
    "nn_elu = Sequential()\n",
    "nn_elu.add(Flatten(input_shape=(28, 28, 1))),\n",
    "nn_elu.add(Dense(700, input_dim=784, activation='elu'))\n",
    "nn_elu.add(Dense(700, activation='elu'))\n",
    "nn_elu.add(Dense(700, activation='elu'))\n",
    "nn_elu.add(Dense(700, activation='elu'))\n",
    "nn_elu.add(Dense(700, activation='elu'))\n",
    "nn_elu.add(Dense(350, activation='elu'))\n",
    "nn_elu.add(Dense(100, activation='elu'))\n",
    "nn_elu.add(Dense(10, activation='softmax'))"
   ]
  },
  {
   "cell_type": "code",
   "execution_count": 34,
   "metadata": {
    "executionInfo": {
     "elapsed": 7,
     "status": "ok",
     "timestamp": 1627918863370,
     "user": {
      "displayName": "deep ai",
      "photoUrl": "https://lh3.googleusercontent.com/a-/AOh14GjfZWDM3qKZbLd0FrGsKXwHUuK8gNMkFMIT4Ye8=s64",
      "userId": "00364258643751704926"
     },
     "user_tz": 300
    },
    "id": "8eNsg7tAgoTR",
    "ExecuteTime": {
     "end_time": "2024-02-23T14:19:45.948340Z",
     "start_time": "2024-02-23T14:19:45.845406Z"
    }
   },
   "outputs": [],
   "source": [
    "# Compile model with SGD\n",
    "nn_elu.compile(loss='sparse_categorical_crossentropy', optimizer='sgd',metrics=['accuracy'])"
   ]
  },
  {
   "cell_type": "markdown",
   "metadata": {
    "id": "nwbgd7lUgoTR"
   },
   "source": [
    "## Callback function to store the loss values per batch:"
   ]
  },
  {
   "cell_type": "code",
   "execution_count": 35,
   "metadata": {
    "executionInfo": {
     "elapsed": 326,
     "status": "ok",
     "timestamp": 1627918871840,
     "user": {
      "displayName": "deep ai",
      "photoUrl": "https://lh3.googleusercontent.com/a-/AOh14GjfZWDM3qKZbLd0FrGsKXwHUuK8gNMkFMIT4Ye8=s64",
      "userId": "00364258643751704926"
     },
     "user_tz": 300
    },
    "id": "R6BkGdIrgoTR",
    "ExecuteTime": {
     "end_time": "2024-02-23T14:19:48.066487Z",
     "start_time": "2024-02-23T14:19:48.016265Z"
    }
   },
   "outputs": [],
   "source": [
    "import keras\n",
    "class history_loss(keras.callbacks.Callback):\n",
    "    def on_train_begin(self, logs={}):\n",
    "        self.losses = []\n",
    " \n",
    "    def on_batch_end(self, batch, logs={}):\n",
    "        self.losses.append(logs.get('loss'))"
   ]
  },
  {
   "cell_type": "markdown",
   "metadata": {
    "id": "7LtlyDKrgoTR"
   },
   "source": [
    "## Training the models"
   ]
  },
  {
   "cell_type": "code",
   "execution_count": 36,
   "metadata": {
    "executionInfo": {
     "elapsed": 510,
     "status": "ok",
     "timestamp": 1627918876940,
     "user": {
      "displayName": "deep ai",
      "photoUrl": "https://lh3.googleusercontent.com/a-/AOh14GjfZWDM3qKZbLd0FrGsKXwHUuK8gNMkFMIT4Ye8=s64",
      "userId": "00364258643751704926"
     },
     "user_tz": 300
    },
    "id": "JFp6tf9JgoTR",
    "ExecuteTime": {
     "end_time": "2024-02-23T14:19:49.852155Z",
     "start_time": "2024-02-23T14:19:49.752001Z"
    }
   },
   "outputs": [],
   "source": [
    "n_epochs = 5\n",
    "batch_size = 256\n",
    "validation_split = 0.2"
   ]
  },
  {
   "cell_type": "code",
   "execution_count": 37,
   "metadata": {
    "colab": {
     "base_uri": "https://localhost:8080/"
    },
    "executionInfo": {
     "elapsed": 41952,
     "status": "ok",
     "timestamp": 1627918920315,
     "user": {
      "displayName": "deep ai",
      "photoUrl": "https://lh3.googleusercontent.com/a-/AOh14GjfZWDM3qKZbLd0FrGsKXwHUuK8gNMkFMIT4Ye8=s64",
      "userId": "00364258643751704926"
     },
     "user_tz": 300
    },
    "id": "v-vktytMgoTS",
    "outputId": "161d84d8-c624-46d5-fe2b-03a45060b709",
    "ExecuteTime": {
     "end_time": "2024-02-23T14:21:11.917943Z",
     "start_time": "2024-02-23T14:19:50.781722Z"
    }
   },
   "outputs": [
    {
     "name": "stdout",
     "output_type": "stream",
     "text": [
      "Epoch 1/5\n",
      "188/188 - 17s - loss: 2.3224 - accuracy: 0.1123 - val_loss: 2.3010 - val_accuracy: 0.1128\n",
      "Epoch 2/5\n",
      "188/188 - 16s - loss: 2.3016 - accuracy: 0.1123 - val_loss: 2.3013 - val_accuracy: 0.1128\n",
      "Epoch 3/5\n",
      "188/188 - 15s - loss: 2.3016 - accuracy: 0.1117 - val_loss: 2.3014 - val_accuracy: 0.1128\n",
      "Epoch 4/5\n",
      "188/188 - 18s - loss: 2.3016 - accuracy: 0.1118 - val_loss: 2.3011 - val_accuracy: 0.1128\n",
      "Epoch 5/5\n",
      "188/188 - 14s - loss: 2.3016 - accuracy: 0.1123 - val_loss: 2.3015 - val_accuracy: 0.1128\n"
     ]
    },
    {
     "data": {
      "text/plain": "<tensorflow.python.keras.callbacks.History at 0x134115c10>"
     },
     "execution_count": 37,
     "metadata": {},
     "output_type": "execute_result"
    }
   ],
   "source": [
    "history_sigmoid = history_loss()\n",
    "nn_sigmoid.fit(image_train, label_train, epochs=n_epochs, batch_size=batch_size,\n",
    "                 callbacks=[history_sigmoid], validation_split=validation_split, verbose=2)"
   ]
  },
  {
   "cell_type": "code",
   "execution_count": 38,
   "metadata": {
    "colab": {
     "base_uri": "https://localhost:8080/"
    },
    "executionInfo": {
     "elapsed": 41749,
     "status": "ok",
     "timestamp": 1627919074747,
     "user": {
      "displayName": "deep ai",
      "photoUrl": "https://lh3.googleusercontent.com/a-/AOh14GjfZWDM3qKZbLd0FrGsKXwHUuK8gNMkFMIT4Ye8=s64",
      "userId": "00364258643751704926"
     },
     "user_tz": 300
    },
    "id": "gS64DKwFgoTS",
    "outputId": "bbf001d2-35da-4bde-96d0-f67330e63606",
    "ExecuteTime": {
     "end_time": "2024-02-23T14:22:16.934094Z",
     "start_time": "2024-02-23T14:21:11.906687Z"
    }
   },
   "outputs": [
    {
     "name": "stdout",
     "output_type": "stream",
     "text": [
      "Epoch 1/5\n",
      "188/188 - 14s - loss: 2.1652 - accuracy: 0.4252 - val_loss: 1.8408 - val_accuracy: 0.6317\n",
      "Epoch 2/5\n",
      "188/188 - 13s - loss: 1.1380 - accuracy: 0.7446 - val_loss: 0.6656 - val_accuracy: 0.8211\n",
      "Epoch 3/5\n",
      "188/188 - 13s - loss: 0.5161 - accuracy: 0.8543 - val_loss: 0.4588 - val_accuracy: 0.8660\n",
      "Epoch 4/5\n",
      "188/188 - 13s - loss: 0.3934 - accuracy: 0.8844 - val_loss: 0.3804 - val_accuracy: 0.8895\n",
      "Epoch 5/5\n",
      "188/188 - 13s - loss: 0.3281 - accuracy: 0.9043 - val_loss: 0.3250 - val_accuracy: 0.9077\n"
     ]
    },
    {
     "data": {
      "text/plain": "<tensorflow.python.keras.callbacks.History at 0x13507b990>"
     },
     "execution_count": 38,
     "metadata": {},
     "output_type": "execute_result"
    }
   ],
   "source": [
    "history_relu = history_loss()\n",
    "nn_relu.fit(image_train, label_train, epochs=n_epochs, batch_size=batch_size,\n",
    "                 callbacks=[history_relu], validation_split=validation_split, verbose=2)"
   ]
  },
  {
   "cell_type": "code",
   "execution_count": 39,
   "metadata": {
    "colab": {
     "base_uri": "https://localhost:8080/"
    },
    "executionInfo": {
     "elapsed": 41504,
     "status": "ok",
     "timestamp": 1627919116239,
     "user": {
      "displayName": "deep ai",
      "photoUrl": "https://lh3.googleusercontent.com/a-/AOh14GjfZWDM3qKZbLd0FrGsKXwHUuK8gNMkFMIT4Ye8=s64",
      "userId": "00364258643751704926"
     },
     "user_tz": 300
    },
    "id": "dFQE43tQgoTS",
    "outputId": "f9b23e62-4be2-4d54-d19e-16378b3fa1d4",
    "ExecuteTime": {
     "end_time": "2024-02-23T14:24:02.183070Z",
     "start_time": "2024-02-23T14:22:56.735304Z"
    }
   },
   "outputs": [
    {
     "name": "stdout",
     "output_type": "stream",
     "text": [
      "Epoch 1/5\n",
      "188/188 - 15s - loss: 0.8089 - accuracy: 0.7998 - val_loss: 0.4483 - val_accuracy: 0.8797\n",
      "Epoch 2/5\n",
      "188/188 - 12s - loss: 0.3820 - accuracy: 0.8924 - val_loss: 0.3512 - val_accuracy: 0.9005\n",
      "Epoch 3/5\n",
      "188/188 - 12s - loss: 0.3201 - accuracy: 0.9072 - val_loss: 0.3149 - val_accuracy: 0.9089\n",
      "Epoch 4/5\n",
      "188/188 - 13s - loss: 0.2892 - accuracy: 0.9151 - val_loss: 0.2914 - val_accuracy: 0.9158\n",
      "Epoch 5/5\n",
      "188/188 - 13s - loss: 0.2685 - accuracy: 0.9208 - val_loss: 0.2741 - val_accuracy: 0.9213\n"
     ]
    },
    {
     "data": {
      "text/plain": "<tensorflow.python.keras.callbacks.History at 0x13566da90>"
     },
     "execution_count": 39,
     "metadata": {},
     "output_type": "execute_result"
    }
   ],
   "source": [
    "history_elu = history_loss()\n",
    "nn_elu.fit(image_train, label_train, epochs=n_epochs, batch_size=batch_size,\n",
    "                 callbacks=[history_elu], validation_split=validation_split, verbose=2)"
   ]
  },
  {
   "cell_type": "markdown",
   "metadata": {
    "id": "CmLeJWFqgoTS"
   },
   "source": [
    "## Plotting the losses:"
   ]
  },
  {
   "cell_type": "code",
   "execution_count": 41,
   "metadata": {
    "colab": {
     "base_uri": "https://localhost:8080/",
     "height": 295
    },
    "executionInfo": {
     "elapsed": 393,
     "status": "ok",
     "timestamp": 1627919116609,
     "user": {
      "displayName": "deep ai",
      "photoUrl": "https://lh3.googleusercontent.com/a-/AOh14GjfZWDM3qKZbLd0FrGsKXwHUuK8gNMkFMIT4Ye8=s64",
      "userId": "00364258643751704926"
     },
     "user_tz": 300
    },
    "id": "i73pxWV8goTT",
    "outputId": "aed732ba-b4a3-4d7d-960a-0f4d1f84d6e8",
    "ExecuteTime": {
     "end_time": "2024-02-23T14:28:48.354987Z",
     "start_time": "2024-02-23T14:28:46.035219Z"
    }
   },
   "outputs": [
    {
     "data": {
      "text/plain": "<Figure size 640x480 with 1 Axes>",
      "image/png": "[encoded data removed]"
     },
     "metadata": {},
     "output_type": "display_data"
    }
   ],
   "source": [
    "import matplotlib.pyplot as plt\n",
    "# % matplotlib inline\n",
    "plt.plot(np.arange(len(history_sigmoid.losses)),history_sigmoid.losses,label='sigmoid' )\n",
    "plt.plot(np.arange(len(history_relu.losses)),history_relu.losses ,label='relu' )\n",
    "plt.plot(np.arange(len(history_elu.losses)),history_elu.losses ,label='elu' )\n",
    "plt.title('Losses')\n",
    "plt.xlabel('number of batches')\n",
    "plt.legend(loc='best')\n",
    "plt.show()"
   ]
  }
 ],
 "metadata": {
  "accelerator": "GPU",
  "colab": {
   "collapsed_sections": [],
   "name": "Activation Functions - TF2.X.ipynb",
   "provenance": []
  },
  "kernelspec": {
   "display_name": "Python 3 (ipykernel)",
   "language": "python",
   "name": "python3"
  },
  "language_info": {
   "codemirror_mode": {
    "name": "ipython",
    "version": 3
   },
   "file_extension": ".py",
   "mimetype": "text/x-python",
   "name": "python",
   "nbconvert_exporter": "python",
   "pygments_lexer": "ipython3",
   "version": "3.11.2"
  }
 },
 "nbformat": 4,
 "nbformat_minor": 4
}
