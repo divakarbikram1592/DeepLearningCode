{
 "nbformat": 4,
 "nbformat_minor": 0,
 "metadata": {
  "colab": {
   "name": "Module 4_3 Dense Networks.ipynb",
   "provenance": []
  },
  "kernelspec": {
   "name": "python3",
   "language": "python",
   "display_name": "Python 3 (ipykernel)"
  }
 },
 "cells": [
  {
   "cell_type": "markdown",
   "metadata": {
    "id": "3IkmDKkbNMYY",
    "colab_type": "text"
   },
   "source": [
    "## Module 4.3: Dense Networks - Dense Blocks and Transition Blocks\n",
    "\n",
    "We will see how to create the basic building blocks for dense networks.\n",
    "\n",
    "We will:\n",
    "\n",
    "- Implement basic and condensing dense blocks of convolutional layers.\n",
    "- Implement transition blocks.\n",
    "- Create basic models and visually examine the residual architecture.\n",
    "\n",
    "Since we are looking at layers/blocks of layers rather than networks, we will not solve a problem in this module. However it is a good exercise for you to try on your own to make use of these ideas to improve the CNN performance from module 2.2"
   ]
  },
  {
   "cell_type": "markdown",
   "metadata": {
    "id": "ogg3fBYXNNdk",
    "colab_type": "text"
   },
   "source": [
    "We import the desired libraries."
   ]
  },
  {
   "cell_type": "code",
   "metadata": {
    "id": "f5-pBejyiIyZ",
    "colab_type": "code",
    "colab": {},
    "ExecuteTime": {
     "end_time": "2024-02-28T12:14:43.212740Z",
     "start_time": "2024-02-28T12:14:43.159060Z"
    }
   },
   "source": [
    "from keras.models import Model\n",
    "from keras.layers import Input,Conv2D,Flatten,Dense,Concatenate,MaxPool2D\n",
    "from keras.utils import plot_model"
   ],
   "execution_count": 4,
   "outputs": []
  },
  {
   "cell_type": "markdown",
   "metadata": {
    "id": "-Y56gybjNS8D",
    "colab_type": "text"
   },
   "source": [
    "We will start off with a basic dense block that will accumulate feature maps inside the block. As well as passing the input layer, we will specify the number of convolution layers and the number of filters (feature maps) each layer will generate.\n",
    "\n",
    "You can off course allow the caller much more control of the internals of this function by using additional arguments."
   ]
  },
  {
   "cell_type": "code",
   "metadata": {
    "id": "cL3td569iJF3",
    "colab_type": "code",
    "colab": {},
    "ExecuteTime": {
     "end_time": "2024-02-28T12:14:44.278589Z",
     "start_time": "2024-02-28T12:14:44.259198Z"
    }
   },
   "source": [
    "def simple_dense_block (layer_in,n,filters):\n",
    "  # Define first convolution layer\n",
    "  prev_layer = Conv2D(filters, (3,3), padding='same', activation='relu')(layer_in)\n",
    "    \n",
    "  for f in range(1,n):\n",
    "    # Define later convolution layers\n",
    "    conv = Conv2D(filters, (3,3), padding='same', activation='relu')(prev_layer)\n",
    "    # Define concatenation for skip connection (& update prev_layer)\n",
    "    # This will accumulate feature maps\n",
    "    prev_layer = Concatenate()([prev_layer, conv]) \n",
    "  \n",
    "  return prev_layer\n",
    "  "
   ],
   "execution_count": 5,
   "outputs": []
  },
  {
   "cell_type": "markdown",
   "metadata": {
    "id": "_s9T2gIviYzu",
    "colab_type": "text"
   },
   "source": [
    "Here we design a simple network using such a dense block, and plot the network architecture."
   ]
  },
  {
   "cell_type": "code",
   "metadata": {
    "id": "iN-t2MV8iJIX",
    "colab_type": "code",
    "outputId": "872f6abc-8026-456a-e379-c648c2739175",
    "executionInfo": {
     "status": "ok",
     "timestamp": 1572266591077,
     "user_tz": -60,
     "elapsed": 1643,
     "user": {
      "displayName": "Michael Ashcroft",
      "photoUrl": "https://lh3.googleusercontent.com/a-/AAuE7mAaRQqpOuFHR3D_ZulW6qlXPomIq5vZ-wR4ZuIm=s64",
      "userId": "16725792548700883920"
     }
    },
    "colab": {
     "base_uri": "https://localhost:8080/",
     "height": 1000
    },
    "ExecuteTime": {
     "end_time": "2024-02-28T12:15:51.540858Z",
     "start_time": "2024-02-28T12:14:45.383301Z"
    }
   },
   "source": [
    "# Define input\n",
    "inputs = Input(shape=(128, 128, 3))\n",
    "# Initial convolution layer\n",
    "conv = Conv2D(64, (3,3), padding='same', activation='relu')(inputs)    \n",
    "# Define dense block:\n",
    "# 6 layers, each adding 32 feature maps\n",
    "dense_block=simple_dense_block(conv,6,32)\n",
    "# Flatten for output\n",
    "flat = Flatten()(dense_block)\n",
    "dense1 = Dense(256, activation='relu')(flat)\n",
    "outputs = Dense(10, activation='softmax')(dense1)\n",
    "# Create model\n",
    "model1 = Model(inputs=inputs, outputs=outputs)\n",
    "# Summarize model\n",
    "model1.summary()\n",
    "# Plot model graph\n",
    "plot_model(model1, show_shapes=True, to_file='dense_module.png')"
   ],
   "execution_count": 6,
   "outputs": [
    {
     "name": "stdout",
     "output_type": "stream",
     "text": [
      "Model: \"model_1\"\n",
      "__________________________________________________________________________________________________\n",
      " Layer (type)                   Output Shape         Param #     Connected to                     \n",
      "==================================================================================================\n",
      " input_2 (InputLayer)           [(None, 128, 128, 3  0           []                               \n",
      "                                )]                                                                \n",
      "                                                                                                  \n",
      " conv2d_7 (Conv2D)              (None, 128, 128, 64  1792        ['input_2[0][0]']                \n",
      "                                )                                                                 \n",
      "                                                                                                  \n",
      " conv2d_8 (Conv2D)              (None, 128, 128, 32  18464       ['conv2d_7[0][0]']               \n",
      "                                )                                                                 \n",
      "                                                                                                  \n",
      " conv2d_9 (Conv2D)              (None, 128, 128, 32  9248        ['conv2d_8[0][0]']               \n",
      "                                )                                                                 \n",
      "                                                                                                  \n",
      " concatenate_5 (Concatenate)    (None, 128, 128, 64  0           ['conv2d_8[0][0]',               \n",
      "                                )                                 'conv2d_9[0][0]']               \n",
      "                                                                                                  \n",
      " conv2d_10 (Conv2D)             (None, 128, 128, 32  18464       ['concatenate_5[0][0]']          \n",
      "                                )                                                                 \n",
      "                                                                                                  \n",
      " concatenate_6 (Concatenate)    (None, 128, 128, 96  0           ['concatenate_5[0][0]',          \n",
      "                                )                                 'conv2d_10[0][0]']              \n",
      "                                                                                                  \n",
      " conv2d_11 (Conv2D)             (None, 128, 128, 32  27680       ['concatenate_6[0][0]']          \n",
      "                                )                                                                 \n",
      "                                                                                                  \n",
      " concatenate_7 (Concatenate)    (None, 128, 128, 12  0           ['concatenate_6[0][0]',          \n",
      "                                8)                                'conv2d_11[0][0]']              \n",
      "                                                                                                  \n",
      " conv2d_12 (Conv2D)             (None, 128, 128, 32  36896       ['concatenate_7[0][0]']          \n",
      "                                )                                                                 \n",
      "                                                                                                  \n",
      " concatenate_8 (Concatenate)    (None, 128, 128, 16  0           ['concatenate_7[0][0]',          \n",
      "                                0)                                'conv2d_12[0][0]']              \n",
      "                                                                                                  \n",
      " conv2d_13 (Conv2D)             (None, 128, 128, 32  46112       ['concatenate_8[0][0]']          \n",
      "                                )                                                                 \n",
      "                                                                                                  \n",
      " concatenate_9 (Concatenate)    (None, 128, 128, 19  0           ['concatenate_8[0][0]',          \n",
      "                                2)                                'conv2d_13[0][0]']              \n",
      "                                                                                                  \n",
      " flatten_1 (Flatten)            (None, 3145728)      0           ['concatenate_9[0][0]']          \n",
      "                                                                                                  \n",
      " dense_2 (Dense)                (None, 256)          805306624   ['flatten_1[0][0]']              \n",
      "                                                                                                  \n",
      " dense_3 (Dense)                (None, 10)           2570        ['dense_2[0][0]']                \n",
      "                                                                                                  \n",
      "==================================================================================================\n",
      "Total params: 805,467,850\n",
      "Trainable params: 805,467,850\n",
      "Non-trainable params: 0\n",
      "__________________________________________________________________________________________________\n"
     ]
    },
    {
     "ename": "AttributeError",
     "evalue": "module 'pydot' has no attribute 'InvocationException'",
     "output_type": "error",
     "traceback": [
      "\u001B[0;31m---------------------------------------------------------------------------\u001B[0m",
      "\u001B[0;31mFileNotFoundError\u001B[0m                         Traceback (most recent call last)",
      "File \u001B[0;32m~/Documents/Projects-Python/DeepLearningCode/lib/python3.11/site-packages/pydot/core.py:1753\u001B[0m, in \u001B[0;36mDot.create\u001B[0;34m(self, prog, format, encoding)\u001B[0m\n\u001B[1;32m   1752\u001B[0m \u001B[38;5;28;01mtry\u001B[39;00m:\n\u001B[0;32m-> 1753\u001B[0m     stdout_data, stderr_data, process \u001B[38;5;241m=\u001B[39m \u001B[43mcall_graphviz\u001B[49m\u001B[43m(\u001B[49m\n\u001B[1;32m   1754\u001B[0m \u001B[43m        \u001B[49m\u001B[43mprogram\u001B[49m\u001B[38;5;241;43m=\u001B[39;49m\u001B[43mprog\u001B[49m\u001B[43m,\u001B[49m\n\u001B[1;32m   1755\u001B[0m \u001B[43m        \u001B[49m\u001B[43marguments\u001B[49m\u001B[38;5;241;43m=\u001B[39;49m\u001B[43marguments\u001B[49m\u001B[43m,\u001B[49m\n\u001B[1;32m   1756\u001B[0m \u001B[43m        \u001B[49m\u001B[43mworking_dir\u001B[49m\u001B[38;5;241;43m=\u001B[39;49m\u001B[43mtmp_dir\u001B[49m\u001B[43m,\u001B[49m\n\u001B[1;32m   1757\u001B[0m \u001B[43m    \u001B[49m\u001B[43m)\u001B[49m\n\u001B[1;32m   1758\u001B[0m \u001B[38;5;28;01mexcept\u001B[39;00m \u001B[38;5;167;01mOSError\u001B[39;00m \u001B[38;5;28;01mas\u001B[39;00m e:\n",
      "File \u001B[0;32m~/Documents/Projects-Python/DeepLearningCode/lib/python3.11/site-packages/pydot/core.py:133\u001B[0m, in \u001B[0;36mcall_graphviz\u001B[0;34m(program, arguments, working_dir, **kwargs)\u001B[0m\n\u001B[1;32m    131\u001B[0m program_with_args \u001B[38;5;241m=\u001B[39m [program] \u001B[38;5;241m+\u001B[39m arguments\n\u001B[0;32m--> 133\u001B[0m process \u001B[38;5;241m=\u001B[39m \u001B[43msubprocess\u001B[49m\u001B[38;5;241;43m.\u001B[39;49m\u001B[43mPopen\u001B[49m\u001B[43m(\u001B[49m\n\u001B[1;32m    134\u001B[0m \u001B[43m    \u001B[49m\u001B[43mprogram_with_args\u001B[49m\u001B[43m,\u001B[49m\n\u001B[1;32m    135\u001B[0m \u001B[43m    \u001B[49m\u001B[43menv\u001B[49m\u001B[38;5;241;43m=\u001B[39;49m\u001B[43menv\u001B[49m\u001B[43m,\u001B[49m\n\u001B[1;32m    136\u001B[0m \u001B[43m    \u001B[49m\u001B[43mcwd\u001B[49m\u001B[38;5;241;43m=\u001B[39;49m\u001B[43mworking_dir\u001B[49m\u001B[43m,\u001B[49m\n\u001B[1;32m    137\u001B[0m \u001B[43m    \u001B[49m\u001B[43mshell\u001B[49m\u001B[38;5;241;43m=\u001B[39;49m\u001B[38;5;28;43;01mFalse\u001B[39;49;00m\u001B[43m,\u001B[49m\n\u001B[1;32m    138\u001B[0m \u001B[43m    \u001B[49m\u001B[43mstderr\u001B[49m\u001B[38;5;241;43m=\u001B[39;49m\u001B[43msubprocess\u001B[49m\u001B[38;5;241;43m.\u001B[39;49m\u001B[43mPIPE\u001B[49m\u001B[43m,\u001B[49m\n\u001B[1;32m    139\u001B[0m \u001B[43m    \u001B[49m\u001B[43mstdout\u001B[49m\u001B[38;5;241;43m=\u001B[39;49m\u001B[43msubprocess\u001B[49m\u001B[38;5;241;43m.\u001B[39;49m\u001B[43mPIPE\u001B[49m\u001B[43m,\u001B[49m\n\u001B[1;32m    140\u001B[0m \u001B[43m    \u001B[49m\u001B[38;5;241;43m*\u001B[39;49m\u001B[38;5;241;43m*\u001B[39;49m\u001B[43mkwargs\u001B[49m\u001B[43m,\u001B[49m\n\u001B[1;32m    141\u001B[0m \u001B[43m\u001B[49m\u001B[43m)\u001B[49m\n\u001B[1;32m    142\u001B[0m stdout_data, stderr_data \u001B[38;5;241m=\u001B[39m process\u001B[38;5;241m.\u001B[39mcommunicate()\n",
      "File \u001B[0;32m/Library/Frameworks/Python.framework/Versions/3.11/lib/python3.11/subprocess.py:1024\u001B[0m, in \u001B[0;36mPopen.__init__\u001B[0;34m(self, args, bufsize, executable, stdin, stdout, stderr, preexec_fn, close_fds, shell, cwd, env, universal_newlines, startupinfo, creationflags, restore_signals, start_new_session, pass_fds, user, group, extra_groups, encoding, errors, text, umask, pipesize, process_group)\u001B[0m\n\u001B[1;32m   1021\u001B[0m             \u001B[38;5;28mself\u001B[39m\u001B[38;5;241m.\u001B[39mstderr \u001B[38;5;241m=\u001B[39m io\u001B[38;5;241m.\u001B[39mTextIOWrapper(\u001B[38;5;28mself\u001B[39m\u001B[38;5;241m.\u001B[39mstderr,\n\u001B[1;32m   1022\u001B[0m                     encoding\u001B[38;5;241m=\u001B[39mencoding, errors\u001B[38;5;241m=\u001B[39merrors)\n\u001B[0;32m-> 1024\u001B[0m     \u001B[38;5;28;43mself\u001B[39;49m\u001B[38;5;241;43m.\u001B[39;49m\u001B[43m_execute_child\u001B[49m\u001B[43m(\u001B[49m\u001B[43margs\u001B[49m\u001B[43m,\u001B[49m\u001B[43m \u001B[49m\u001B[43mexecutable\u001B[49m\u001B[43m,\u001B[49m\u001B[43m \u001B[49m\u001B[43mpreexec_fn\u001B[49m\u001B[43m,\u001B[49m\u001B[43m \u001B[49m\u001B[43mclose_fds\u001B[49m\u001B[43m,\u001B[49m\n\u001B[1;32m   1025\u001B[0m \u001B[43m                        \u001B[49m\u001B[43mpass_fds\u001B[49m\u001B[43m,\u001B[49m\u001B[43m \u001B[49m\u001B[43mcwd\u001B[49m\u001B[43m,\u001B[49m\u001B[43m \u001B[49m\u001B[43menv\u001B[49m\u001B[43m,\u001B[49m\n\u001B[1;32m   1026\u001B[0m \u001B[43m                        \u001B[49m\u001B[43mstartupinfo\u001B[49m\u001B[43m,\u001B[49m\u001B[43m \u001B[49m\u001B[43mcreationflags\u001B[49m\u001B[43m,\u001B[49m\u001B[43m \u001B[49m\u001B[43mshell\u001B[49m\u001B[43m,\u001B[49m\n\u001B[1;32m   1027\u001B[0m \u001B[43m                        \u001B[49m\u001B[43mp2cread\u001B[49m\u001B[43m,\u001B[49m\u001B[43m \u001B[49m\u001B[43mp2cwrite\u001B[49m\u001B[43m,\u001B[49m\n\u001B[1;32m   1028\u001B[0m \u001B[43m                        \u001B[49m\u001B[43mc2pread\u001B[49m\u001B[43m,\u001B[49m\u001B[43m \u001B[49m\u001B[43mc2pwrite\u001B[49m\u001B[43m,\u001B[49m\n\u001B[1;32m   1029\u001B[0m \u001B[43m                        \u001B[49m\u001B[43merrread\u001B[49m\u001B[43m,\u001B[49m\u001B[43m \u001B[49m\u001B[43merrwrite\u001B[49m\u001B[43m,\u001B[49m\n\u001B[1;32m   1030\u001B[0m \u001B[43m                        \u001B[49m\u001B[43mrestore_signals\u001B[49m\u001B[43m,\u001B[49m\n\u001B[1;32m   1031\u001B[0m \u001B[43m                        \u001B[49m\u001B[43mgid\u001B[49m\u001B[43m,\u001B[49m\u001B[43m \u001B[49m\u001B[43mgids\u001B[49m\u001B[43m,\u001B[49m\u001B[43m \u001B[49m\u001B[43muid\u001B[49m\u001B[43m,\u001B[49m\u001B[43m \u001B[49m\u001B[43mumask\u001B[49m\u001B[43m,\u001B[49m\n\u001B[1;32m   1032\u001B[0m \u001B[43m                        \u001B[49m\u001B[43mstart_new_session\u001B[49m\u001B[43m,\u001B[49m\u001B[43m \u001B[49m\u001B[43mprocess_group\u001B[49m\u001B[43m)\u001B[49m\n\u001B[1;32m   1033\u001B[0m \u001B[38;5;28;01mexcept\u001B[39;00m:\n\u001B[1;32m   1034\u001B[0m     \u001B[38;5;66;03m# Cleanup if the child failed starting.\u001B[39;00m\n",
      "File \u001B[0;32m/Library/Frameworks/Python.framework/Versions/3.11/lib/python3.11/subprocess.py:1901\u001B[0m, in \u001B[0;36mPopen._execute_child\u001B[0;34m(self, args, executable, preexec_fn, close_fds, pass_fds, cwd, env, startupinfo, creationflags, shell, p2cread, p2cwrite, c2pread, c2pwrite, errread, errwrite, restore_signals, gid, gids, uid, umask, start_new_session, process_group)\u001B[0m\n\u001B[1;32m   1900\u001B[0m         err_msg \u001B[38;5;241m=\u001B[39m os\u001B[38;5;241m.\u001B[39mstrerror(errno_num)\n\u001B[0;32m-> 1901\u001B[0m     \u001B[38;5;28;01mraise\u001B[39;00m child_exception_type(errno_num, err_msg, err_filename)\n\u001B[1;32m   1902\u001B[0m \u001B[38;5;28;01mraise\u001B[39;00m child_exception_type(err_msg)\n",
      "\u001B[0;31mFileNotFoundError\u001B[0m: [Errno 2] No such file or directory: 'dot'",
      "\nDuring handling of the above exception, another exception occurred:\n",
      "\u001B[0;31mFileNotFoundError\u001B[0m                         Traceback (most recent call last)",
      "File \u001B[0;32m~/Documents/Projects-Python/DeepLearningCode/lib/python3.11/site-packages/keras/utils/vis_utils.py:57\u001B[0m, in \u001B[0;36mcheck_graphviz\u001B[0;34m()\u001B[0m\n\u001B[1;32m     54\u001B[0m \u001B[38;5;28;01mtry\u001B[39;00m:\n\u001B[1;32m     55\u001B[0m     \u001B[38;5;66;03m# Attempt to create an image of a blank graph\u001B[39;00m\n\u001B[1;32m     56\u001B[0m     \u001B[38;5;66;03m# to check the pydot/graphviz installation.\u001B[39;00m\n\u001B[0;32m---> 57\u001B[0m     \u001B[43mpydot\u001B[49m\u001B[38;5;241;43m.\u001B[39;49m\u001B[43mDot\u001B[49m\u001B[38;5;241;43m.\u001B[39;49m\u001B[43mcreate\u001B[49m\u001B[43m(\u001B[49m\u001B[43mpydot\u001B[49m\u001B[38;5;241;43m.\u001B[39;49m\u001B[43mDot\u001B[49m\u001B[43m(\u001B[49m\u001B[43m)\u001B[49m\u001B[43m)\u001B[49m\n\u001B[1;32m     58\u001B[0m     \u001B[38;5;28;01mreturn\u001B[39;00m \u001B[38;5;28;01mTrue\u001B[39;00m\n",
      "File \u001B[0;32m~/Documents/Projects-Python/DeepLearningCode/lib/python3.11/site-packages/pydot/core.py:1762\u001B[0m, in \u001B[0;36mDot.create\u001B[0;34m(self, prog, format, encoding)\u001B[0m\n\u001B[1;32m   1761\u001B[0m     args[\u001B[38;5;241m1\u001B[39m] \u001B[38;5;241m=\u001B[39m \u001B[38;5;124m'\u001B[39m\u001B[38;5;124m\"\u001B[39m\u001B[38;5;132;01m{prog}\u001B[39;00m\u001B[38;5;124m\"\u001B[39m\u001B[38;5;124m not found in path.\u001B[39m\u001B[38;5;124m'\u001B[39m\u001B[38;5;241m.\u001B[39mformat(prog\u001B[38;5;241m=\u001B[39mprog)\n\u001B[0;32m-> 1762\u001B[0m     \u001B[38;5;28;01mraise\u001B[39;00m \u001B[38;5;167;01mOSError\u001B[39;00m(\u001B[38;5;241m*\u001B[39margs)\n\u001B[1;32m   1763\u001B[0m \u001B[38;5;28;01melse\u001B[39;00m:\n",
      "\u001B[0;31mFileNotFoundError\u001B[0m: [Errno 2] \"dot\" not found in path.",
      "\nDuring handling of the above exception, another exception occurred:\n",
      "\u001B[0;31mAttributeError\u001B[0m                            Traceback (most recent call last)",
      "Cell \u001B[0;32mIn[6], line 17\u001B[0m\n\u001B[1;32m     15\u001B[0m model1\u001B[38;5;241m.\u001B[39msummary()\n\u001B[1;32m     16\u001B[0m \u001B[38;5;66;03m# Plot model graph\u001B[39;00m\n\u001B[0;32m---> 17\u001B[0m \u001B[43mplot_model\u001B[49m\u001B[43m(\u001B[49m\u001B[43mmodel1\u001B[49m\u001B[43m,\u001B[49m\u001B[43m \u001B[49m\u001B[43mshow_shapes\u001B[49m\u001B[38;5;241;43m=\u001B[39;49m\u001B[38;5;28;43;01mTrue\u001B[39;49;00m\u001B[43m,\u001B[49m\u001B[43m \u001B[49m\u001B[43mto_file\u001B[49m\u001B[38;5;241;43m=\u001B[39;49m\u001B[38;5;124;43m'\u001B[39;49m\u001B[38;5;124;43mdense_module.png\u001B[39;49m\u001B[38;5;124;43m'\u001B[39;49m\u001B[43m)\u001B[49m\n",
      "File \u001B[0;32m~/Documents/Projects-Python/DeepLearningCode/lib/python3.11/site-packages/keras/utils/vis_utils.py:451\u001B[0m, in \u001B[0;36mplot_model\u001B[0;34m(model, to_file, show_shapes, show_dtype, show_layer_names, rankdir, expand_nested, dpi, layer_range, show_layer_activations, show_trainable)\u001B[0m\n\u001B[1;32m    444\u001B[0m \u001B[38;5;28;01mif\u001B[39;00m \u001B[38;5;129;01mnot\u001B[39;00m model\u001B[38;5;241m.\u001B[39mbuilt:\n\u001B[1;32m    445\u001B[0m     \u001B[38;5;28;01mraise\u001B[39;00m \u001B[38;5;167;01mValueError\u001B[39;00m(\n\u001B[1;32m    446\u001B[0m         \u001B[38;5;124m\"\u001B[39m\u001B[38;5;124mThis model has not yet been built. \u001B[39m\u001B[38;5;124m\"\u001B[39m\n\u001B[1;32m    447\u001B[0m         \u001B[38;5;124m\"\u001B[39m\u001B[38;5;124mBuild the model first by calling `build()` or by calling \u001B[39m\u001B[38;5;124m\"\u001B[39m\n\u001B[1;32m    448\u001B[0m         \u001B[38;5;124m\"\u001B[39m\u001B[38;5;124mthe model on a batch of data.\u001B[39m\u001B[38;5;124m\"\u001B[39m\n\u001B[1;32m    449\u001B[0m     )\n\u001B[0;32m--> 451\u001B[0m \u001B[38;5;28;01mif\u001B[39;00m \u001B[38;5;129;01mnot\u001B[39;00m \u001B[43mcheck_graphviz\u001B[49m\u001B[43m(\u001B[49m\u001B[43m)\u001B[49m:\n\u001B[1;32m    452\u001B[0m     message \u001B[38;5;241m=\u001B[39m (\n\u001B[1;32m    453\u001B[0m         \u001B[38;5;124m\"\u001B[39m\u001B[38;5;124mYou must install pydot (`pip install pydot`) \u001B[39m\u001B[38;5;124m\"\u001B[39m\n\u001B[1;32m    454\u001B[0m         \u001B[38;5;124m\"\u001B[39m\u001B[38;5;124mand install graphviz \u001B[39m\u001B[38;5;124m\"\u001B[39m\n\u001B[1;32m    455\u001B[0m         \u001B[38;5;124m\"\u001B[39m\u001B[38;5;124m(see instructions at https://graphviz.gitlab.io/download/) \u001B[39m\u001B[38;5;124m\"\u001B[39m\n\u001B[1;32m    456\u001B[0m         \u001B[38;5;124m\"\u001B[39m\u001B[38;5;124mfor plot_model to work.\u001B[39m\u001B[38;5;124m\"\u001B[39m\n\u001B[1;32m    457\u001B[0m     )\n\u001B[1;32m    458\u001B[0m     \u001B[38;5;28;01mif\u001B[39;00m \u001B[38;5;124m\"\u001B[39m\u001B[38;5;124mIPython.core.magics.namespace\u001B[39m\u001B[38;5;124m\"\u001B[39m \u001B[38;5;129;01min\u001B[39;00m sys\u001B[38;5;241m.\u001B[39mmodules:\n\u001B[1;32m    459\u001B[0m         \u001B[38;5;66;03m# We don't raise an exception here in order to avoid crashing\u001B[39;00m\n\u001B[1;32m    460\u001B[0m         \u001B[38;5;66;03m# notebook tests where graphviz is not available.\u001B[39;00m\n",
      "File \u001B[0;32m~/Documents/Projects-Python/DeepLearningCode/lib/python3.11/site-packages/keras/utils/vis_utils.py:59\u001B[0m, in \u001B[0;36mcheck_graphviz\u001B[0;34m()\u001B[0m\n\u001B[1;32m     57\u001B[0m     pydot\u001B[38;5;241m.\u001B[39mDot\u001B[38;5;241m.\u001B[39mcreate(pydot\u001B[38;5;241m.\u001B[39mDot())\n\u001B[1;32m     58\u001B[0m     \u001B[38;5;28;01mreturn\u001B[39;00m \u001B[38;5;28;01mTrue\u001B[39;00m\n\u001B[0;32m---> 59\u001B[0m \u001B[38;5;28;01mexcept\u001B[39;00m (\u001B[38;5;167;01mOSError\u001B[39;00m, \u001B[43mpydot\u001B[49m\u001B[38;5;241;43m.\u001B[39;49m\u001B[43mInvocationException\u001B[49m):\n\u001B[1;32m     60\u001B[0m     \u001B[38;5;28;01mreturn\u001B[39;00m \u001B[38;5;28;01mFalse\u001B[39;00m\n",
      "\u001B[0;31mAttributeError\u001B[0m: module 'pydot' has no attribute 'InvocationException'"
     ]
    }
   ]
  },
  {
   "cell_type": "markdown",
   "metadata": {
    "id": "pIetidgHZM2G",
    "colab_type": "text"
   },
   "source": [
    "Now let's add a 1x1 filter to compress the number of input channels each convolution layer is working with inside our dense block."
   ]
  },
  {
   "cell_type": "code",
   "metadata": {
    "id": "nq0Cl0LgZNAh",
    "colab_type": "code",
    "colab": {},
    "ExecuteTime": {
     "end_time": "2024-02-28T12:16:29.376227Z",
     "start_time": "2024-02-28T12:16:29.373627Z"
    }
   },
   "source": [
    "def condensed_dense_block (layer_in,n,filters,condense_size):\n",
    "  # Define first 1x1 condensation layer plus convolution layer\n",
    "  merged = Conv2D(condense_size,(1,1),activation='relu')(layer_in)\n",
    "  prev_layer = Conv2D(filters, (3,3), padding='same', activation='relu')(merged)\n",
    "    \n",
    "  for f in range(1,n):\n",
    "    # Define later 1x1 condensation layer plus convolution layer\n",
    "    merged = Conv2D(condense_size,(1,1),activation='relu')(prev_layer)\n",
    "    conv = Conv2D(filters, (3,3), padding='same', activation='relu')(merged)\n",
    "    # Define concatenation for skip connection (& update prev_layer)\n",
    "    # This will accumulate feature maps\n",
    "    prev_layer = Concatenate()([prev_layer, conv]) \n",
    "  \n",
    "  return prev_layer"
   ],
   "execution_count": 7,
   "outputs": []
  },
  {
   "cell_type": "markdown",
   "metadata": {
    "id": "qqPnYUuvZNLs",
    "colab_type": "text"
   },
   "source": [
    "And again we design a simple network using the new condensed_dense_block wrapper function so we can plot the network architecture."
   ]
  },
  {
   "cell_type": "code",
   "metadata": {
    "id": "K3vQ0aZyZNU0",
    "colab_type": "code",
    "outputId": "ad00f44d-b09c-4791-b71f-0d4fdb490f16",
    "executionInfo": {
     "status": "ok",
     "timestamp": 1572267064650,
     "user_tz": -60,
     "elapsed": 1474,
     "user": {
      "displayName": "Michael Ashcroft",
      "photoUrl": "https://lh3.googleusercontent.com/a-/AAuE7mAaRQqpOuFHR3D_ZulW6qlXPomIq5vZ-wR4ZuIm=s64",
      "userId": "16725792548700883920"
     }
    },
    "colab": {
     "base_uri": "https://localhost:8080/",
     "height": 1000
    },
    "ExecuteTime": {
     "end_time": "2024-02-28T12:17:41.651504Z",
     "start_time": "2024-02-28T12:16:30.384545Z"
    }
   },
   "source": [
    "# Define input\n",
    "inputs = Input(shape=(128, 128, 3))\n",
    "# Initial convolution layer\n",
    "conv = Conv2D(64, (3,3), padding='same', activation='relu')(inputs)    \n",
    "# Define dense block:\n",
    "# 6 layers, each adding 32 feature maps\n",
    "dense_block=condensed_dense_block(conv,6,32,64)\n",
    "# Flatten for output\n",
    "flat = Flatten()(dense_block)\n",
    "dense1 = Dense(256, activation='relu')(flat)\n",
    "outputs = Dense(10, activation='softmax')(dense1)\n",
    "# Create model\n",
    "model1 = Model(inputs=inputs, outputs=outputs)\n",
    "# Summarize model\n",
    "model1.summary()\n",
    "# Plot model graph\n",
    "plot_model(model1, show_shapes=True, to_file='dense_module.png')"
   ],
   "execution_count": 8,
   "outputs": [
    {
     "name": "stdout",
     "output_type": "stream",
     "text": [
      "Model: \"model_2\"\n",
      "__________________________________________________________________________________________________\n",
      " Layer (type)                   Output Shape         Param #     Connected to                     \n",
      "==================================================================================================\n",
      " input_3 (InputLayer)           [(None, 128, 128, 3  0           []                               \n",
      "                                )]                                                                \n",
      "                                                                                                  \n",
      " conv2d_14 (Conv2D)             (None, 128, 128, 64  1792        ['input_3[0][0]']                \n",
      "                                )                                                                 \n",
      "                                                                                                  \n",
      " conv2d_15 (Conv2D)             (None, 128, 128, 64  4160        ['conv2d_14[0][0]']              \n",
      "                                )                                                                 \n",
      "                                                                                                  \n",
      " conv2d_16 (Conv2D)             (None, 128, 128, 32  18464       ['conv2d_15[0][0]']              \n",
      "                                )                                                                 \n",
      "                                                                                                  \n",
      " conv2d_17 (Conv2D)             (None, 128, 128, 64  2112        ['conv2d_16[0][0]']              \n",
      "                                )                                                                 \n",
      "                                                                                                  \n",
      " conv2d_18 (Conv2D)             (None, 128, 128, 32  18464       ['conv2d_17[0][0]']              \n",
      "                                )                                                                 \n",
      "                                                                                                  \n",
      " concatenate_10 (Concatenate)   (None, 128, 128, 64  0           ['conv2d_16[0][0]',              \n",
      "                                )                                 'conv2d_18[0][0]']              \n",
      "                                                                                                  \n",
      " conv2d_19 (Conv2D)             (None, 128, 128, 64  4160        ['concatenate_10[0][0]']         \n",
      "                                )                                                                 \n",
      "                                                                                                  \n",
      " conv2d_20 (Conv2D)             (None, 128, 128, 32  18464       ['conv2d_19[0][0]']              \n",
      "                                )                                                                 \n",
      "                                                                                                  \n",
      " concatenate_11 (Concatenate)   (None, 128, 128, 96  0           ['concatenate_10[0][0]',         \n",
      "                                )                                 'conv2d_20[0][0]']              \n",
      "                                                                                                  \n",
      " conv2d_21 (Conv2D)             (None, 128, 128, 64  6208        ['concatenate_11[0][0]']         \n",
      "                                )                                                                 \n",
      "                                                                                                  \n",
      " conv2d_22 (Conv2D)             (None, 128, 128, 32  18464       ['conv2d_21[0][0]']              \n",
      "                                )                                                                 \n",
      "                                                                                                  \n",
      " concatenate_12 (Concatenate)   (None, 128, 128, 12  0           ['concatenate_11[0][0]',         \n",
      "                                8)                                'conv2d_22[0][0]']              \n",
      "                                                                                                  \n",
      " conv2d_23 (Conv2D)             (None, 128, 128, 64  8256        ['concatenate_12[0][0]']         \n",
      "                                )                                                                 \n",
      "                                                                                                  \n",
      " conv2d_24 (Conv2D)             (None, 128, 128, 32  18464       ['conv2d_23[0][0]']              \n",
      "                                )                                                                 \n",
      "                                                                                                  \n",
      " concatenate_13 (Concatenate)   (None, 128, 128, 16  0           ['concatenate_12[0][0]',         \n",
      "                                0)                                'conv2d_24[0][0]']              \n",
      "                                                                                                  \n",
      " conv2d_25 (Conv2D)             (None, 128, 128, 64  10304       ['concatenate_13[0][0]']         \n",
      "                                )                                                                 \n",
      "                                                                                                  \n",
      " conv2d_26 (Conv2D)             (None, 128, 128, 32  18464       ['conv2d_25[0][0]']              \n",
      "                                )                                                                 \n",
      "                                                                                                  \n",
      " concatenate_14 (Concatenate)   (None, 128, 128, 19  0           ['concatenate_13[0][0]',         \n",
      "                                2)                                'conv2d_26[0][0]']              \n",
      "                                                                                                  \n",
      " flatten_2 (Flatten)            (None, 3145728)      0           ['concatenate_14[0][0]']         \n",
      "                                                                                                  \n",
      " dense_4 (Dense)                (None, 256)          805306624   ['flatten_2[0][0]']              \n",
      "                                                                                                  \n",
      " dense_5 (Dense)                (None, 10)           2570        ['dense_4[0][0]']                \n",
      "                                                                                                  \n",
      "==================================================================================================\n",
      "Total params: 805,456,970\n",
      "Trainable params: 805,456,970\n",
      "Non-trainable params: 0\n",
      "__________________________________________________________________________________________________\n"
     ]
    },
    {
     "ename": "AttributeError",
     "evalue": "module 'pydot' has no attribute 'InvocationException'",
     "output_type": "error",
     "traceback": [
      "\u001B[0;31m---------------------------------------------------------------------------\u001B[0m",
      "\u001B[0;31mFileNotFoundError\u001B[0m                         Traceback (most recent call last)",
      "File \u001B[0;32m~/Documents/Projects-Python/DeepLearningCode/lib/python3.11/site-packages/pydot/core.py:1753\u001B[0m, in \u001B[0;36mDot.create\u001B[0;34m(self, prog, format, encoding)\u001B[0m\n\u001B[1;32m   1752\u001B[0m \u001B[38;5;28;01mtry\u001B[39;00m:\n\u001B[0;32m-> 1753\u001B[0m     stdout_data, stderr_data, process \u001B[38;5;241m=\u001B[39m \u001B[43mcall_graphviz\u001B[49m\u001B[43m(\u001B[49m\n\u001B[1;32m   1754\u001B[0m \u001B[43m        \u001B[49m\u001B[43mprogram\u001B[49m\u001B[38;5;241;43m=\u001B[39;49m\u001B[43mprog\u001B[49m\u001B[43m,\u001B[49m\n\u001B[1;32m   1755\u001B[0m \u001B[43m        \u001B[49m\u001B[43marguments\u001B[49m\u001B[38;5;241;43m=\u001B[39;49m\u001B[43marguments\u001B[49m\u001B[43m,\u001B[49m\n\u001B[1;32m   1756\u001B[0m \u001B[43m        \u001B[49m\u001B[43mworking_dir\u001B[49m\u001B[38;5;241;43m=\u001B[39;49m\u001B[43mtmp_dir\u001B[49m\u001B[43m,\u001B[49m\n\u001B[1;32m   1757\u001B[0m \u001B[43m    \u001B[49m\u001B[43m)\u001B[49m\n\u001B[1;32m   1758\u001B[0m \u001B[38;5;28;01mexcept\u001B[39;00m \u001B[38;5;167;01mOSError\u001B[39;00m \u001B[38;5;28;01mas\u001B[39;00m e:\n",
      "File \u001B[0;32m~/Documents/Projects-Python/DeepLearningCode/lib/python3.11/site-packages/pydot/core.py:133\u001B[0m, in \u001B[0;36mcall_graphviz\u001B[0;34m(program, arguments, working_dir, **kwargs)\u001B[0m\n\u001B[1;32m    131\u001B[0m program_with_args \u001B[38;5;241m=\u001B[39m [program] \u001B[38;5;241m+\u001B[39m arguments\n\u001B[0;32m--> 133\u001B[0m process \u001B[38;5;241m=\u001B[39m \u001B[43msubprocess\u001B[49m\u001B[38;5;241;43m.\u001B[39;49m\u001B[43mPopen\u001B[49m\u001B[43m(\u001B[49m\n\u001B[1;32m    134\u001B[0m \u001B[43m    \u001B[49m\u001B[43mprogram_with_args\u001B[49m\u001B[43m,\u001B[49m\n\u001B[1;32m    135\u001B[0m \u001B[43m    \u001B[49m\u001B[43menv\u001B[49m\u001B[38;5;241;43m=\u001B[39;49m\u001B[43menv\u001B[49m\u001B[43m,\u001B[49m\n\u001B[1;32m    136\u001B[0m \u001B[43m    \u001B[49m\u001B[43mcwd\u001B[49m\u001B[38;5;241;43m=\u001B[39;49m\u001B[43mworking_dir\u001B[49m\u001B[43m,\u001B[49m\n\u001B[1;32m    137\u001B[0m \u001B[43m    \u001B[49m\u001B[43mshell\u001B[49m\u001B[38;5;241;43m=\u001B[39;49m\u001B[38;5;28;43;01mFalse\u001B[39;49;00m\u001B[43m,\u001B[49m\n\u001B[1;32m    138\u001B[0m \u001B[43m    \u001B[49m\u001B[43mstderr\u001B[49m\u001B[38;5;241;43m=\u001B[39;49m\u001B[43msubprocess\u001B[49m\u001B[38;5;241;43m.\u001B[39;49m\u001B[43mPIPE\u001B[49m\u001B[43m,\u001B[49m\n\u001B[1;32m    139\u001B[0m \u001B[43m    \u001B[49m\u001B[43mstdout\u001B[49m\u001B[38;5;241;43m=\u001B[39;49m\u001B[43msubprocess\u001B[49m\u001B[38;5;241;43m.\u001B[39;49m\u001B[43mPIPE\u001B[49m\u001B[43m,\u001B[49m\n\u001B[1;32m    140\u001B[0m \u001B[43m    \u001B[49m\u001B[38;5;241;43m*\u001B[39;49m\u001B[38;5;241;43m*\u001B[39;49m\u001B[43mkwargs\u001B[49m\u001B[43m,\u001B[49m\n\u001B[1;32m    141\u001B[0m \u001B[43m\u001B[49m\u001B[43m)\u001B[49m\n\u001B[1;32m    142\u001B[0m stdout_data, stderr_data \u001B[38;5;241m=\u001B[39m process\u001B[38;5;241m.\u001B[39mcommunicate()\n",
      "File \u001B[0;32m/Library/Frameworks/Python.framework/Versions/3.11/lib/python3.11/subprocess.py:1024\u001B[0m, in \u001B[0;36mPopen.__init__\u001B[0;34m(self, args, bufsize, executable, stdin, stdout, stderr, preexec_fn, close_fds, shell, cwd, env, universal_newlines, startupinfo, creationflags, restore_signals, start_new_session, pass_fds, user, group, extra_groups, encoding, errors, text, umask, pipesize, process_group)\u001B[0m\n\u001B[1;32m   1021\u001B[0m             \u001B[38;5;28mself\u001B[39m\u001B[38;5;241m.\u001B[39mstderr \u001B[38;5;241m=\u001B[39m io\u001B[38;5;241m.\u001B[39mTextIOWrapper(\u001B[38;5;28mself\u001B[39m\u001B[38;5;241m.\u001B[39mstderr,\n\u001B[1;32m   1022\u001B[0m                     encoding\u001B[38;5;241m=\u001B[39mencoding, errors\u001B[38;5;241m=\u001B[39merrors)\n\u001B[0;32m-> 1024\u001B[0m     \u001B[38;5;28;43mself\u001B[39;49m\u001B[38;5;241;43m.\u001B[39;49m\u001B[43m_execute_child\u001B[49m\u001B[43m(\u001B[49m\u001B[43margs\u001B[49m\u001B[43m,\u001B[49m\u001B[43m \u001B[49m\u001B[43mexecutable\u001B[49m\u001B[43m,\u001B[49m\u001B[43m \u001B[49m\u001B[43mpreexec_fn\u001B[49m\u001B[43m,\u001B[49m\u001B[43m \u001B[49m\u001B[43mclose_fds\u001B[49m\u001B[43m,\u001B[49m\n\u001B[1;32m   1025\u001B[0m \u001B[43m                        \u001B[49m\u001B[43mpass_fds\u001B[49m\u001B[43m,\u001B[49m\u001B[43m \u001B[49m\u001B[43mcwd\u001B[49m\u001B[43m,\u001B[49m\u001B[43m \u001B[49m\u001B[43menv\u001B[49m\u001B[43m,\u001B[49m\n\u001B[1;32m   1026\u001B[0m \u001B[43m                        \u001B[49m\u001B[43mstartupinfo\u001B[49m\u001B[43m,\u001B[49m\u001B[43m \u001B[49m\u001B[43mcreationflags\u001B[49m\u001B[43m,\u001B[49m\u001B[43m \u001B[49m\u001B[43mshell\u001B[49m\u001B[43m,\u001B[49m\n\u001B[1;32m   1027\u001B[0m \u001B[43m                        \u001B[49m\u001B[43mp2cread\u001B[49m\u001B[43m,\u001B[49m\u001B[43m \u001B[49m\u001B[43mp2cwrite\u001B[49m\u001B[43m,\u001B[49m\n\u001B[1;32m   1028\u001B[0m \u001B[43m                        \u001B[49m\u001B[43mc2pread\u001B[49m\u001B[43m,\u001B[49m\u001B[43m \u001B[49m\u001B[43mc2pwrite\u001B[49m\u001B[43m,\u001B[49m\n\u001B[1;32m   1029\u001B[0m \u001B[43m                        \u001B[49m\u001B[43merrread\u001B[49m\u001B[43m,\u001B[49m\u001B[43m \u001B[49m\u001B[43merrwrite\u001B[49m\u001B[43m,\u001B[49m\n\u001B[1;32m   1030\u001B[0m \u001B[43m                        \u001B[49m\u001B[43mrestore_signals\u001B[49m\u001B[43m,\u001B[49m\n\u001B[1;32m   1031\u001B[0m \u001B[43m                        \u001B[49m\u001B[43mgid\u001B[49m\u001B[43m,\u001B[49m\u001B[43m \u001B[49m\u001B[43mgids\u001B[49m\u001B[43m,\u001B[49m\u001B[43m \u001B[49m\u001B[43muid\u001B[49m\u001B[43m,\u001B[49m\u001B[43m \u001B[49m\u001B[43mumask\u001B[49m\u001B[43m,\u001B[49m\n\u001B[1;32m   1032\u001B[0m \u001B[43m                        \u001B[49m\u001B[43mstart_new_session\u001B[49m\u001B[43m,\u001B[49m\u001B[43m \u001B[49m\u001B[43mprocess_group\u001B[49m\u001B[43m)\u001B[49m\n\u001B[1;32m   1033\u001B[0m \u001B[38;5;28;01mexcept\u001B[39;00m:\n\u001B[1;32m   1034\u001B[0m     \u001B[38;5;66;03m# Cleanup if the child failed starting.\u001B[39;00m\n",
      "File \u001B[0;32m/Library/Frameworks/Python.framework/Versions/3.11/lib/python3.11/subprocess.py:1901\u001B[0m, in \u001B[0;36mPopen._execute_child\u001B[0;34m(self, args, executable, preexec_fn, close_fds, pass_fds, cwd, env, startupinfo, creationflags, shell, p2cread, p2cwrite, c2pread, c2pwrite, errread, errwrite, restore_signals, gid, gids, uid, umask, start_new_session, process_group)\u001B[0m\n\u001B[1;32m   1900\u001B[0m         err_msg \u001B[38;5;241m=\u001B[39m os\u001B[38;5;241m.\u001B[39mstrerror(errno_num)\n\u001B[0;32m-> 1901\u001B[0m     \u001B[38;5;28;01mraise\u001B[39;00m child_exception_type(errno_num, err_msg, err_filename)\n\u001B[1;32m   1902\u001B[0m \u001B[38;5;28;01mraise\u001B[39;00m child_exception_type(err_msg)\n",
      "\u001B[0;31mFileNotFoundError\u001B[0m: [Errno 2] No such file or directory: 'dot'",
      "\nDuring handling of the above exception, another exception occurred:\n",
      "\u001B[0;31mFileNotFoundError\u001B[0m                         Traceback (most recent call last)",
      "File \u001B[0;32m~/Documents/Projects-Python/DeepLearningCode/lib/python3.11/site-packages/keras/utils/vis_utils.py:57\u001B[0m, in \u001B[0;36mcheck_graphviz\u001B[0;34m()\u001B[0m\n\u001B[1;32m     54\u001B[0m \u001B[38;5;28;01mtry\u001B[39;00m:\n\u001B[1;32m     55\u001B[0m     \u001B[38;5;66;03m# Attempt to create an image of a blank graph\u001B[39;00m\n\u001B[1;32m     56\u001B[0m     \u001B[38;5;66;03m# to check the pydot/graphviz installation.\u001B[39;00m\n\u001B[0;32m---> 57\u001B[0m     \u001B[43mpydot\u001B[49m\u001B[38;5;241;43m.\u001B[39;49m\u001B[43mDot\u001B[49m\u001B[38;5;241;43m.\u001B[39;49m\u001B[43mcreate\u001B[49m\u001B[43m(\u001B[49m\u001B[43mpydot\u001B[49m\u001B[38;5;241;43m.\u001B[39;49m\u001B[43mDot\u001B[49m\u001B[43m(\u001B[49m\u001B[43m)\u001B[49m\u001B[43m)\u001B[49m\n\u001B[1;32m     58\u001B[0m     \u001B[38;5;28;01mreturn\u001B[39;00m \u001B[38;5;28;01mTrue\u001B[39;00m\n",
      "File \u001B[0;32m~/Documents/Projects-Python/DeepLearningCode/lib/python3.11/site-packages/pydot/core.py:1762\u001B[0m, in \u001B[0;36mDot.create\u001B[0;34m(self, prog, format, encoding)\u001B[0m\n\u001B[1;32m   1761\u001B[0m     args[\u001B[38;5;241m1\u001B[39m] \u001B[38;5;241m=\u001B[39m \u001B[38;5;124m'\u001B[39m\u001B[38;5;124m\"\u001B[39m\u001B[38;5;132;01m{prog}\u001B[39;00m\u001B[38;5;124m\"\u001B[39m\u001B[38;5;124m not found in path.\u001B[39m\u001B[38;5;124m'\u001B[39m\u001B[38;5;241m.\u001B[39mformat(prog\u001B[38;5;241m=\u001B[39mprog)\n\u001B[0;32m-> 1762\u001B[0m     \u001B[38;5;28;01mraise\u001B[39;00m \u001B[38;5;167;01mOSError\u001B[39;00m(\u001B[38;5;241m*\u001B[39margs)\n\u001B[1;32m   1763\u001B[0m \u001B[38;5;28;01melse\u001B[39;00m:\n",
      "\u001B[0;31mFileNotFoundError\u001B[0m: [Errno 2] \"dot\" not found in path.",
      "\nDuring handling of the above exception, another exception occurred:\n",
      "\u001B[0;31mAttributeError\u001B[0m                            Traceback (most recent call last)",
      "Cell \u001B[0;32mIn[8], line 17\u001B[0m\n\u001B[1;32m     15\u001B[0m model1\u001B[38;5;241m.\u001B[39msummary()\n\u001B[1;32m     16\u001B[0m \u001B[38;5;66;03m# Plot model graph\u001B[39;00m\n\u001B[0;32m---> 17\u001B[0m \u001B[43mplot_model\u001B[49m\u001B[43m(\u001B[49m\u001B[43mmodel1\u001B[49m\u001B[43m,\u001B[49m\u001B[43m \u001B[49m\u001B[43mshow_shapes\u001B[49m\u001B[38;5;241;43m=\u001B[39;49m\u001B[38;5;28;43;01mTrue\u001B[39;49;00m\u001B[43m,\u001B[49m\u001B[43m \u001B[49m\u001B[43mto_file\u001B[49m\u001B[38;5;241;43m=\u001B[39;49m\u001B[38;5;124;43m'\u001B[39;49m\u001B[38;5;124;43mdense_module.png\u001B[39;49m\u001B[38;5;124;43m'\u001B[39;49m\u001B[43m)\u001B[49m\n",
      "File \u001B[0;32m~/Documents/Projects-Python/DeepLearningCode/lib/python3.11/site-packages/keras/utils/vis_utils.py:451\u001B[0m, in \u001B[0;36mplot_model\u001B[0;34m(model, to_file, show_shapes, show_dtype, show_layer_names, rankdir, expand_nested, dpi, layer_range, show_layer_activations, show_trainable)\u001B[0m\n\u001B[1;32m    444\u001B[0m \u001B[38;5;28;01mif\u001B[39;00m \u001B[38;5;129;01mnot\u001B[39;00m model\u001B[38;5;241m.\u001B[39mbuilt:\n\u001B[1;32m    445\u001B[0m     \u001B[38;5;28;01mraise\u001B[39;00m \u001B[38;5;167;01mValueError\u001B[39;00m(\n\u001B[1;32m    446\u001B[0m         \u001B[38;5;124m\"\u001B[39m\u001B[38;5;124mThis model has not yet been built. \u001B[39m\u001B[38;5;124m\"\u001B[39m\n\u001B[1;32m    447\u001B[0m         \u001B[38;5;124m\"\u001B[39m\u001B[38;5;124mBuild the model first by calling `build()` or by calling \u001B[39m\u001B[38;5;124m\"\u001B[39m\n\u001B[1;32m    448\u001B[0m         \u001B[38;5;124m\"\u001B[39m\u001B[38;5;124mthe model on a batch of data.\u001B[39m\u001B[38;5;124m\"\u001B[39m\n\u001B[1;32m    449\u001B[0m     )\n\u001B[0;32m--> 451\u001B[0m \u001B[38;5;28;01mif\u001B[39;00m \u001B[38;5;129;01mnot\u001B[39;00m \u001B[43mcheck_graphviz\u001B[49m\u001B[43m(\u001B[49m\u001B[43m)\u001B[49m:\n\u001B[1;32m    452\u001B[0m     message \u001B[38;5;241m=\u001B[39m (\n\u001B[1;32m    453\u001B[0m         \u001B[38;5;124m\"\u001B[39m\u001B[38;5;124mYou must install pydot (`pip install pydot`) \u001B[39m\u001B[38;5;124m\"\u001B[39m\n\u001B[1;32m    454\u001B[0m         \u001B[38;5;124m\"\u001B[39m\u001B[38;5;124mand install graphviz \u001B[39m\u001B[38;5;124m\"\u001B[39m\n\u001B[1;32m    455\u001B[0m         \u001B[38;5;124m\"\u001B[39m\u001B[38;5;124m(see instructions at https://graphviz.gitlab.io/download/) \u001B[39m\u001B[38;5;124m\"\u001B[39m\n\u001B[1;32m    456\u001B[0m         \u001B[38;5;124m\"\u001B[39m\u001B[38;5;124mfor plot_model to work.\u001B[39m\u001B[38;5;124m\"\u001B[39m\n\u001B[1;32m    457\u001B[0m     )\n\u001B[1;32m    458\u001B[0m     \u001B[38;5;28;01mif\u001B[39;00m \u001B[38;5;124m\"\u001B[39m\u001B[38;5;124mIPython.core.magics.namespace\u001B[39m\u001B[38;5;124m\"\u001B[39m \u001B[38;5;129;01min\u001B[39;00m sys\u001B[38;5;241m.\u001B[39mmodules:\n\u001B[1;32m    459\u001B[0m         \u001B[38;5;66;03m# We don't raise an exception here in order to avoid crashing\u001B[39;00m\n\u001B[1;32m    460\u001B[0m         \u001B[38;5;66;03m# notebook tests where graphviz is not available.\u001B[39;00m\n",
      "File \u001B[0;32m~/Documents/Projects-Python/DeepLearningCode/lib/python3.11/site-packages/keras/utils/vis_utils.py:59\u001B[0m, in \u001B[0;36mcheck_graphviz\u001B[0;34m()\u001B[0m\n\u001B[1;32m     57\u001B[0m     pydot\u001B[38;5;241m.\u001B[39mDot\u001B[38;5;241m.\u001B[39mcreate(pydot\u001B[38;5;241m.\u001B[39mDot())\n\u001B[1;32m     58\u001B[0m     \u001B[38;5;28;01mreturn\u001B[39;00m \u001B[38;5;28;01mTrue\u001B[39;00m\n\u001B[0;32m---> 59\u001B[0m \u001B[38;5;28;01mexcept\u001B[39;00m (\u001B[38;5;167;01mOSError\u001B[39;00m, \u001B[43mpydot\u001B[49m\u001B[38;5;241;43m.\u001B[39;49m\u001B[43mInvocationException\u001B[49m):\n\u001B[1;32m     60\u001B[0m     \u001B[38;5;28;01mreturn\u001B[39;00m \u001B[38;5;28;01mFalse\u001B[39;00m\n",
      "\u001B[0;31mAttributeError\u001B[0m: module 'pydot' has no attribute 'InvocationException'"
     ]
    }
   ]
  },
  {
   "cell_type": "markdown",
   "metadata": {
    "id": "3a9awSnta7Re",
    "colab_type": "text"
   },
   "source": [
    "Finally we will create a wrapper function to make a transition layer that halves the number of channels using a 1x1 filter and halves the dimensionality of the matrices in each channel using a max pooling layer."
   ]
  },
  {
   "cell_type": "code",
   "metadata": {
    "id": "Yok4Wu3ea7eT",
    "colab_type": "code",
    "colab": {},
    "ExecuteTime": {
     "start_time": "2024-02-28T12:17:39.920217Z"
    }
   },
   "source": [
    "def transition_block (layer_in):\n",
    "  # 1x1 filter halves channels\n",
    "  ch_merged = Conv2D(3, (1,1), activation='relu')(layer_in)\n",
    "  # Max pooling with second argument (strides) as (2,2) halves matrix dimensionality \n",
    "  mt_merged = MaxPool2D((2, 2),(2,2))(ch_merged)\n",
    "  return mt_merged"
   ],
   "execution_count": null,
   "outputs": []
  },
  {
   "cell_type": "markdown",
   "metadata": {
    "id": "PYeNrvqnbUMU",
    "colab_type": "text"
   },
   "source": [
    "We create a simple network that has two (condensed) dense blocks separated by a transition block, and plot the architecture.\n",
    "\n",
    "You can create a wrapper function to make a number of dense and transition blocks chained together. This is left as an exercise."
   ]
  },
  {
   "cell_type": "code",
   "metadata": {
    "id": "N1k2anb5bUXI",
    "colab_type": "code",
    "outputId": "aaf2725b-1446-48aa-87ca-663267edf8d6",
    "executionInfo": {
     "status": "ok",
     "timestamp": 1572268386029,
     "user_tz": -60,
     "elapsed": 2120,
     "user": {
      "displayName": "Michael Ashcroft",
      "photoUrl": "https://lh3.googleusercontent.com/a-/AAuE7mAaRQqpOuFHR3D_ZulW6qlXPomIq5vZ-wR4ZuIm=s64",
      "userId": "16725792548700883920"
     }
    },
    "colab": {
     "base_uri": "https://localhost:8080/",
     "height": 1000
    },
    "ExecuteTime": {
     "start_time": "2024-02-28T12:17:39.942415Z"
    }
   },
   "source": [
    "# Define input\n",
    "inputs = Input(shape=(128, 128, 3))\n",
    "# Initial convolution layer\n",
    "conv = Conv2D(64, (3,3), padding='same', activation='relu')(inputs)    \n",
    "# Define first dense block\n",
    "dense_block1 = condensed_dense_block(conv,6,32,64)\n",
    "# Transition Block\n",
    "tr_block = transition_block(dense_block1)\n",
    "# Define second dense block\n",
    "dense_block2 = condensed_dense_block(tr_block,6,32,64)\n",
    "# Flatten for output\n",
    "flat = Flatten()(dense_block2)\n",
    "dense1 = Dense(256, activation='relu')(flat)\n",
    "outputs = Dense(10, activation='softmax')(dense1)\n",
    "# Create model\n",
    "model1 = Model(inputs=inputs, outputs=outputs)\n",
    "# Summarize model\n",
    "model1.summary()\n",
    "# Plot model graph\n",
    "plot_model(model1, show_shapes=True, to_file='dense_module.png')"
   ],
   "execution_count": null,
   "outputs": []
  },
  {
   "cell_type": "code",
   "execution_count": null,
   "outputs": [],
   "source": [],
   "metadata": {
    "collapsed": false,
    "ExecuteTime": {
     "start_time": "2024-02-28T12:09:19.489417Z"
    }
   }
  }
 ]
}
