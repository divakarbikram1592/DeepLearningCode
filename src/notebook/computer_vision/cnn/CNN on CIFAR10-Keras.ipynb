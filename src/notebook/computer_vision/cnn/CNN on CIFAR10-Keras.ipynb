{
 "nbformat": 4,
 "nbformat_minor": 0,
 "metadata": {
  "kernelspec": {
   "name": "python3",
   "language": "python",
   "display_name": "Python 3 (ipykernel)"
  },
  "colab": {
   "name": "CNN on CIFAR10-Keras-TF2.X.ipynb",
   "provenance": [],
   "collapsed_sections": []
  },
  "language_info": {
   "name": "python"
  },
  "accelerator": "GPU"
 },
 "cells": [
  {
   "cell_type": "markdown",
   "metadata": {
    "id": "ZEQkTzHO1-gc"
   },
   "source": [
    "#CNN-CIFAR10-KERAS-TF2.X"
   ]
  },
  {
   "cell_type": "code",
   "metadata": {
    "colab": {
     "base_uri": "https://localhost:8080/"
    },
    "id": "y7xMlcLR2PSq",
    "executionInfo": {
     "status": "ok",
     "timestamp": 1627924335692,
     "user_tz": 300,
     "elapsed": 1893,
     "user": {
      "displayName": "deep ai",
      "photoUrl": "https://lh3.googleusercontent.com/a-/AOh14GjfZWDM3qKZbLd0FrGsKXwHUuK8gNMkFMIT4Ye8=s64",
      "userId": "00364258643751704926"
     }
    },
    "outputId": "b4ad5349-4214-4bb2-8db9-6ba061a55d23",
    "ExecuteTime": {
     "end_time": "2024-02-23T19:19:53.918743Z",
     "start_time": "2024-02-23T19:19:52.881169Z"
    }
   },
   "source": [
    "import tensorflow as tf\n",
    "print(tf.__version__)\n",
    "!python --version"
   ],
   "execution_count": 2,
   "outputs": [
    {
     "name": "stdout",
     "output_type": "stream",
     "text": [
      "2.12.0\n",
      "Python 3.11.2\r\n"
     ]
    }
   ]
  },
  {
   "cell_type": "code",
   "metadata": {
    "id": "xKcgivof1-ge",
    "executionInfo": {
     "status": "ok",
     "timestamp": 1627924612222,
     "user_tz": 300,
     "elapsed": 257,
     "user": {
      "displayName": "deep ai",
      "photoUrl": "https://lh3.googleusercontent.com/a-/AOh14GjfZWDM3qKZbLd0FrGsKXwHUuK8gNMkFMIT4Ye8=s64",
      "userId": "00364258643751704926"
     }
    },
    "ExecuteTime": {
     "end_time": "2024-02-23T19:20:06.671479Z",
     "start_time": "2024-02-23T19:20:06.557740Z"
    }
   },
   "source": [
    "from tensorflow.python.keras.models import Sequential\n",
    "from tensorflow.python.keras.layers import Dense, Activation, Flatten, Dropout\n",
    "from tensorflow.python.keras.layers import Conv2D, MaxPooling2D\n",
    "from tensorflow.python.keras.utils import np_utils\n",
    "from tensorflow.python.keras.callbacks import EarlyStopping\n",
    "import numpy as np\n",
    "from matplotlib import pyplot as plt\n",
    "# %matplotlib inline"
   ],
   "execution_count": 4,
   "outputs": []
  },
  {
   "cell_type": "code",
   "metadata": {
    "colab": {
     "base_uri": "https://localhost:8080/"
    },
    "id": "ueUrX-Yx1-gf",
    "executionInfo": {
     "status": "ok",
     "timestamp": 1627924623049,
     "user_tz": 300,
     "elapsed": 8160,
     "user": {
      "displayName": "deep ai",
      "photoUrl": "https://lh3.googleusercontent.com/a-/AOh14GjfZWDM3qKZbLd0FrGsKXwHUuK8gNMkFMIT4Ye8=s64",
      "userId": "00364258643751704926"
     }
    },
    "outputId": "ebae47df-57aa-4acc-efcd-b5c2079faf46",
    "ExecuteTime": {
     "end_time": "2024-02-23T19:20:16.067599Z",
     "start_time": "2024-02-23T19:20:08.142012Z"
    }
   },
   "source": [
    "(X_train_, y_train), (X_test_, y_test) = tf.keras.datasets.cifar10.load_data()"
   ],
   "execution_count": 5,
   "outputs": []
  },
  {
   "cell_type": "code",
   "metadata": {
    "colab": {
     "base_uri": "https://localhost:8080/"
    },
    "id": "5wgcg3mw1-gf",
    "executionInfo": {
     "status": "ok",
     "timestamp": 1627924623530,
     "user_tz": 300,
     "elapsed": 484,
     "user": {
      "displayName": "deep ai",
      "photoUrl": "https://lh3.googleusercontent.com/a-/AOh14GjfZWDM3qKZbLd0FrGsKXwHUuK8gNMkFMIT4Ye8=s64",
      "userId": "00364258643751704926"
     }
    },
    "outputId": "d78d0998-5282-46b5-8273-86adec6eb7db",
    "ExecuteTime": {
     "end_time": "2024-02-23T19:20:22.196513Z",
     "start_time": "2024-02-23T19:20:22.061733Z"
    }
   },
   "source": [
    "print('X_train shape:', X_train_.shape)\n",
    "print('train samples: ',X_train_.shape[0])\n",
    "print('test samples: ', X_test_.shape[0])"
   ],
   "execution_count": 6,
   "outputs": [
    {
     "name": "stdout",
     "output_type": "stream",
     "text": [
      "X_train shape: (50000, 32, 32, 3)\n",
      "train samples:  50000\n",
      "test samples:  10000\n"
     ]
    }
   ]
  },
  {
   "cell_type": "code",
   "metadata": {
    "id": "2UWi4hxf1-gf",
    "executionInfo": {
     "status": "ok",
     "timestamp": 1627924623531,
     "user_tz": 300,
     "elapsed": 13,
     "user": {
      "displayName": "deep ai",
      "photoUrl": "https://lh3.googleusercontent.com/a-/AOh14GjfZWDM3qKZbLd0FrGsKXwHUuK8gNMkFMIT4Ye8=s64",
      "userId": "00364258643751704926"
     }
    },
    "ExecuteTime": {
     "end_time": "2024-02-23T19:20:24.375021Z",
     "start_time": "2024-02-23T19:20:24.212486Z"
    }
   },
   "source": [
    "num_train, img_rows, img_cols, img_channels =  X_train_.shape"
   ],
   "execution_count": 7,
   "outputs": []
  },
  {
   "cell_type": "code",
   "metadata": {
    "id": "AOelRrPs1-gf",
    "executionInfo": {
     "status": "ok",
     "timestamp": 1627924623532,
     "user_tz": 300,
     "elapsed": 13,
     "user": {
      "displayName": "deep ai",
      "photoUrl": "https://lh3.googleusercontent.com/a-/AOh14GjfZWDM3qKZbLd0FrGsKXwHUuK8gNMkFMIT4Ye8=s64",
      "userId": "00364258643751704926"
     }
    },
    "ExecuteTime": {
     "end_time": "2024-02-23T19:20:25.922707Z",
     "start_time": "2024-02-23T19:20:25.848718Z"
    }
   },
   "source": [
    "# image dimension:\n",
    "input_shape = (img_rows, img_cols, 3)"
   ],
   "execution_count": 8,
   "outputs": []
  },
  {
   "cell_type": "code",
   "metadata": {
    "id": "v5ku81bs1-gf",
    "executionInfo": {
     "status": "ok",
     "timestamp": 1627924623532,
     "user_tz": 300,
     "elapsed": 12,
     "user": {
      "displayName": "deep ai",
      "photoUrl": "https://lh3.googleusercontent.com/a-/AOh14GjfZWDM3qKZbLd0FrGsKXwHUuK8gNMkFMIT4Ye8=s64",
      "userId": "00364258643751704926"
     }
    },
    "ExecuteTime": {
     "end_time": "2024-02-23T19:20:27.292142Z",
     "start_time": "2024-02-23T19:20:27.228712Z"
    }
   },
   "source": [
    "class_names = ['airplane','automobile','bird','cat','deer',\n",
    "               'dog','frog','horse','ship','truck']"
   ],
   "execution_count": 9,
   "outputs": []
  },
  {
   "cell_type": "code",
   "metadata": {
    "colab": {
     "base_uri": "https://localhost:8080/"
    },
    "id": "0CniMQp41-gg",
    "executionInfo": {
     "status": "ok",
     "timestamp": 1627924623533,
     "user_tz": 300,
     "elapsed": 12,
     "user": {
      "displayName": "deep ai",
      "photoUrl": "https://lh3.googleusercontent.com/a-/AOh14GjfZWDM3qKZbLd0FrGsKXwHUuK8gNMkFMIT4Ye8=s64",
      "userId": "00364258643751704926"
     }
    },
    "outputId": "b9388295-1ed1-4eb9-93f3-89249392f341",
    "ExecuteTime": {
     "end_time": "2024-02-23T19:20:28.498476Z",
     "start_time": "2024-02-23T19:20:28.282576Z"
    }
   },
   "source": [
    "n_classes = len(np.unique(y_train))\n",
    "n_classes"
   ],
   "execution_count": 10,
   "outputs": [
    {
     "data": {
      "text/plain": "10"
     },
     "execution_count": 10,
     "metadata": {},
     "output_type": "execute_result"
    }
   ]
  },
  {
   "cell_type": "code",
   "metadata": {
    "colab": {
     "base_uri": "https://localhost:8080/"
    },
    "id": "7QLsfEJa1-gg",
    "executionInfo": {
     "status": "ok",
     "timestamp": 1627924623533,
     "user_tz": 300,
     "elapsed": 8,
     "user": {
      "displayName": "deep ai",
      "photoUrl": "https://lh3.googleusercontent.com/a-/AOh14GjfZWDM3qKZbLd0FrGsKXwHUuK8gNMkFMIT4Ye8=s64",
      "userId": "00364258643751704926"
     }
    },
    "outputId": "5e68926a-bbb8-491b-dc08-79ccf4ef06fe",
    "ExecuteTime": {
     "end_time": "2024-02-23T19:20:30.502592Z",
     "start_time": "2024-02-23T19:20:30.221611Z"
    }
   },
   "source": [
    "classes = np.unique(y_train)\n",
    "classes"
   ],
   "execution_count": 11,
   "outputs": [
    {
     "data": {
      "text/plain": "array([0, 1, 2, 3, 4, 5, 6, 7, 8, 9], dtype=uint8)"
     },
     "execution_count": 11,
     "metadata": {},
     "output_type": "execute_result"
    }
   ]
  },
  {
   "cell_type": "markdown",
   "metadata": {
    "id": "PyJ7Z1V81-gg"
   },
   "source": [
    "## Visualizing the classes with an image example"
   ]
  },
  {
   "cell_type": "code",
   "metadata": {
    "colab": {
     "base_uri": "https://localhost:8080/",
     "height": 325
    },
    "id": "q1EKhCrT1-gg",
    "executionInfo": {
     "status": "ok",
     "timestamp": 1627924628830,
     "user_tz": 300,
     "elapsed": 1107,
     "user": {
      "displayName": "deep ai",
      "photoUrl": "https://lh3.googleusercontent.com/a-/AOh14GjfZWDM3qKZbLd0FrGsKXwHUuK8gNMkFMIT4Ye8=s64",
      "userId": "00364258643751704926"
     }
    },
    "outputId": "b4357b63-a5be-478b-974b-05c75e8a39d1",
    "ExecuteTime": {
     "end_time": "2024-02-23T19:20:41.664600Z",
     "start_time": "2024-02-23T19:20:36.972904Z"
    }
   },
   "source": [
    "fig = plt.figure(figsize=(10,6))\n",
    "for i in range(n_classes):\n",
    "    ax = fig.add_subplot(2, 5, 1 + i, xticks=[], yticks=[])\n",
    "    idx = np.where(y_train[:]==i)[0]\n",
    "    features_idx = X_train_[idx,::]\n",
    "    img_num = np.random.randint(features_idx.shape[0])\n",
    "    image = features_idx[img_num,::].reshape((32, 32, 3))\n",
    "    ax.set_title(class_names[i])\n",
    "    plt.imshow(image)\n",
    "plt.show()"
   ],
   "execution_count": 12,
   "outputs": [
    {
     "data": {
      "text/plain": "<Figure size 1000x600 with 10 Axes>",
      "image/png": "[encoded data removed]"
     },
     "metadata": {},
     "output_type": "display_data"
    }
   ]
  },
  {
   "cell_type": "code",
   "metadata": {
    "id": "CDx2IGcX1-gh",
    "executionInfo": {
     "status": "ok",
     "timestamp": 1627924631068,
     "user_tz": 300,
     "elapsed": 375,
     "user": {
      "displayName": "deep ai",
      "photoUrl": "https://lh3.googleusercontent.com/a-/AOh14GjfZWDM3qKZbLd0FrGsKXwHUuK8gNMkFMIT4Ye8=s64",
      "userId": "00364258643751704926"
     }
    },
    "ExecuteTime": {
     "end_time": "2024-02-23T19:20:52.530864Z",
     "start_time": "2024-02-23T19:20:42.983381Z"
    }
   },
   "source": [
    "#Normalize the input data\n",
    "X_train = X_train_.astype('float32')/255.\n",
    "X_test = X_test_.astype('float32')/255."
   ],
   "execution_count": 13,
   "outputs": []
  },
  {
   "cell_type": "code",
   "metadata": {
    "id": "EZjVGyEU1-gh",
    "executionInfo": {
     "status": "ok",
     "timestamp": 1627924641083,
     "user_tz": 300,
     "elapsed": 259,
     "user": {
      "displayName": "deep ai",
      "photoUrl": "https://lh3.googleusercontent.com/a-/AOh14GjfZWDM3qKZbLd0FrGsKXwHUuK8gNMkFMIT4Ye8=s64",
      "userId": "00364258643751704926"
     }
    },
    "ExecuteTime": {
     "end_time": "2024-02-23T19:21:28.669020Z",
     "start_time": "2024-02-23T19:21:28.441865Z"
    }
   },
   "source": [
    "#One-hot encode the labels\n",
    "y_train = np_utils.to_categorical(y_train, n_classes)\n",
    "y_test = np_utils.to_categorical(y_test, n_classes)"
   ],
   "execution_count": 14,
   "outputs": []
  },
  {
   "cell_type": "markdown",
   "metadata": {
    "id": "j96gbZwz1-gh"
   },
   "source": [
    "## CNN architecture"
   ]
  },
  {
   "cell_type": "code",
   "metadata": {
    "id": "7D5dRUnP1-gh",
    "executionInfo": {
     "status": "ok",
     "timestamp": 1627924650666,
     "user_tz": 300,
     "elapsed": 6172,
     "user": {
      "displayName": "deep ai",
      "photoUrl": "https://lh3.googleusercontent.com/a-/AOh14GjfZWDM3qKZbLd0FrGsKXwHUuK8gNMkFMIT4Ye8=s64",
      "userId": "00364258643751704926"
     }
    },
    "ExecuteTime": {
     "end_time": "2024-02-23T19:21:32.844929Z",
     "start_time": "2024-02-23T19:21:32.151271Z"
    }
   },
   "source": [
    "model = Sequential()"
   ],
   "execution_count": 15,
   "outputs": []
  },
  {
   "cell_type": "code",
   "metadata": {
    "id": "9HkjspEH1-gh",
    "executionInfo": {
     "status": "ok",
     "timestamp": 1627924650668,
     "user_tz": 300,
     "elapsed": 12,
     "user": {
      "displayName": "deep ai",
      "photoUrl": "https://lh3.googleusercontent.com/a-/AOh14GjfZWDM3qKZbLd0FrGsKXwHUuK8gNMkFMIT4Ye8=s64",
      "userId": "00364258643751704926"
     }
    },
    "ExecuteTime": {
     "end_time": "2024-02-23T19:27:32.243578Z",
     "start_time": "2024-02-23T19:27:31.902226Z"
    }
   },
   "source": [
    "model.add(Conv2D(32, kernel_size=(3, 3), input_shape= input_shape, activation = 'relu'))\n",
    "model.add(tf.keras.layers.BatchNormalization())\n",
    "model.add(Conv2D(32, kernel_size=(3, 3), padding='same', activation = 'relu'))\n",
    "model.add(tf.keras.layers.BatchNormalization())\n",
    "model.add(MaxPooling2D(pool_size = (2, 2), padding='same'))\n",
    "model.add(Dropout(0.3))"
   ],
   "execution_count": 16,
   "outputs": []
  },
  {
   "cell_type": "code",
   "metadata": {
    "id": "n6MRVKff1-gh",
    "executionInfo": {
     "status": "ok",
     "timestamp": 1627924650669,
     "user_tz": 300,
     "elapsed": 10,
     "user": {
      "displayName": "deep ai",
      "photoUrl": "https://lh3.googleusercontent.com/a-/AOh14GjfZWDM3qKZbLd0FrGsKXwHUuK8gNMkFMIT4Ye8=s64",
      "userId": "00364258643751704926"
     }
    },
    "ExecuteTime": {
     "end_time": "2024-02-23T19:27:47.382275Z",
     "start_time": "2024-02-23T19:27:47.194263Z"
    }
   },
   "source": [
    "model.add(Conv2D(64, kernel_size=(3, 3), padding='same', activation = 'relu'))\n",
    "model.add(tf.keras.layers.BatchNormalization())\n",
    "model.add(Conv2D(64, kernel_size=(3, 3), padding='same', activation = 'relu'))\n",
    "model.add(tf.keras.layers.BatchNormalization())\n",
    "model.add(MaxPooling2D(pool_size = (2, 2), padding='same'))\n",
    "model.add(Dropout(0.3))"
   ],
   "execution_count": 17,
   "outputs": []
  },
  {
   "cell_type": "code",
   "metadata": {
    "id": "w1lZaP5e1-gi",
    "executionInfo": {
     "status": "ok",
     "timestamp": 1627924650966,
     "user_tz": 300,
     "elapsed": 306,
     "user": {
      "displayName": "deep ai",
      "photoUrl": "https://lh3.googleusercontent.com/a-/AOh14GjfZWDM3qKZbLd0FrGsKXwHUuK8gNMkFMIT4Ye8=s64",
      "userId": "00364258643751704926"
     }
    },
    "ExecuteTime": {
     "end_time": "2024-02-23T19:27:58.775723Z",
     "start_time": "2024-02-23T19:27:58.556863Z"
    }
   },
   "source": [
    "model.add(Conv2D(128, kernel_size=(3, 3), padding='same', activation = 'relu'))\n",
    "model.add(tf.keras.layers.BatchNormalization())\n",
    "model.add(Conv2D(128, kernel_size=(3, 3), padding='same', activation = 'relu'))\n",
    "model.add(tf.keras.layers.BatchNormalization())\n",
    "model.add(MaxPooling2D(pool_size = (2, 2), padding='same'))\n",
    "model.add(Dropout(0.5))"
   ],
   "execution_count": 18,
   "outputs": []
  },
  {
   "cell_type": "code",
   "metadata": {
    "id": "Sm76zTc_1-gi",
    "executionInfo": {
     "status": "ok",
     "timestamp": 1627924652017,
     "user_tz": 300,
     "elapsed": 2,
     "user": {
      "displayName": "deep ai",
      "photoUrl": "https://lh3.googleusercontent.com/a-/AOh14GjfZWDM3qKZbLd0FrGsKXwHUuK8gNMkFMIT4Ye8=s64",
      "userId": "00364258643751704926"
     }
    },
    "ExecuteTime": {
     "end_time": "2024-02-23T19:28:06.826521Z",
     "start_time": "2024-02-23T19:28:06.545057Z"
    }
   },
   "source": [
    "model.add(Flatten())\n",
    "model.add(Dense(units = 512, activation = 'relu'))\n",
    "model.add(tf.keras.layers.BatchNormalization())\n",
    "model.add(Dropout(0.50))\n",
    "model.add(Dense(units = 128, activation = 'relu'))\n",
    "model.add(Dropout(0.25))\n",
    "model.add(Dense(units = n_classes, activation = 'softmax'))"
   ],
   "execution_count": 19,
   "outputs": []
  },
  {
   "cell_type": "code",
   "metadata": {
    "colab": {
     "base_uri": "https://localhost:8080/"
    },
    "id": "G5RQseH31-gi",
    "executionInfo": {
     "status": "ok",
     "timestamp": 1627924652943,
     "user_tz": 300,
     "elapsed": 466,
     "user": {
      "displayName": "deep ai",
      "photoUrl": "https://lh3.googleusercontent.com/a-/AOh14GjfZWDM3qKZbLd0FrGsKXwHUuK8gNMkFMIT4Ye8=s64",
      "userId": "00364258643751704926"
     }
    },
    "outputId": "94d4fe58-4ac0-4fdc-8ecb-0f2563f68096",
    "ExecuteTime": {
     "end_time": "2024-02-23T19:28:08.133812Z",
     "start_time": "2024-02-23T19:28:08.050106Z"
    }
   },
   "source": [
    "print(model.summary())"
   ],
   "execution_count": 20,
   "outputs": [
    {
     "name": "stdout",
     "output_type": "stream",
     "text": [
      "Model: \"sequential\"\n",
      "_________________________________________________________________\n",
      "Layer (type)                 Output Shape              Param #   \n",
      "=================================================================\n",
      "conv2d (Conv2D)              (None, 30, 30, 32)        896       \n",
      "_________________________________________________________________\n",
      "module_wrapper (ModuleWrappe (None, 30, 30, 32)        128       \n",
      "_________________________________________________________________\n",
      "conv2d_1 (Conv2D)            (None, 30, 30, 32)        9248      \n",
      "_________________________________________________________________\n",
      "module_wrapper_1 (ModuleWrap (None, 30, 30, 32)        128       \n",
      "_________________________________________________________________\n",
      "max_pooling2d (MaxPooling2D) (None, 15, 15, 32)        0         \n",
      "_________________________________________________________________\n",
      "dropout (Dropout)            (None, 15, 15, 32)        0         \n",
      "_________________________________________________________________\n",
      "conv2d_2 (Conv2D)            (None, 15, 15, 64)        18496     \n",
      "_________________________________________________________________\n",
      "module_wrapper_2 (ModuleWrap (None, 15, 15, 64)        256       \n",
      "_________________________________________________________________\n",
      "conv2d_3 (Conv2D)            (None, 15, 15, 64)        36928     \n",
      "_________________________________________________________________\n",
      "module_wrapper_3 (ModuleWrap (None, 15, 15, 64)        256       \n",
      "_________________________________________________________________\n",
      "max_pooling2d_1 (MaxPooling2 (None, 8, 8, 64)          0         \n",
      "_________________________________________________________________\n",
      "dropout_1 (Dropout)          (None, 8, 8, 64)          0         \n",
      "_________________________________________________________________\n",
      "conv2d_4 (Conv2D)            (None, 8, 8, 128)         73856     \n",
      "_________________________________________________________________\n",
      "module_wrapper_4 (ModuleWrap (None, 8, 8, 128)         512       \n",
      "_________________________________________________________________\n",
      "conv2d_5 (Conv2D)            (None, 8, 8, 128)         147584    \n",
      "_________________________________________________________________\n",
      "module_wrapper_5 (ModuleWrap (None, 8, 8, 128)         512       \n",
      "_________________________________________________________________\n",
      "max_pooling2d_2 (MaxPooling2 (None, 4, 4, 128)         0         \n",
      "_________________________________________________________________\n",
      "dropout_2 (Dropout)          (None, 4, 4, 128)         0         \n",
      "_________________________________________________________________\n",
      "flatten (Flatten)            (None, 2048)              0         \n",
      "_________________________________________________________________\n",
      "dense (Dense)                (None, 512)               1049088   \n",
      "_________________________________________________________________\n",
      "module_wrapper_6 (ModuleWrap (None, 512)               2048      \n",
      "_________________________________________________________________\n",
      "dropout_3 (Dropout)          (None, 512)               0         \n",
      "_________________________________________________________________\n",
      "dense_1 (Dense)              (None, 128)               65664     \n",
      "_________________________________________________________________\n",
      "dropout_4 (Dropout)          (None, 128)               0         \n",
      "_________________________________________________________________\n",
      "dense_2 (Dense)              (None, 10)                1290      \n",
      "=================================================================\n",
      "Total params: 1,406,890\n",
      "Trainable params: 1,404,970\n",
      "Non-trainable params: 1,920\n",
      "_________________________________________________________________\n",
      "None\n"
     ]
    }
   ]
  },
  {
   "cell_type": "markdown",
   "metadata": {
    "id": "rvcoC_kr1-gi"
   },
   "source": [
    "## Compiling the model:"
   ]
  },
  {
   "cell_type": "code",
   "metadata": {
    "id": "F1xrIpJf1-gi",
    "executionInfo": {
     "status": "ok",
     "timestamp": 1627924657665,
     "user_tz": 300,
     "elapsed": 502,
     "user": {
      "displayName": "deep ai",
      "photoUrl": "https://lh3.googleusercontent.com/a-/AOh14GjfZWDM3qKZbLd0FrGsKXwHUuK8gNMkFMIT4Ye8=s64",
      "userId": "00364258643751704926"
     }
    },
    "ExecuteTime": {
     "end_time": "2024-02-23T19:36:43.284185Z",
     "start_time": "2024-02-23T19:36:43.173451Z"
    }
   },
   "source": [
    "model.compile(loss='categorical_crossentropy', metrics=['accuracy'], optimizer='adam')"
   ],
   "execution_count": 37,
   "outputs": []
  },
  {
   "cell_type": "code",
   "metadata": {
    "id": "j0yILtv41-gi",
    "executionInfo": {
     "status": "ok",
     "timestamp": 1627924660469,
     "user_tz": 300,
     "elapsed": 253,
     "user": {
      "displayName": "deep ai",
      "photoUrl": "https://lh3.googleusercontent.com/a-/AOh14GjfZWDM3qKZbLd0FrGsKXwHUuK8gNMkFMIT4Ye8=s64",
      "userId": "00364258643751704926"
     }
    },
    "ExecuteTime": {
     "end_time": "2024-02-23T19:36:44.204096Z",
     "start_time": "2024-02-23T19:36:44.122771Z"
    }
   },
   "source": [
    "# Define a callback to prevent overfitting:\n",
    "callbacks = [EarlyStopping(monitor='val_acc', patience=5)]\n",
    "#monitor: quantity to be monitored\n",
    "#patience: number of epochs with no improvement after which training will be stopped."
   ],
   "execution_count": 38,
   "outputs": []
  },
  {
   "cell_type": "code",
   "metadata": {
    "id": "AB8Y-Cqz1-gi",
    "executionInfo": {
     "status": "ok",
     "timestamp": 1627924662787,
     "user_tz": 300,
     "elapsed": 507,
     "user": {
      "displayName": "deep ai",
      "photoUrl": "https://lh3.googleusercontent.com/a-/AOh14GjfZWDM3qKZbLd0FrGsKXwHUuK8gNMkFMIT4Ye8=s64",
      "userId": "00364258643751704926"
     }
    },
    "ExecuteTime": {
     "end_time": "2024-02-23T19:36:45.088296Z",
     "start_time": "2024-02-23T19:36:45.044045Z"
    }
   },
   "source": [
    "#hyperparameters\n",
    "batch_size = 128\n",
    "n_epochs = 5"
   ],
   "execution_count": 39,
   "outputs": []
  },
  {
   "cell_type": "code",
   "metadata": {
    "colab": {
     "base_uri": "https://localhost:8080/"
    },
    "id": "Hg8hQgO_1-gj",
    "executionInfo": {
     "status": "ok",
     "timestamp": 1627924966154,
     "user_tz": 300,
     "elapsed": 302077,
     "user": {
      "displayName": "deep ai",
      "photoUrl": "https://lh3.googleusercontent.com/a-/AOh14GjfZWDM3qKZbLd0FrGsKXwHUuK8gNMkFMIT4Ye8=s64",
      "userId": "00364258643751704926"
     }
    },
    "outputId": "8a5406c8-b436-402b-f5ae-aed142a1fe2a",
    "ExecuteTime": {
     "end_time": "2024-02-23T20:03:11.619615Z",
     "start_time": "2024-02-23T19:36:47.063668Z"
    }
   },
   "source": [
    "results = model.fit(X_train, y_train, batch_size=batch_size, epochs=n_epochs,\n",
    "          verbose=1, validation_data=(X_test, y_test),callbacks=callbacks)"
   ],
   "execution_count": 40,
   "outputs": [
    {
     "name": "stdout",
     "output_type": "stream",
     "text": [
      "Epoch 1/5\n",
      "391/391 [==============================] - 346s 872ms/step - loss: 1.8313 - accuracy: 0.3756 - val_loss: 2.5151 - val_accuracy: 0.2588\n",
      "WARNING:tensorflow:Early stopping conditioned on metric `val_acc` which is not available. Available metrics are: loss,accuracy,val_loss,val_accuracy\n",
      "Epoch 2/5\n",
      "391/391 [==============================] - 322s 823ms/step - loss: 1.2417 - accuracy: 0.5526 - val_loss: 0.9785 - val_accuracy: 0.6501\n",
      "WARNING:tensorflow:Early stopping conditioned on metric `val_acc` which is not available. Available metrics are: loss,accuracy,val_loss,val_accuracy\n",
      "Epoch 3/5\n",
      "391/391 [==============================] - 312s 797ms/step - loss: 1.0229 - accuracy: 0.6370 - val_loss: 0.9653 - val_accuracy: 0.6647\n",
      "WARNING:tensorflow:Early stopping conditioned on metric `val_acc` which is not available. Available metrics are: loss,accuracy,val_loss,val_accuracy\n",
      "Epoch 4/5\n",
      "391/391 [==============================] - 307s 784ms/step - loss: 0.8961 - accuracy: 0.6837 - val_loss: 0.8618 - val_accuracy: 0.6999\n",
      "WARNING:tensorflow:Early stopping conditioned on metric `val_acc` which is not available. Available metrics are: loss,accuracy,val_loss,val_accuracy\n",
      "Epoch 5/5\n",
      "391/391 [==============================] - 293s 750ms/step - loss: 0.8199 - accuracy: 0.7119 - val_loss: 0.7365 - val_accuracy: 0.7416\n",
      "WARNING:tensorflow:Early stopping conditioned on metric `val_acc` which is not available. Available metrics are: loss,accuracy,val_loss,val_accuracy\n"
     ]
    }
   ]
  },
  {
   "cell_type": "code",
   "execution_count": null,
   "outputs": [],
   "source": [],
   "metadata": {
    "collapsed": false
   }
  }
 ]
}
