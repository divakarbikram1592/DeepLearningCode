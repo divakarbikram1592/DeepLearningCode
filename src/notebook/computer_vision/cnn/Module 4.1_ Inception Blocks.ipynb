{
 "nbformat": 4,
 "nbformat_minor": 0,
 "metadata": {
  "colab": {
   "name": "Inception.ipynb",
   "provenance": []
  },
  "kernelspec": {
   "name": "python3",
   "language": "python",
   "display_name": "Python 3 (ipykernel)"
  }
 },
 "cells": [
  {
   "cell_type": "markdown",
   "metadata": {
    "id": "s3HBx1OFkKNo",
    "colab_type": "text"
   },
   "source": [
    "## Module 4.1: Inception Layers\n",
    "\n",
    "We will see how to create inception layers for use in advanced convolutional neural networks.\n",
    "\n",
    "We will:\n",
    "- Implement a function to create the basic and standard inception blocks.\n",
    "- Create basic models and visually examine the inception architecture.\n",
    "\n",
    "Since we are looking at *layers* rather than networks, we will not solve a problem in this module. However it is a good exercise for you to try on your own to make use of these inception layers to improve the CNN performance from module 2.2."
   ]
  },
  {
   "cell_type": "markdown",
   "metadata": {
    "id": "gU06JTGIkLP-",
    "colab_type": "text"
   },
   "source": [
    "We import required libraries."
   ]
  },
  {
   "cell_type": "code",
   "metadata": {
    "id": "NxmVuYBap6AE",
    "colab_type": "code",
    "outputId": "14a76b2c-f10a-4b85-fc53-d86876b08b26",
    "executionInfo": {
     "status": "ok",
     "timestamp": 1571826653409,
     "user_tz": -120,
     "elapsed": 2174,
     "user": {
      "displayName": "Michael Ashcroft",
      "photoUrl": "https://lh3.googleusercontent.com/a-/AAuE7mAaRQqpOuFHR3D_ZulW6qlXPomIq5vZ-wR4ZuIm=s64",
      "userId": "16725792548700883920"
     }
    },
    "colab": {
     "base_uri": "https://localhost:8080/",
     "height": 34
    },
    "ExecuteTime": {
     "end_time": "2024-02-28T05:37:52.334291Z",
     "start_time": "2024-02-28T05:37:37.245382Z"
    }
   },
   "source": [
    "from keras.models import Model\n",
    "from keras.layers import Input,Conv2D,Flatten,Dense\n",
    "from keras.layers import MaxPooling2D, concatenate\n",
    "# from keras.layers.merge import concatenate\n",
    "from keras.utils import plot_model"
   ],
   "execution_count": 1,
   "outputs": [
    {
     "name": "stderr",
     "output_type": "stream",
     "text": [
      "2024-02-28 11:07:43.102113: I tensorflow/core/platform/cpu_feature_guard.cc:182] This TensorFlow binary is optimized to use available CPU instructions in performance-critical operations.\n",
      "To enable the following instructions: AVX2 FMA, in other operations, rebuild TensorFlow with the appropriate compiler flags.\n"
     ]
    }
   ]
  },
  {
   "cell_type": "markdown",
   "metadata": {
    "id": "34ZOT4rcsBN2",
    "colab_type": "text"
   },
   "source": [
    "We make a wrapper function to create a basic inception block. We allow the caller to specify the number of 1x1, 3x3 and 5x5 filters to use - you could allow the caller much more freedom to specify the internal layers."
   ]
  },
  {
   "cell_type": "code",
   "metadata": {
    "id": "7xuC5QO9qHP7",
    "colab_type": "code",
    "colab": {},
    "ExecuteTime": {
     "end_time": "2024-02-28T05:41:58.223880Z",
     "start_time": "2024-02-28T05:41:58.161411Z"
    }
   },
   "source": [
    "# Creating a basic inception block\n",
    "def basic_inception_module(layer_in, f1, f3, f5):\n",
    "\t# 1x1 Convolution\n",
    "\tconv1 = Conv2D(f1, (1,1), padding='same', activation='relu')(layer_in)\n",
    "\t# 3x3 Convolution\n",
    "\tconv3 = Conv2D(f3, (3,3), padding='same', activation='relu')(layer_in)\n",
    "\t# 5x5 Convolution\n",
    "\tconv5 = Conv2D(f5, (5,5), padding='same', activation='relu')(layer_in)\n",
    "\t# 3x3 Max Pooling\n",
    "\tpool = MaxPooling2D((3,3), strides=(1,1), padding='same')(layer_in)\n",
    "\t# Concatenate\n",
    "\tlayer_out = concatenate([conv1, conv3, conv5, pool], axis=-1)\n",
    "\treturn layer_out"
   ],
   "execution_count": 2,
   "outputs": []
  },
  {
   "cell_type": "markdown",
   "metadata": {
    "id": "sLj052p-sWlC",
    "colab_type": "text"
   },
   "source": [
    "Let's create a model that consists of two basic inception blocks. Then we can get its summary and graph its architecture. Notice that now we have parallel layers the linear summary is less clear that the graphical representation."
   ]
  },
  {
   "cell_type": "code",
   "metadata": {
    "id": "xRt3rAXdrZ6i",
    "colab_type": "code",
    "outputId": "80a806b1-ddd1-434a-9c50-21cef6d270cf",
    "executionInfo": {
     "status": "ok",
     "timestamp": 1571826659250,
     "user_tz": -120,
     "elapsed": 1969,
     "user": {
      "displayName": "Michael Ashcroft",
      "photoUrl": "https://lh3.googleusercontent.com/a-/AAuE7mAaRQqpOuFHR3D_ZulW6qlXPomIq5vZ-wR4ZuIm=s64",
      "userId": "16725792548700883920"
     }
    },
    "colab": {
     "base_uri": "https://localhost:8080/",
     "height": 1000
    },
    "ExecuteTime": {
     "end_time": "2024-02-28T05:47:30.958246Z",
     "start_time": "2024-02-28T05:41:59.551182Z"
    }
   },
   "source": [
    "# Define input\n",
    "inputs1 = Input(shape=(128, 128, 3))\n",
    "# Add two inception blocks\n",
    "iblock1 = basic_inception_module(inputs1, 32, 64, 32)\n",
    "iblock2 = basic_inception_module(iblock1, 32, 64, 32)\n",
    "# Flatten for output\n",
    "flat = Flatten()(iblock2)\n",
    "dense1 = Dense(256, activation='relu')(flat)\n",
    "outputs = Dense(10, activation='softmax')(dense1)\n",
    "# Create model\n",
    "model1 = Model(inputs=inputs1, outputs=outputs)\n",
    "# Summarize model\n",
    "model1.summary()\n",
    "# Plot model graph\n",
    "plot_model(model1, show_shapes=True, to_file='naive_inception_module.png')"
   ],
   "execution_count": 3,
   "outputs": [
    {
     "name": "stdout",
     "output_type": "stream",
     "text": [
      "Model: \"model\"\n",
      "__________________________________________________________________________________________________\n",
      " Layer (type)                   Output Shape         Param #     Connected to                     \n",
      "==================================================================================================\n",
      " input_1 (InputLayer)           [(None, 128, 128, 3  0           []                               \n",
      "                                )]                                                                \n",
      "                                                                                                  \n",
      " conv2d (Conv2D)                (None, 128, 128, 32  128         ['input_1[0][0]']                \n",
      "                                )                                                                 \n",
      "                                                                                                  \n",
      " conv2d_1 (Conv2D)              (None, 128, 128, 64  1792        ['input_1[0][0]']                \n",
      "                                )                                                                 \n",
      "                                                                                                  \n",
      " conv2d_2 (Conv2D)              (None, 128, 128, 32  2432        ['input_1[0][0]']                \n",
      "                                )                                                                 \n",
      "                                                                                                  \n",
      " max_pooling2d (MaxPooling2D)   (None, 128, 128, 3)  0           ['input_1[0][0]']                \n",
      "                                                                                                  \n",
      " concatenate (Concatenate)      (None, 128, 128, 13  0           ['conv2d[0][0]',                 \n",
      "                                1)                                'conv2d_1[0][0]',               \n",
      "                                                                  'conv2d_2[0][0]',               \n",
      "                                                                  'max_pooling2d[0][0]']          \n",
      "                                                                                                  \n",
      " conv2d_3 (Conv2D)              (None, 128, 128, 32  4224        ['concatenate[0][0]']            \n",
      "                                )                                                                 \n",
      "                                                                                                  \n",
      " conv2d_4 (Conv2D)              (None, 128, 128, 64  75520       ['concatenate[0][0]']            \n",
      "                                )                                                                 \n",
      "                                                                                                  \n",
      " conv2d_5 (Conv2D)              (None, 128, 128, 32  104832      ['concatenate[0][0]']            \n",
      "                                )                                                                 \n",
      "                                                                                                  \n",
      " max_pooling2d_1 (MaxPooling2D)  (None, 128, 128, 13  0          ['concatenate[0][0]']            \n",
      "                                1)                                                                \n",
      "                                                                                                  \n",
      " concatenate_1 (Concatenate)    (None, 128, 128, 25  0           ['conv2d_3[0][0]',               \n",
      "                                9)                                'conv2d_4[0][0]',               \n",
      "                                                                  'conv2d_5[0][0]',               \n",
      "                                                                  'max_pooling2d_1[0][0]']        \n",
      "                                                                                                  \n",
      " flatten (Flatten)              (None, 4243456)      0           ['concatenate_1[0][0]']          \n",
      "                                                                                                  \n",
      " dense (Dense)                  (None, 256)          1086324992  ['flatten[0][0]']                \n",
      "                                                                                                  \n",
      " dense_1 (Dense)                (None, 10)           2570        ['dense[0][0]']                  \n",
      "                                                                                                  \n",
      "==================================================================================================\n",
      "Total params: 1,086,516,490\n",
      "Trainable params: 1,086,516,490\n",
      "Non-trainable params: 0\n",
      "__________________________________________________________________________________________________\n",
      "You must install pydot (`pip install pydot`) and install graphviz (see instructions at https://graphviz.gitlab.io/download/) for plot_model to work.\n"
     ]
    }
   ]
  },
  {
   "cell_type": "markdown",
   "metadata": {
    "id": "MEz5GXQmtf9h",
    "colab_type": "text"
   },
   "source": [
    "We make a wrapper function to create a standard inception block. We allow the caller to specify the number of 1x1, 3x3 and 5x5 filters to use, as well as the number of 1x1 filters to place before the 3x3 and 5x5 filter layers and after the max pooling layer. Again, you could allow the caller much more freedom to specify the internal layers."
   ]
  },
  {
   "cell_type": "code",
   "metadata": {
    "id": "P7vNzjG6tfDo",
    "colab_type": "code",
    "colab": {},
    "ExecuteTime": {
     "end_time": "2024-02-28T05:50:38.952593Z",
     "start_time": "2024-02-28T05:50:38.525672Z"
    }
   },
   "source": [
    "# Create inception module\n",
    "def inception_module(layer_in, f1, f3_in, f3_out, f5_in, f5_out, mp_out):\n",
    "\t# 1x1 Convolution\n",
    "\tconv1 = Conv2D(f1, (1,1), padding='same', activation='relu')(layer_in)\n",
    "\t# 3x3 Convolution\n",
    "\tconv3 = Conv2D(f3_in, (1,1), padding='same', activation='relu')(layer_in)\n",
    "\tconv3 = Conv2D(f3_out, (3,3), padding='same', activation='relu')(conv3)\n",
    "\t# 5x5 Convolution\n",
    "\tconv5 = Conv2D(f5_in, (1,1), padding='same', activation='relu')(layer_in)\n",
    "\tconv5 = Conv2D(f5_out, (5,5), padding='same', activation='relu')(conv5)\n",
    "\t# 3x3 Max Pooling\n",
    "\tpool = MaxPooling2D((3,3), strides=(1,1), padding='same')(layer_in)\n",
    "\tpool = Conv2D(mp_out, (1,1), padding='same', activation='relu')(pool)\n",
    "\t# Concatenate\n",
    "\tlayer_out = concatenate([conv1, conv3, conv5, pool], axis=-1)\n",
    "\treturn layer_out"
   ],
   "execution_count": 4,
   "outputs": []
  },
  {
   "cell_type": "markdown",
   "metadata": {
    "id": "oq1_953duerL",
    "colab_type": "text"
   },
   "source": [
    "Let's create a model that consists of two basic inception blocks to look at its summary and graph its architecture."
   ]
  },
  {
   "cell_type": "code",
   "metadata": {
    "id": "ZOiPAYOyue8j",
    "colab_type": "code",
    "outputId": "18e34fd1-3df6-445e-d54d-84c30e797698",
    "executionInfo": {
     "status": "ok",
     "timestamp": 1571826794640,
     "user_tz": -120,
     "elapsed": 1868,
     "user": {
      "displayName": "Michael Ashcroft",
      "photoUrl": "https://lh3.googleusercontent.com/a-/AAuE7mAaRQqpOuFHR3D_ZulW6qlXPomIq5vZ-wR4ZuIm=s64",
      "userId": "16725792548700883920"
     }
    },
    "colab": {
     "base_uri": "https://localhost:8080/",
     "height": 1000
    },
    "ExecuteTime": {
     "end_time": "2024-02-28T06:45:49.110754Z",
     "start_time": "2024-02-28T05:52:24.717310Z"
    }
   },
   "source": [
    "# Define input\n",
    "inputs1 = Input(shape=(128, 128, 3))\n",
    "# Add two inception blocks\n",
    "iblock1 = inception_module(inputs1, 64, 64, 128, 16, 32, 32)\n",
    "iblock2 = inception_module(iblock1, 64, 64, 128, 16, 32, 32)\n",
    "# Flatten for output\n",
    "flat = Flatten()(iblock2)\n",
    "dense1 = Dense(256, activation='relu')(flat)\n",
    "outputs = Dense(10, activation='softmax')(dense1)\n",
    "# Create model\n",
    "model2 = Model(inputs=inputs1, outputs=outputs)\n",
    "# Summarize model\n",
    "model2.summary()\n",
    "# Plot model graph\n",
    "plot_model(model2, show_shapes=True, to_file='inception_module.png')"
   ],
   "execution_count": 5,
   "outputs": [
    {
     "name": "stdout",
     "output_type": "stream",
     "text": [
      "Model: \"model_1\"\n",
      "__________________________________________________________________________________________________\n",
      " Layer (type)                   Output Shape         Param #     Connected to                     \n",
      "==================================================================================================\n",
      " input_2 (InputLayer)           [(None, 128, 128, 3  0           []                               \n",
      "                                )]                                                                \n",
      "                                                                                                  \n",
      " conv2d_7 (Conv2D)              (None, 128, 128, 64  256         ['input_2[0][0]']                \n",
      "                                )                                                                 \n",
      "                                                                                                  \n",
      " conv2d_9 (Conv2D)              (None, 128, 128, 16  64          ['input_2[0][0]']                \n",
      "                                )                                                                 \n",
      "                                                                                                  \n",
      " max_pooling2d_2 (MaxPooling2D)  (None, 128, 128, 3)  0          ['input_2[0][0]']                \n",
      "                                                                                                  \n",
      " conv2d_6 (Conv2D)              (None, 128, 128, 64  256         ['input_2[0][0]']                \n",
      "                                )                                                                 \n",
      "                                                                                                  \n",
      " conv2d_8 (Conv2D)              (None, 128, 128, 12  73856       ['conv2d_7[0][0]']               \n",
      "                                8)                                                                \n",
      "                                                                                                  \n",
      " conv2d_10 (Conv2D)             (None, 128, 128, 32  12832       ['conv2d_9[0][0]']               \n",
      "                                )                                                                 \n",
      "                                                                                                  \n",
      " conv2d_11 (Conv2D)             (None, 128, 128, 32  128         ['max_pooling2d_2[0][0]']        \n",
      "                                )                                                                 \n",
      "                                                                                                  \n",
      " concatenate_2 (Concatenate)    (None, 128, 128, 25  0           ['conv2d_6[0][0]',               \n",
      "                                6)                                'conv2d_8[0][0]',               \n",
      "                                                                  'conv2d_10[0][0]',              \n",
      "                                                                  'conv2d_11[0][0]']              \n",
      "                                                                                                  \n",
      " conv2d_13 (Conv2D)             (None, 128, 128, 64  16448       ['concatenate_2[0][0]']          \n",
      "                                )                                                                 \n",
      "                                                                                                  \n",
      " conv2d_15 (Conv2D)             (None, 128, 128, 16  4112        ['concatenate_2[0][0]']          \n",
      "                                )                                                                 \n",
      "                                                                                                  \n",
      " max_pooling2d_3 (MaxPooling2D)  (None, 128, 128, 25  0          ['concatenate_2[0][0]']          \n",
      "                                6)                                                                \n",
      "                                                                                                  \n",
      " conv2d_12 (Conv2D)             (None, 128, 128, 64  16448       ['concatenate_2[0][0]']          \n",
      "                                )                                                                 \n",
      "                                                                                                  \n",
      " conv2d_14 (Conv2D)             (None, 128, 128, 12  73856       ['conv2d_13[0][0]']              \n",
      "                                8)                                                                \n",
      "                                                                                                  \n",
      " conv2d_16 (Conv2D)             (None, 128, 128, 32  12832       ['conv2d_15[0][0]']              \n",
      "                                )                                                                 \n",
      "                                                                                                  \n",
      " conv2d_17 (Conv2D)             (None, 128, 128, 32  8224        ['max_pooling2d_3[0][0]']        \n",
      "                                )                                                                 \n",
      "                                                                                                  \n",
      " concatenate_3 (Concatenate)    (None, 128, 128, 25  0           ['conv2d_12[0][0]',              \n",
      "                                6)                                'conv2d_14[0][0]',              \n",
      "                                                                  'conv2d_16[0][0]',              \n",
      "                                                                  'conv2d_17[0][0]']              \n",
      "                                                                                                  \n",
      " flatten_1 (Flatten)            (None, 4194304)      0           ['concatenate_3[0][0]']          \n",
      "                                                                                                  \n",
      " dense_2 (Dense)                (None, 256)          1073742080  ['flatten_1[0][0]']              \n",
      "                                                                                                  \n",
      " dense_3 (Dense)                (None, 10)           2570        ['dense_2[0][0]']                \n",
      "                                                                                                  \n",
      "==================================================================================================\n",
      "Total params: 1,073,963,962\n",
      "Trainable params: 1,073,963,962\n",
      "Non-trainable params: 0\n",
      "__________________________________________________________________________________________________\n",
      "You must install pydot (`pip install pydot`) and install graphviz (see instructions at https://graphviz.gitlab.io/download/) for plot_model to work.\n"
     ]
    }
   ]
  },
  {
   "cell_type": "code",
   "execution_count": null,
   "outputs": [],
   "source": [],
   "metadata": {
    "collapsed": false
   }
  }
 ]
}
