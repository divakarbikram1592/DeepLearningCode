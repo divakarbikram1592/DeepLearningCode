{
 "nbformat": 4,
 "nbformat_minor": 0,
 "metadata": {
  "kernelspec": {
   "name": "python3",
   "language": "python",
   "display_name": "Python 3 (ipykernel)"
  },
  "toc": {
   "base_numbering": 1,
   "nav_menu": {},
   "number_sections": true,
   "sideBar": true,
   "skip_h1_title": false,
   "title_cell": "Table of Contents",
   "title_sidebar": "Contents",
   "toc_cell": false,
   "toc_position": {},
   "toc_section_display": true,
   "toc_window_display": false
  },
  "varInspector": {
   "cols": {
    "lenName": 16,
    "lenType": 16,
    "lenVar": 40
   },
   "kernels_config": {
    "python": {
     "delete_cmd_postfix": "",
     "delete_cmd_prefix": "del ",
     "library": "var_list.py",
     "varRefreshCmd": "print(var_dic_list())"
    },
    "r": {
     "delete_cmd_postfix": ") ",
     "delete_cmd_prefix": "rm(",
     "library": "var_list.r",
     "varRefreshCmd": "cat(var_dic_list()) "
    }
   },
   "types_to_exclude": [
    "module",
    "function",
    "builtin_function_or_method",
    "instance",
    "_Feature"
   ],
   "window_display": false
  },
  "colab": {
   "name": "Cifar10-Inception-TF2.X.ipynb",
   "provenance": [],
   "collapsed_sections": []
  },
  "language_info": {
   "name": "python"
  },
  "accelerator": "GPU"
 },
 "cells": [
  {
   "cell_type": "markdown",
   "metadata": {
    "id": "dFTIIcHkYBSt"
   },
   "source": [
    "# CIFAR10 with Inception module - TF2.X"
   ]
  },
  {
   "cell_type": "code",
   "metadata": {
    "colab": {
     "base_uri": "https://localhost:8080/"
    },
    "id": "mDgCSTJAYCus",
    "executionInfo": {
     "status": "ok",
     "timestamp": 1627933489320,
     "user_tz": 300,
     "elapsed": 1657,
     "user": {
      "displayName": "deep ai",
      "photoUrl": "https://lh3.googleusercontent.com/a-/AOh14GjfZWDM3qKZbLd0FrGsKXwHUuK8gNMkFMIT4Ye8=s64",
      "userId": "00364258643751704926"
     }
    },
    "outputId": "5888b758-cd20-4165-b7d2-7e152d8d1932",
    "ExecuteTime": {
     "end_time": "2024-02-25T04:47:06.897036Z",
     "start_time": "2024-02-25T04:47:06.468717Z"
    }
   },
   "source": [
    "import tensorflow as tf\n",
    "print(tf.__version__)\n",
    "!python --version"
   ],
   "execution_count": 27,
   "outputs": [
    {
     "name": "stdout",
     "output_type": "stream",
     "text": [
      "2.12.0\n",
      "Python 3.11.2\r\n"
     ]
    }
   ]
  },
  {
   "cell_type": "code",
   "metadata": {
    "id": "Gdi01NgVYBSz",
    "executionInfo": {
     "status": "ok",
     "timestamp": 1627933490618,
     "user_tz": 300,
     "elapsed": 3,
     "user": {
      "displayName": "deep ai",
      "photoUrl": "https://lh3.googleusercontent.com/a-/AOh14GjfZWDM3qKZbLd0FrGsKXwHUuK8gNMkFMIT4Ye8=s64",
      "userId": "00364258643751704926"
     }
    },
    "ExecuteTime": {
     "end_time": "2024-02-25T04:47:15.341018Z",
     "start_time": "2024-02-25T04:47:15.311213Z"
    }
   },
   "source": [
    "from tensorflow.python.keras.utils import np_utils\n",
    "from tensorflow.python.keras.layers import Input, Conv2D, MaxPooling2D, Flatten, Dense, concatenate\n",
    "from tensorflow.python.keras.models import Model\n",
    "from tensorflow.python.keras.callbacks import EarlyStopping, ModelCheckpoint\n",
    "from tensorflow.python.keras.optimizer_v2 import gradient_descent\n",
    "import matplotlib.pyplot as plt\n",
    "%matplotlib inline"
   ],
   "execution_count": 29,
   "outputs": []
  },
  {
   "cell_type": "markdown",
   "metadata": {
    "id": "1WEEnqvXYBS1"
   },
   "source": [
    "## Preprocessing and hyperparameters setup"
   ]
  },
  {
   "cell_type": "code",
   "metadata": {
    "id": "k2yRxaX7YBS2",
    "executionInfo": {
     "status": "ok",
     "timestamp": 1627933494711,
     "user_tz": 300,
     "elapsed": 175,
     "user": {
      "displayName": "deep ai",
      "photoUrl": "https://lh3.googleusercontent.com/a-/AOh14GjfZWDM3qKZbLd0FrGsKXwHUuK8gNMkFMIT4Ye8=s64",
      "userId": "00364258643751704926"
     }
    },
    "ExecuteTime": {
     "end_time": "2024-02-25T04:47:16.604486Z",
     "start_time": "2024-02-25T04:47:16.553991Z"
    }
   },
   "source": [
    "batch_size = 32  # orig paper trained all networks with batch_size=128\n",
    "epochs = 5\n",
    "lrate = 0.01\n",
    "decay = lrate/epochs\n",
    "data_augmentation = True\n",
    "num_classes = 10"
   ],
   "execution_count": 30,
   "outputs": []
  },
  {
   "cell_type": "code",
   "metadata": {
    "colab": {
     "base_uri": "https://localhost:8080/"
    },
    "id": "9fp9dkebYBS2",
    "executionInfo": {
     "status": "ok",
     "timestamp": 1627933502607,
     "user_tz": 300,
     "elapsed": 6457,
     "user": {
      "displayName": "deep ai",
      "photoUrl": "https://lh3.googleusercontent.com/a-/AOh14GjfZWDM3qKZbLd0FrGsKXwHUuK8gNMkFMIT4Ye8=s64",
      "userId": "00364258643751704926"
     }
    },
    "outputId": "b5fb240d-f86d-4ab1-81db-fa72a43c1b3a",
    "ExecuteTime": {
     "end_time": "2024-02-25T04:47:20.926661Z",
     "start_time": "2024-02-25T04:47:17.076445Z"
    }
   },
   "source": [
    "(X_train, y_train), (X_test, y_test) = tf.keras.datasets.cifar10.load_data()\n",
    "X_train = X_train.astype('float32') / 255\n",
    "X_test = X_test.astype('float32') / 255"
   ],
   "execution_count": 31,
   "outputs": []
  },
  {
   "cell_type": "code",
   "metadata": {
    "id": "suF02SvSYBS3",
    "executionInfo": {
     "status": "ok",
     "timestamp": 1627933502610,
     "user_tz": 300,
     "elapsed": 6,
     "user": {
      "displayName": "deep ai",
      "photoUrl": "https://lh3.googleusercontent.com/a-/AOh14GjfZWDM3qKZbLd0FrGsKXwHUuK8gNMkFMIT4Ye8=s64",
      "userId": "00364258643751704926"
     }
    },
    "ExecuteTime": {
     "end_time": "2024-02-25T04:47:20.949962Z",
     "start_time": "2024-02-25T04:47:20.929039Z"
    }
   },
   "source": [
    "y_train = np_utils.to_categorical(y_train, num_classes)\n",
    "y_test = np_utils.to_categorical(y_test, num_classes)"
   ],
   "execution_count": 32,
   "outputs": []
  },
  {
   "cell_type": "markdown",
   "metadata": {
    "id": "_pu-_w_LYBS4"
   },
   "source": [
    "## Create the inception module"
   ]
  },
  {
   "cell_type": "code",
   "metadata": {
    "id": "nEidTW_TYBS5",
    "executionInfo": {
     "status": "ok",
     "timestamp": 1627933502610,
     "user_tz": 300,
     "elapsed": 5,
     "user": {
      "displayName": "deep ai",
      "photoUrl": "https://lh3.googleusercontent.com/a-/AOh14GjfZWDM3qKZbLd0FrGsKXwHUuK8gNMkFMIT4Ye8=s64",
      "userId": "00364258643751704926"
     }
    },
    "ExecuteTime": {
     "end_time": "2024-02-24T13:55:56.085860Z",
     "start_time": "2024-02-24T13:55:56.039327Z"
    }
   },
   "source": [
    "input_img = Input(shape=(32,32,3))"
   ],
   "execution_count": 10,
   "outputs": []
  },
  {
   "cell_type": "code",
   "metadata": {
    "id": "KLK20zvzYBS6",
    "executionInfo": {
     "status": "ok",
     "timestamp": 1627933509388,
     "user_tz": 300,
     "elapsed": 5878,
     "user": {
      "displayName": "deep ai",
      "photoUrl": "https://lh3.googleusercontent.com/a-/AOh14GjfZWDM3qKZbLd0FrGsKXwHUuK8gNMkFMIT4Ye8=s64",
      "userId": "00364258643751704926"
     }
    },
    "ExecuteTime": {
     "end_time": "2024-02-25T04:49:28.050725Z",
     "start_time": "2024-02-25T04:49:27.836829Z"
    }
   },
   "source": [
    "group_1 = Conv2D(64, (1,1), padding='same', activation='relu')(input_img)\n",
    "group_1 = Conv2D(64, (3,3), padding='same', activation='relu')(group_1)\n",
    "group_2 = Conv2D(64, (1,1), padding='same', activation='relu')(input_img)\n",
    "group_2 = Conv2D(64, (5,5), padding='same', activation='relu')(group_2)\n",
    "group_3 = MaxPooling2D((3,3), strides=(1,1), padding='same')(input_img)\n",
    "group_3 = Conv2D(64, (1,1), padding='same', activation='relu')(group_3)"
   ],
   "execution_count": 33,
   "outputs": []
  },
  {
   "cell_type": "code",
   "metadata": {
    "id": "y-cyhpQVYBS7",
    "executionInfo": {
     "status": "ok",
     "timestamp": 1627933519700,
     "user_tz": 300,
     "elapsed": 178,
     "user": {
      "displayName": "deep ai",
      "photoUrl": "https://lh3.googleusercontent.com/a-/AOh14GjfZWDM3qKZbLd0FrGsKXwHUuK8gNMkFMIT4Ye8=s64",
      "userId": "00364258643751704926"
     }
    },
    "ExecuteTime": {
     "end_time": "2024-02-25T04:49:28.773114Z",
     "start_time": "2024-02-25T04:49:28.728310Z"
    }
   },
   "source": [
    "output = concatenate([group_1, group_2, group_3], axis=3)"
   ],
   "execution_count": 34,
   "outputs": []
  },
  {
   "cell_type": "code",
   "metadata": {
    "id": "m-3Ep_vFYBS7",
    "executionInfo": {
     "status": "ok",
     "timestamp": 1627933520707,
     "user_tz": 300,
     "elapsed": 170,
     "user": {
      "displayName": "deep ai",
      "photoUrl": "https://lh3.googleusercontent.com/a-/AOh14GjfZWDM3qKZbLd0FrGsKXwHUuK8gNMkFMIT4Ye8=s64",
      "userId": "00364258643751704926"
     }
    },
    "ExecuteTime": {
     "end_time": "2024-02-25T04:49:29.533927Z",
     "start_time": "2024-02-25T04:49:29.466734Z"
    }
   },
   "source": [
    "output = Flatten()(output)\n",
    "out = Dense(10, activation='softmax')(output)"
   ],
   "execution_count": 35,
   "outputs": []
  },
  {
   "cell_type": "code",
   "metadata": {
    "id": "xgkKJl7RYBS7",
    "executionInfo": {
     "status": "ok",
     "timestamp": 1627933521718,
     "user_tz": 300,
     "elapsed": 2,
     "user": {
      "displayName": "deep ai",
      "photoUrl": "https://lh3.googleusercontent.com/a-/AOh14GjfZWDM3qKZbLd0FrGsKXwHUuK8gNMkFMIT4Ye8=s64",
      "userId": "00364258643751704926"
     }
    },
    "ExecuteTime": {
     "end_time": "2024-02-25T04:49:30.508234Z",
     "start_time": "2024-02-25T04:49:30.446796Z"
    }
   },
   "source": [
    "model = Model(inputs = input_img, outputs= out)"
   ],
   "execution_count": 36,
   "outputs": []
  },
  {
   "cell_type": "code",
   "metadata": {
    "colab": {
     "base_uri": "https://localhost:8080/"
    },
    "id": "JSonweQAYBS8",
    "executionInfo": {
     "status": "ok",
     "timestamp": 1627933523630,
     "user_tz": 300,
     "elapsed": 179,
     "user": {
      "displayName": "deep ai",
      "photoUrl": "https://lh3.googleusercontent.com/a-/AOh14GjfZWDM3qKZbLd0FrGsKXwHUuK8gNMkFMIT4Ye8=s64",
      "userId": "00364258643751704926"
     }
    },
    "outputId": "6dc8a1fe-f34f-4a66-eb7f-b55ca330ef44",
    "ExecuteTime": {
     "end_time": "2024-02-25T04:49:31.553631Z",
     "start_time": "2024-02-25T04:49:31.527316Z"
    }
   },
   "source": [
    "model.summary()"
   ],
   "execution_count": 37,
   "outputs": [
    {
     "name": "stdout",
     "output_type": "stream",
     "text": [
      "Model: \"model_1\"\n",
      "__________________________________________________________________________________________________\n",
      "Layer (type)                    Output Shape         Param #     Connected to                     \n",
      "==================================================================================================\n",
      "input_1 (InputLayer)            [(None, 32, 32, 3)]  0                                            \n",
      "__________________________________________________________________________________________________\n",
      "conv2d_5 (Conv2D)               (None, 32, 32, 64)   256         input_1[0][0]                    \n",
      "__________________________________________________________________________________________________\n",
      "conv2d_7 (Conv2D)               (None, 32, 32, 64)   256         input_1[0][0]                    \n",
      "__________________________________________________________________________________________________\n",
      "max_pooling2d_1 (MaxPooling2D)  (None, 32, 32, 3)    0           input_1[0][0]                    \n",
      "__________________________________________________________________________________________________\n",
      "conv2d_6 (Conv2D)               (None, 32, 32, 64)   36928       conv2d_5[0][0]                   \n",
      "__________________________________________________________________________________________________\n",
      "conv2d_8 (Conv2D)               (None, 32, 32, 64)   102464      conv2d_7[0][0]                   \n",
      "__________________________________________________________________________________________________\n",
      "conv2d_9 (Conv2D)               (None, 32, 32, 64)   256         max_pooling2d_1[0][0]            \n",
      "__________________________________________________________________________________________________\n",
      "concatenate_1 (Concatenate)     (None, 32, 32, 192)  0           conv2d_6[0][0]                   \n",
      "                                                                 conv2d_8[0][0]                   \n",
      "                                                                 conv2d_9[0][0]                   \n",
      "__________________________________________________________________________________________________\n",
      "flatten_1 (Flatten)             (None, 196608)       0           concatenate_1[0][0]              \n",
      "__________________________________________________________________________________________________\n",
      "dense_1 (Dense)                 (None, 10)           1966090     flatten_1[0][0]                  \n",
      "==================================================================================================\n",
      "Total params: 2,106,250\n",
      "Trainable params: 2,106,250\n",
      "Non-trainable params: 0\n",
      "__________________________________________________________________________________________________\n"
     ]
    }
   ]
  },
  {
   "cell_type": "markdown",
   "metadata": {
    "id": "RINXqxFDYBS9"
   },
   "source": [
    "## Setting up the training"
   ]
  },
  {
   "cell_type": "code",
   "metadata": {
    "id": "cUXH4_bDYBS9",
    "executionInfo": {
     "status": "ok",
     "timestamp": 1627933527072,
     "user_tz": 300,
     "elapsed": 194,
     "user": {
      "displayName": "deep ai",
      "photoUrl": "https://lh3.googleusercontent.com/a-/AOh14GjfZWDM3qKZbLd0FrGsKXwHUuK8gNMkFMIT4Ye8=s64",
      "userId": "00364258643751704926"
     }
    },
    "ExecuteTime": {
     "end_time": "2024-02-25T04:49:42.175438Z",
     "start_time": "2024-02-25T04:49:42.113549Z"
    }
   },
   "source": [
    "sgd = gradient_descent.SGD(lr =lrate, momentum=0.9, decay=decay, nesterov=False)"
   ],
   "execution_count": 38,
   "outputs": [
    {
     "name": "stderr",
     "output_type": "stream",
     "text": [
      "/Users/apple/Documents/Projects-Python/DeepLearningCode/lib/python3.11/site-packages/tensorflow/python/keras/optimizer_v2/optimizer_v2.py:368: UserWarning: The `lr` argument is deprecated, use `learning_rate` instead.\n",
      "  warnings.warn(\n"
     ]
    }
   ]
  },
  {
   "cell_type": "code",
   "metadata": {
    "id": "4A1Xa3SmYBS9",
    "executionInfo": {
     "status": "ok",
     "timestamp": 1627933528577,
     "user_tz": 300,
     "elapsed": 184,
     "user": {
      "displayName": "deep ai",
      "photoUrl": "https://lh3.googleusercontent.com/a-/AOh14GjfZWDM3qKZbLd0FrGsKXwHUuK8gNMkFMIT4Ye8=s64",
      "userId": "00364258643751704926"
     }
    },
    "ExecuteTime": {
     "end_time": "2024-02-25T04:49:44.565343Z",
     "start_time": "2024-02-25T04:49:44.540713Z"
    }
   },
   "source": [
    "model.compile(loss='categorical_crossentropy', optimizer=sgd, metrics=['accuracy'])"
   ],
   "execution_count": 39,
   "outputs": []
  },
  {
   "cell_type": "code",
   "metadata": {
    "id": "YB0udlpMYBS9",
    "executionInfo": {
     "status": "ok",
     "timestamp": 1627934502113,
     "user_tz": 300,
     "elapsed": 181,
     "user": {
      "displayName": "deep ai",
      "photoUrl": "https://lh3.googleusercontent.com/a-/AOh14GjfZWDM3qKZbLd0FrGsKXwHUuK8gNMkFMIT4Ye8=s64",
      "userId": "00364258643751704926"
     }
    },
    "ExecuteTime": {
     "end_time": "2024-02-25T04:59:59.170783Z",
     "start_time": "2024-02-25T04:59:59.136233Z"
    }
   },
   "source": [
    "filepath = \"/Users/apple/Documents/Projects-Python/DeepLearningCode/src/notebook/computer_vision/cnn/data/inception-model.h5\"\n",
    "checkpoint = ModelCheckpoint(filepath, monitor='val_loss', verbose=1, save_best_only=True)"
   ],
   "execution_count": 40,
   "outputs": []
  },
  {
   "cell_type": "code",
   "metadata": {
    "id": "-0tOiTFnYBS-",
    "executionInfo": {
     "status": "ok",
     "timestamp": 1627934503399,
     "user_tz": 300,
     "elapsed": 5,
     "user": {
      "displayName": "deep ai",
      "photoUrl": "https://lh3.googleusercontent.com/a-/AOh14GjfZWDM3qKZbLd0FrGsKXwHUuK8gNMkFMIT4Ye8=s64",
      "userId": "00364258643751704926"
     }
    },
    "ExecuteTime": {
     "end_time": "2024-02-25T05:00:01.934813Z",
     "start_time": "2024-02-25T05:00:01.910918Z"
    }
   },
   "source": [
    "early = EarlyStopping(monitor=\"val_loss\", \n",
    "                      mode=\"min\", \n",
    "                      patience=5, restore_best_weights=True)\n",
    "callbacks = [checkpoint, early]"
   ],
   "execution_count": 41,
   "outputs": []
  },
  {
   "cell_type": "code",
   "metadata": {
    "colab": {
     "base_uri": "https://localhost:8080/"
    },
    "id": "FHYzZb6rYBS-",
    "executionInfo": {
     "status": "ok",
     "timestamp": 1627934505927,
     "user_tz": 300,
     "elapsed": 171,
     "user": {
      "displayName": "deep ai",
      "photoUrl": "https://lh3.googleusercontent.com/a-/AOh14GjfZWDM3qKZbLd0FrGsKXwHUuK8gNMkFMIT4Ye8=s64",
      "userId": "00364258643751704926"
     }
    },
    "outputId": "8d2cb105-cb8e-42c6-f401-51657a4a65b4",
    "ExecuteTime": {
     "end_time": "2024-02-25T05:20:28.273054Z",
     "start_time": "2024-02-25T05:20:28.228770Z"
    }
   },
   "source": [
    "if not data_augmentation:\n",
    "    print('Not using data augmentation.')\n",
    "    history = model.fit(X_train, y_train,\n",
    "              batch_size=batch_size,\n",
    "              epochs=epochs,\n",
    "              validation_data=(X_test, y_test),\n",
    "              callbacks=callbacks)\n",
    "else:\n",
    "    print('Using real-time data augmentation.')\n",
    "    # This will do preprocessing and realtime data augmentation:\n",
    "    datagen = tf.keras.preprocessing.image.ImageDataGenerator(\n",
    "        # set input mean to 0 over the dataset\n",
    "        featurewise_center=False,\n",
    "        # set each sample mean to 0\n",
    "        samplewise_center=False,\n",
    "        # divide inputs by std of dataset\n",
    "        featurewise_std_normalization=False,\n",
    "        # divide each input by its std\n",
    "        samplewise_std_normalization=False,\n",
    "        # apply ZCA whitening\n",
    "        zca_whitening=False,\n",
    "        # epsilon for ZCA whitening\n",
    "        zca_epsilon=1e-06,\n",
    "        # randomly rotate images in the range (deg 0 to 180)\n",
    "        rotation_range=30,\n",
    "        # randomly shift images horizontally\n",
    "        width_shift_range=0.1,\n",
    "        # randomly shift images vertically\n",
    "        height_shift_range=0.1,\n",
    "        # set range for random shear\n",
    "        shear_range=0.2,\n",
    "        # set range for random zoom\n",
    "        zoom_range=0.2,\n",
    "        # set range for random channel shifts\n",
    "        channel_shift_range=0.,\n",
    "        # set mode for filling points outside the input boundaries\n",
    "        fill_mode='nearest',\n",
    "        # value used for fill_mode = \"constant\"\n",
    "        cval=0.,\n",
    "        # randomly flip images\n",
    "        horizontal_flip=True,\n",
    "        # randomly flip images\n",
    "        vertical_flip=False,\n",
    "        # set rescaling factor (applied before any other transformation)\n",
    "        rescale=None,\n",
    "        # set function that will be applied on each input\n",
    "        preprocessing_function=None,\n",
    "        # image data format, either \"channels_first\" or \"channels_last\"\n",
    "        data_format=None,\n",
    "        # fraction of images reserved for validation (strictly between 0 and 1)\n",
    "        validation_split=0.0)"
   ],
   "execution_count": 43,
   "outputs": [
    {
     "name": "stdout",
     "output_type": "stream",
     "text": [
      "Using real-time data augmentation.\n"
     ]
    }
   ]
  },
  {
   "cell_type": "markdown",
   "metadata": {
    "id": "8YjUnfGbYBS_"
   },
   "source": [
    "## Train model"
   ]
  },
  {
   "cell_type": "code",
   "metadata": {
    "id": "DdbIC7SDYBS_",
    "executionInfo": {
     "status": "ok",
     "timestamp": 1627934510929,
     "user_tz": 300,
     "elapsed": 175,
     "user": {
      "displayName": "deep ai",
      "photoUrl": "https://lh3.googleusercontent.com/a-/AOh14GjfZWDM3qKZbLd0FrGsKXwHUuK8gNMkFMIT4Ye8=s64",
      "userId": "00364258643751704926"
     }
    },
    "ExecuteTime": {
     "end_time": "2024-02-25T05:20:34.809737Z",
     "start_time": "2024-02-25T05:20:30.347122Z"
    }
   },
   "source": [
    "datagen.fit(X_train)\n",
    "X_train_generator = datagen.flow(X_train, y_train, batch_size=batch_size)"
   ],
   "execution_count": 44,
   "outputs": []
  },
  {
   "cell_type": "code",
   "metadata": {
    "colab": {
     "base_uri": "https://localhost:8080/"
    },
    "id": "TJjedTfwYBTA",
    "executionInfo": {
     "status": "ok",
     "timestamp": 1627934512166,
     "user_tz": 300,
     "elapsed": 189,
     "user": {
      "displayName": "deep ai",
      "photoUrl": "https://lh3.googleusercontent.com/a-/AOh14GjfZWDM3qKZbLd0FrGsKXwHUuK8gNMkFMIT4Ye8=s64",
      "userId": "00364258643751704926"
     }
    },
    "outputId": "34e88a32-4146-43a5-b5a4-43a704026d74",
    "ExecuteTime": {
     "end_time": "2024-02-25T05:20:36.069550Z",
     "start_time": "2024-02-25T05:20:36.042954Z"
    }
   },
   "source": [
    "print(f\"Number of samples:{X_train_generator.n}\")\n",
    "print(f\"Batch size:{X_train_generator.batch_size}\")\n",
    "step_size_train = X_train_generator.n // X_train_generator.batch_size\n",
    "print(f\"Step size train: {step_size_train}\")"
   ],
   "execution_count": 45,
   "outputs": [
    {
     "name": "stdout",
     "output_type": "stream",
     "text": [
      "Number of samples:50000\n",
      "Batch size:32\n",
      "Step size train: 1562\n"
     ]
    }
   ]
  },
  {
   "cell_type": "code",
   "metadata": {
    "colab": {
     "base_uri": "https://localhost:8080/"
    },
    "id": "xc1RRi02YBTA",
    "executionInfo": {
     "status": "ok",
     "timestamp": 1627934862393,
     "user_tz": 300,
     "elapsed": 349050,
     "user": {
      "displayName": "deep ai",
      "photoUrl": "https://lh3.googleusercontent.com/a-/AOh14GjfZWDM3qKZbLd0FrGsKXwHUuK8gNMkFMIT4Ye8=s64",
      "userId": "00364258643751704926"
     }
    },
    "outputId": "9aef58f9-fbb9-40af-e238-dc8c78c71147",
    "ExecuteTime": {
     "end_time": "2024-02-25T07:01:25.360848Z",
     "start_time": "2024-02-25T05:20:44.692978Z"
    }
   },
   "source": [
    "history = model.fit(X_train_generator,\n",
    "                        validation_data=(X_test, y_test),\n",
    "                        epochs=epochs, verbose=1,\n",
    "                        steps_per_epoch=step_size_train,\n",
    "                        callbacks=callbacks)"
   ],
   "execution_count": 46,
   "outputs": [
    {
     "name": "stderr",
     "output_type": "stream",
     "text": [
      "2024-02-25 10:50:45.114171: I tensorflow/core/common_runtime/executor.cc:1197] [/device:CPU:0] (DEBUG INFO) Executor start aborting (this does not indicate an error and you can ignore this message): INVALID_ARGUMENT: You must feed a value for placeholder tensor 'Placeholder/_0' with dtype int32\n",
      "\t [[{{node Placeholder/_0}}]]\n"
     ]
    },
    {
     "name": "stdout",
     "output_type": "stream",
     "text": [
      "Epoch 1/5\n",
      "1562/1562 [==============================] - 895s 571ms/step - loss: 1.6939 - accuracy: 0.3949 - val_loss: 1.3764 - val_accuracy: 0.5030\n",
      "\n",
      "Epoch 00001: val_loss improved from inf to 1.37636, saving model to /Users/apple/Documents/Projects-Python/DeepLearningCode/src/notebook/computer_vision/cnn/data/inception-model.h5\n",
      "Epoch 2/5\n",
      "1562/1562 [==============================] - 1043s 668ms/step - loss: 1.4879 - accuracy: 0.4673 - val_loss: 1.3756 - val_accuracy: 0.5145\n",
      "\n",
      "Epoch 00002: val_loss improved from 1.37636 to 1.37564, saving model to /Users/apple/Documents/Projects-Python/DeepLearningCode/src/notebook/computer_vision/cnn/data/inception-model.h5\n",
      "Epoch 3/5\n",
      "1562/1562 [==============================] - 1321s 846ms/step - loss: 1.4348 - accuracy: 0.4911 - val_loss: 1.3089 - val_accuracy: 0.5398\n",
      "\n",
      "Epoch 00003: val_loss improved from 1.37564 to 1.30891, saving model to /Users/apple/Documents/Projects-Python/DeepLearningCode/src/notebook/computer_vision/cnn/data/inception-model.h5\n",
      "Epoch 4/5\n",
      "1562/1562 [==============================] - 1291s 826ms/step - loss: 1.4032 - accuracy: 0.5021 - val_loss: 1.3016 - val_accuracy: 0.5479\n",
      "\n",
      "Epoch 00004: val_loss improved from 1.30891 to 1.30158, saving model to /Users/apple/Documents/Projects-Python/DeepLearningCode/src/notebook/computer_vision/cnn/data/inception-model.h5\n",
      "Epoch 5/5\n",
      "1562/1562 [==============================] - 1489s 954ms/step - loss: 1.3804 - accuracy: 0.5106 - val_loss: 1.2540 - val_accuracy: 0.5619\n",
      "\n",
      "Epoch 00005: val_loss improved from 1.30158 to 1.25397, saving model to /Users/apple/Documents/Projects-Python/DeepLearningCode/src/notebook/computer_vision/cnn/data/inception-model.h5\n"
     ]
    }
   ]
  },
  {
   "cell_type": "markdown",
   "metadata": {
    "id": "nhmzWQQbYBTB"
   },
   "source": [
    "## Visualizing metrics"
   ]
  },
  {
   "cell_type": "code",
   "metadata": {
    "id": "jzUd7D5TYBTB",
    "colab": {
     "base_uri": "https://localhost:8080/",
     "height": 312
    },
    "executionInfo": {
     "status": "ok",
     "timestamp": 1627934868223,
     "user_tz": 300,
     "elapsed": 1118,
     "user": {
      "displayName": "deep ai",
      "photoUrl": "https://lh3.googleusercontent.com/a-/AOh14GjfZWDM3qKZbLd0FrGsKXwHUuK8gNMkFMIT4Ye8=s64",
      "userId": "00364258643751704926"
     }
    },
    "outputId": "0437b52c-be60-4661-ea0d-2aa3e672450d",
    "ExecuteTime": {
     "end_time": "2024-02-25T08:18:52.260136Z",
     "start_time": "2024-02-25T08:18:51.469699Z"
    }
   },
   "source": [
    "plt.plot(history.history['accuracy'])\n",
    "plt.plot(history.history['val_accuracy'])\n",
    "plt.title('Model accuracy')\n",
    "plt.ylabel('Accuracy')\n",
    "plt.xlabel('Epoch')\n",
    "plt.legend(['Train', 'Test'], loc='upper left')"
   ],
   "execution_count": 47,
   "outputs": [
    {
     "data": {
      "text/plain": "<matplotlib.legend.Legend at 0x1332ea210>"
     },
     "execution_count": 47,
     "metadata": {},
     "output_type": "execute_result"
    },
    {
     "data": {
      "text/plain": "<Figure size 640x480 with 1 Axes>",
      "image/png": "[encoded data removed]"
     },
     "metadata": {},
     "output_type": "display_data"
    }
   ]
  },
  {
   "cell_type": "code",
   "metadata": {
    "id": "cMCFJpy4YBTB",
    "colab": {
     "base_uri": "https://localhost:8080/",
     "height": 312
    },
    "executionInfo": {
     "status": "ok",
     "timestamp": 1627934872159,
     "user_tz": 300,
     "elapsed": 410,
     "user": {
      "displayName": "deep ai",
      "photoUrl": "https://lh3.googleusercontent.com/a-/AOh14GjfZWDM3qKZbLd0FrGsKXwHUuK8gNMkFMIT4Ye8=s64",
      "userId": "00364258643751704926"
     }
    },
    "outputId": "4e5ff910-a18c-4210-8a85-f0700bc3eeec",
    "ExecuteTime": {
     "end_time": "2024-02-25T08:18:54.751554Z",
     "start_time": "2024-02-25T08:18:53.527815Z"
    }
   },
   "source": [
    "plt.plot(history.history['loss'])\n",
    "plt.plot(history.history['val_loss'])\n",
    "plt.title('Model loss')\n",
    "plt.ylabel('Loss')\n",
    "plt.xlabel('Epoch')\n",
    "plt.legend(['Train', 'Test'], loc='upper left')"
   ],
   "execution_count": 48,
   "outputs": [
    {
     "data": {
      "text/plain": "<matplotlib.legend.Legend at 0x132cc8e50>"
     },
     "execution_count": 48,
     "metadata": {},
     "output_type": "execute_result"
    },
    {
     "data": {
      "text/plain": "<Figure size 640x480 with 1 Axes>",
      "image/png": "[encoded data removed]"
     },
     "metadata": {},
     "output_type": "display_data"
    }
   ]
  }
 ]
}
