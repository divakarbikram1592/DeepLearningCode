{
 "nbformat": 4,
 "nbformat_minor": 0,
 "metadata": {
  "kernelspec": {
   "name": "python3",
   "language": "python",
   "display_name": "Python 3 (ipykernel)"
  },
  "colab": {
   "name": "Activation Functions - TF2.X.ipynb",
   "provenance": [],
   "collapsed_sections": []
  },
  "language_info": {
   "name": "python"
  },
  "accelerator": "GPU"
 },
 "cells": [
  {
   "cell_type": "markdown",
   "metadata": {
    "id": "C9NmwlYPgoTC"
   },
   "source": [
    "# ACTIVATION FUNCTIONS"
   ]
  },
  {
   "cell_type": "code",
   "metadata": {
    "colab": {
     "base_uri": "https://localhost:8080/"
    },
    "id": "ELWRxsAHgoTG",
    "executionInfo": {
     "status": "ok",
     "timestamp": 1627918852161,
     "user_tz": 300,
     "elapsed": 1862,
     "user": {
      "displayName": "deep ai",
      "photoUrl": "https://lh3.googleusercontent.com/a-/AOh14GjfZWDM3qKZbLd0FrGsKXwHUuK8gNMkFMIT4Ye8=s64",
      "userId": "00364258643751704926"
     }
    },
    "outputId": "8e16244c-e153-4b8c-d63e-7cd32894c4e7",
    "ExecuteTime": {
     "end_time": "2024-02-27T07:22:13.991402Z",
     "start_time": "2024-02-27T07:21:55.878722Z"
    }
   },
   "source": [
    "import tensorflow as tf\n",
    "print(tf.__version__)\n",
    "!python --version"
   ],
   "execution_count": 1,
   "outputs": [
    {
     "name": "stderr",
     "output_type": "stream",
     "text": [
      "2024-02-27 12:52:01.622276: I tensorflow/core/platform/cpu_feature_guard.cc:182] This TensorFlow binary is optimized to use available CPU instructions in performance-critical operations.\n",
      "To enable the following instructions: AVX2 FMA, in other operations, rebuild TensorFlow with the appropriate compiler flags.\n"
     ]
    },
    {
     "name": "stdout",
     "output_type": "stream",
     "text": [
      "2.12.0\n",
      "Python 3.11.2\r\n"
     ]
    }
   ]
  },
  {
   "cell_type": "code",
   "metadata": {
    "id": "LMXGtzj4goTI",
    "executionInfo": {
     "status": "ok",
     "timestamp": 1627918852162,
     "user_tz": 300,
     "elapsed": 12,
     "user": {
      "displayName": "deep ai",
      "photoUrl": "https://lh3.googleusercontent.com/a-/AOh14GjfZWDM3qKZbLd0FrGsKXwHUuK8gNMkFMIT4Ye8=s64",
      "userId": "00364258643751704926"
     }
    },
    "ExecuteTime": {
     "end_time": "2024-02-27T07:23:06.459670Z",
     "start_time": "2024-02-27T07:23:06.388226Z"
    }
   },
   "source": [
    "from tensorflow.python.keras.models import Sequential\n",
    "from tensorflow.python.keras.layers import Dense\n",
    "from tensorflow.python.keras.utils import np_utils\n",
    "from tensorflow.python.keras.callbacks import Callback\n",
    "from tensorflow.python.keras.utils import np_utils\n",
    "import numpy as np"
   ],
   "execution_count": 2,
   "outputs": []
  },
  {
   "cell_type": "code",
   "metadata": {
    "colab": {
     "base_uri": "https://localhost:8080/"
    },
    "id": "k6fwfOa0goTJ",
    "executionInfo": {
     "status": "ok",
     "timestamp": 1627918852455,
     "user_tz": 300,
     "elapsed": 302,
     "user": {
      "displayName": "deep ai",
      "photoUrl": "https://lh3.googleusercontent.com/a-/AOh14GjfZWDM3qKZbLd0FrGsKXwHUuK8gNMkFMIT4Ye8=s64",
      "userId": "00364258643751704926"
     }
    },
    "outputId": "53bc27b3-d040-4921-b6d4-c6c8ca4f55c3",
    "ExecuteTime": {
     "end_time": "2024-02-27T07:23:25.983322Z",
     "start_time": "2024-02-27T07:23:25.501232Z"
    }
   },
   "source": [
    "(X_train_, y_train_), (X_test_, y_test_) = tf.keras.datasets.mnist.load_data()"
   ],
   "execution_count": 3,
   "outputs": []
  },
  {
   "cell_type": "markdown",
   "metadata": {
    "id": "pez2rGtCgoTJ"
   },
   "source": [
    "## Data Preprocessing:"
   ]
  },
  {
   "cell_type": "code",
   "metadata": {
    "id": "P32WTpXZgoTK",
    "executionInfo": {
     "status": "ok",
     "timestamp": 1627918853118,
     "user_tz": 300,
     "elapsed": 665,
     "user": {
      "displayName": "deep ai",
      "photoUrl": "https://lh3.googleusercontent.com/a-/AOh14GjfZWDM3qKZbLd0FrGsKXwHUuK8gNMkFMIT4Ye8=s64",
      "userId": "00364258643751704926"
     }
    },
    "ExecuteTime": {
     "end_time": "2024-02-27T07:23:28.335396Z",
     "start_time": "2024-02-27T07:23:27.547307Z"
    }
   },
   "source": [
    "# Normalize data\n",
    "X_train = X_train_.astype('float32') / 255.\n",
    "X_test = X_test_.astype('float32') / 255."
   ],
   "execution_count": 4,
   "outputs": []
  },
  {
   "cell_type": "code",
   "metadata": {
    "id": "3eLK1Y2mgoTK",
    "executionInfo": {
     "status": "ok",
     "timestamp": 1627918853118,
     "user_tz": 300,
     "elapsed": 7,
     "user": {
      "displayName": "deep ai",
      "photoUrl": "https://lh3.googleusercontent.com/a-/AOh14GjfZWDM3qKZbLd0FrGsKXwHUuK8gNMkFMIT4Ye8=s64",
      "userId": "00364258643751704926"
     }
    },
    "ExecuteTime": {
     "end_time": "2024-02-27T07:24:25.743375Z",
     "start_time": "2024-02-27T07:24:25.687191Z"
    }
   },
   "source": [
    "# One hot encoding labels\n",
    "y_train = np_utils.to_categorical(y_train_, 10)\n",
    "y_test = np_utils.to_categorical(y_test_, 10)"
   ],
   "execution_count": 5,
   "outputs": []
  },
  {
   "cell_type": "code",
   "metadata": {
    "id": "h0JLxkIigoTM",
    "executionInfo": {
     "status": "ok",
     "timestamp": 1627918853603,
     "user_tz": 300,
     "elapsed": 3,
     "user": {
      "displayName": "deep ai",
      "photoUrl": "https://lh3.googleusercontent.com/a-/AOh14GjfZWDM3qKZbLd0FrGsKXwHUuK8gNMkFMIT4Ye8=s64",
      "userId": "00364258643751704926"
     }
    },
    "ExecuteTime": {
     "end_time": "2024-02-27T07:24:26.520507Z",
     "start_time": "2024-02-27T07:24:26.468295Z"
    }
   },
   "source": [
    "# Flatten data\n",
    "X_train = np.reshape(X_train, (60000, 784))\n",
    "X_test = np.reshape(X_test, (10000, 784))"
   ],
   "execution_count": 6,
   "outputs": []
  },
  {
   "cell_type": "markdown",
   "metadata": {
    "id": "GMmyPBuMgoTN"
   },
   "source": [
    "## Creating NN with sigmoid activation function:"
   ]
  },
  {
   "cell_type": "code",
   "metadata": {
    "id": "i6H-emtGgoTO",
    "executionInfo": {
     "status": "ok",
     "timestamp": 1627918861379,
     "user_tz": 300,
     "elapsed": 5798,
     "user": {
      "displayName": "deep ai",
      "photoUrl": "https://lh3.googleusercontent.com/a-/AOh14GjfZWDM3qKZbLd0FrGsKXwHUuK8gNMkFMIT4Ye8=s64",
      "userId": "00364258643751704926"
     }
    },
    "ExecuteTime": {
     "end_time": "2024-02-27T07:24:28.976485Z",
     "start_time": "2024-02-27T07:24:28.375152Z"
    }
   },
   "source": [
    "nn_sigmoid = Sequential()\n",
    "nn_sigmoid.add(Dense(700, input_dim=784, activation='sigmoid'))\n",
    "nn_sigmoid.add(Dense(700, activation='sigmoid'))\n",
    "nn_sigmoid.add(Dense(700, activation='sigmoid'))\n",
    "nn_sigmoid.add(Dense(700, activation='sigmoid'))\n",
    "nn_sigmoid.add(Dense(700, activation='sigmoid'))\n",
    "nn_sigmoid.add(Dense(350, activation='sigmoid'))\n",
    "nn_sigmoid.add(Dense(100, activation='sigmoid'))\n",
    "nn_sigmoid.add(Dense(10, activation='softmax'))"
   ],
   "execution_count": 7,
   "outputs": []
  },
  {
   "cell_type": "code",
   "metadata": {
    "id": "vsaLI3vKgoTP",
    "executionInfo": {
     "status": "ok",
     "timestamp": 1627918861380,
     "user_tz": 300,
     "elapsed": 5,
     "user": {
      "displayName": "deep ai",
      "photoUrl": "https://lh3.googleusercontent.com/a-/AOh14GjfZWDM3qKZbLd0FrGsKXwHUuK8gNMkFMIT4Ye8=s64",
      "userId": "00364258643751704926"
     }
    },
    "ExecuteTime": {
     "end_time": "2024-02-27T07:24:35.734980Z",
     "start_time": "2024-02-27T07:24:35.382193Z"
    }
   },
   "source": [
    "# Compile model with SGD\n",
    "nn_sigmoid.compile(loss='categorical_crossentropy',optimizer='sgd',metrics=['accuracy'])"
   ],
   "execution_count": 8,
   "outputs": []
  },
  {
   "cell_type": "markdown",
   "metadata": {
    "id": "reuLNZSXgoTP"
   },
   "source": [
    "## Creating NN with the ReLU activation function:"
   ]
  },
  {
   "cell_type": "code",
   "metadata": {
    "id": "nCqZKFLygoTP",
    "executionInfo": {
     "status": "ok",
     "timestamp": 1627918861680,
     "user_tz": 300,
     "elapsed": 304,
     "user": {
      "displayName": "deep ai",
      "photoUrl": "https://lh3.googleusercontent.com/a-/AOh14GjfZWDM3qKZbLd0FrGsKXwHUuK8gNMkFMIT4Ye8=s64",
      "userId": "00364258643751704926"
     }
    },
    "ExecuteTime": {
     "end_time": "2024-02-27T07:24:40.611270Z",
     "start_time": "2024-02-27T07:24:40.398188Z"
    }
   },
   "source": [
    "nn_relu = Sequential()\n",
    "nn_relu.add(Dense(700, input_dim=784, activation='relu'))\n",
    "nn_relu.add(Dense(700, activation='relu'))\n",
    "nn_relu.add(Dense(700, activation='relu'))\n",
    "nn_relu.add(Dense(700, activation='relu'))\n",
    "nn_relu.add(Dense(700, activation='relu'))\n",
    "nn_relu.add(Dense(350, activation='relu'))\n",
    "nn_relu.add(Dense(100, activation='relu'))\n",
    "nn_relu.add(Dense(10, activation='softmax'))"
   ],
   "execution_count": 9,
   "outputs": []
  },
  {
   "cell_type": "code",
   "metadata": {
    "id": "sc-WiNo6goTQ",
    "executionInfo": {
     "status": "ok",
     "timestamp": 1627918861681,
     "user_tz": 300,
     "elapsed": 3,
     "user": {
      "displayName": "deep ai",
      "photoUrl": "https://lh3.googleusercontent.com/a-/AOh14GjfZWDM3qKZbLd0FrGsKXwHUuK8gNMkFMIT4Ye8=s64",
      "userId": "00364258643751704926"
     }
    },
    "ExecuteTime": {
     "end_time": "2024-02-27T07:24:42.860204Z",
     "start_time": "2024-02-27T07:24:42.802089Z"
    }
   },
   "source": [
    "# Compile model with SGD\n",
    "nn_relu.compile(loss='categorical_crossentropy', optimizer='sgd', metrics=['accuracy'])"
   ],
   "execution_count": 10,
   "outputs": []
  },
  {
   "cell_type": "markdown",
   "metadata": {
    "id": "c4b23ZT6goTQ"
   },
   "source": [
    "## Creating NN with the ELU activation function:"
   ]
  },
  {
   "cell_type": "code",
   "metadata": {
    "id": "X4yTNpfrgoTQ",
    "executionInfo": {
     "status": "ok",
     "timestamp": 1627918862299,
     "user_tz": 300,
     "elapsed": 283,
     "user": {
      "displayName": "deep ai",
      "photoUrl": "https://lh3.googleusercontent.com/a-/AOh14GjfZWDM3qKZbLd0FrGsKXwHUuK8gNMkFMIT4Ye8=s64",
      "userId": "00364258643751704926"
     }
    },
    "ExecuteTime": {
     "end_time": "2024-02-27T07:24:44.652272Z",
     "start_time": "2024-02-27T07:24:44.400818Z"
    }
   },
   "source": [
    "nn_elu = Sequential()\n",
    "nn_elu.add(Dense(700, input_dim=784, activation='elu'))\n",
    "nn_elu.add(Dense(700, activation='elu'))\n",
    "nn_elu.add(Dense(700, activation='elu'))\n",
    "nn_elu.add(Dense(700, activation='elu'))\n",
    "nn_elu.add(Dense(700, activation='elu'))\n",
    "nn_elu.add(Dense(350, activation='elu'))\n",
    "nn_elu.add(Dense(100, activation='elu'))\n",
    "nn_elu.add(Dense(10, activation='softmax'))"
   ],
   "execution_count": 11,
   "outputs": []
  },
  {
   "cell_type": "code",
   "metadata": {
    "id": "8eNsg7tAgoTR",
    "executionInfo": {
     "status": "ok",
     "timestamp": 1627918863370,
     "user_tz": 300,
     "elapsed": 7,
     "user": {
      "displayName": "deep ai",
      "photoUrl": "https://lh3.googleusercontent.com/a-/AOh14GjfZWDM3qKZbLd0FrGsKXwHUuK8gNMkFMIT4Ye8=s64",
      "userId": "00364258643751704926"
     }
    },
    "ExecuteTime": {
     "end_time": "2024-02-27T07:24:49.284617Z",
     "start_time": "2024-02-27T07:24:49.225203Z"
    }
   },
   "source": [
    "# Compile model with SGD\n",
    "nn_elu.compile(loss='categorical_crossentropy', optimizer='sgd',metrics=['accuracy'])"
   ],
   "execution_count": 12,
   "outputs": []
  },
  {
   "cell_type": "markdown",
   "metadata": {
    "id": "nwbgd7lUgoTR"
   },
   "source": [
    "## Callback function to store the loss values per batch:"
   ]
  },
  {
   "cell_type": "code",
   "metadata": {
    "id": "R6BkGdIrgoTR",
    "executionInfo": {
     "status": "ok",
     "timestamp": 1627918871840,
     "user_tz": 300,
     "elapsed": 326,
     "user": {
      "displayName": "deep ai",
      "photoUrl": "https://lh3.googleusercontent.com/a-/AOh14GjfZWDM3qKZbLd0FrGsKXwHUuK8gNMkFMIT4Ye8=s64",
      "userId": "00364258643751704926"
     }
    },
    "ExecuteTime": {
     "end_time": "2024-02-27T07:25:14.361279Z",
     "start_time": "2024-02-27T07:25:14.327069Z"
    }
   },
   "source": [
    "import keras\n",
    "class history_loss(keras.callbacks.Callback):\n",
    "    def on_train_begin(self, logs={}):\n",
    "        self.losses = []\n",
    " \n",
    "    def on_batch_end(self, batch, logs={}):\n",
    "        self.losses.append(logs.get('loss'))"
   ],
   "execution_count": 13,
   "outputs": []
  },
  {
   "cell_type": "markdown",
   "metadata": {
    "id": "7LtlyDKrgoTR"
   },
   "source": [
    "## Training the models"
   ]
  },
  {
   "cell_type": "code",
   "metadata": {
    "id": "JFp6tf9JgoTR",
    "executionInfo": {
     "status": "ok",
     "timestamp": 1627918876940,
     "user_tz": 300,
     "elapsed": 510,
     "user": {
      "displayName": "deep ai",
      "photoUrl": "https://lh3.googleusercontent.com/a-/AOh14GjfZWDM3qKZbLd0FrGsKXwHUuK8gNMkFMIT4Ye8=s64",
      "userId": "00364258643751704926"
     }
    },
    "ExecuteTime": {
     "end_time": "2024-02-27T07:25:26.683163Z",
     "start_time": "2024-02-27T07:25:26.621641Z"
    }
   },
   "source": [
    "n_epochs = 5\n",
    "batch_size = 256\n",
    "validation_split = 0.2"
   ],
   "execution_count": 15,
   "outputs": []
  },
  {
   "cell_type": "code",
   "metadata": {
    "id": "v-vktytMgoTS",
    "colab": {
     "base_uri": "https://localhost:8080/"
    },
    "executionInfo": {
     "status": "ok",
     "timestamp": 1627918920315,
     "user_tz": 300,
     "elapsed": 41952,
     "user": {
      "displayName": "deep ai",
      "photoUrl": "https://lh3.googleusercontent.com/a-/AOh14GjfZWDM3qKZbLd0FrGsKXwHUuK8gNMkFMIT4Ye8=s64",
      "userId": "00364258643751704926"
     }
    },
    "outputId": "161d84d8-c624-46d5-fe2b-03a45060b709",
    "ExecuteTime": {
     "end_time": "2024-02-27T07:26:28.700464Z",
     "start_time": "2024-02-27T07:25:27.237183Z"
    }
   },
   "source": [
    "history_sigmoid = history_loss()\n",
    "nn_sigmoid.fit(X_train, y_train, epochs=n_epochs, batch_size=batch_size,\n",
    "                 callbacks=[history_sigmoid], validation_split=validation_split, verbose=2)"
   ],
   "execution_count": 16,
   "outputs": [
    {
     "name": "stdout",
     "output_type": "stream",
     "text": [
      "Epoch 1/5\n",
      "188/188 - 13s - loss: 2.3129 - accuracy: 0.1087 - val_loss: 2.3023 - val_accuracy: 0.1060\n",
      "Epoch 2/5\n",
      "188/188 - 12s - loss: 2.3014 - accuracy: 0.1137 - val_loss: 2.3027 - val_accuracy: 0.1060\n",
      "Epoch 3/5\n",
      "188/188 - 12s - loss: 2.3014 - accuracy: 0.1140 - val_loss: 2.3027 - val_accuracy: 0.1060\n",
      "Epoch 4/5\n",
      "188/188 - 12s - loss: 2.3015 - accuracy: 0.1140 - val_loss: 2.3024 - val_accuracy: 0.1060\n",
      "Epoch 5/5\n",
      "188/188 - 12s - loss: 2.3014 - accuracy: 0.1140 - val_loss: 2.3025 - val_accuracy: 0.1060\n"
     ]
    },
    {
     "data": {
      "text/plain": "<tensorflow.python.keras.callbacks.History at 0x134b1c950>"
     },
     "execution_count": 16,
     "metadata": {},
     "output_type": "execute_result"
    }
   ]
  },
  {
   "cell_type": "code",
   "metadata": {
    "id": "gS64DKwFgoTS",
    "colab": {
     "base_uri": "https://localhost:8080/"
    },
    "executionInfo": {
     "status": "ok",
     "timestamp": 1627919074747,
     "user_tz": 300,
     "elapsed": 41749,
     "user": {
      "displayName": "deep ai",
      "photoUrl": "https://lh3.googleusercontent.com/a-/AOh14GjfZWDM3qKZbLd0FrGsKXwHUuK8gNMkFMIT4Ye8=s64",
      "userId": "00364258643751704926"
     }
    },
    "outputId": "bbf001d2-35da-4bde-96d0-f67330e63606",
    "ExecuteTime": {
     "end_time": "2024-02-27T07:27:31.563189Z",
     "start_time": "2024-02-27T07:26:30.872421Z"
    }
   },
   "source": [
    "history_relu = history_loss()\n",
    "nn_relu.fit(X_train, y_train, epochs=n_epochs, batch_size=batch_size,\n",
    "                 callbacks=[history_relu], validation_split=validation_split, verbose=2)"
   ],
   "execution_count": 17,
   "outputs": [
    {
     "name": "stdout",
     "output_type": "stream",
     "text": [
      "Epoch 1/5\n",
      "188/188 - 14s - loss: 2.1600 - accuracy: 0.3541 - val_loss: 1.8252 - val_accuracy: 0.5434\n",
      "Epoch 2/5\n",
      "188/188 - 12s - loss: 1.1398 - accuracy: 0.7193 - val_loss: 0.6587 - val_accuracy: 0.8173\n",
      "Epoch 3/5\n",
      "188/188 - 12s - loss: 0.5444 - accuracy: 0.8456 - val_loss: 0.4142 - val_accuracy: 0.8847\n",
      "Epoch 4/5\n",
      "188/188 - 11s - loss: 0.3955 - accuracy: 0.8861 - val_loss: 0.3742 - val_accuracy: 0.8867\n",
      "Epoch 5/5\n",
      "188/188 - 12s - loss: 0.3313 - accuracy: 0.9042 - val_loss: 0.2839 - val_accuracy: 0.9198\n"
     ]
    },
    {
     "data": {
      "text/plain": "<tensorflow.python.keras.callbacks.History at 0x135373c50>"
     },
     "execution_count": 17,
     "metadata": {},
     "output_type": "execute_result"
    }
   ]
  },
  {
   "cell_type": "code",
   "metadata": {
    "id": "dFQE43tQgoTS",
    "colab": {
     "base_uri": "https://localhost:8080/"
    },
    "executionInfo": {
     "status": "ok",
     "timestamp": 1627919116239,
     "user_tz": 300,
     "elapsed": 41504,
     "user": {
      "displayName": "deep ai",
      "photoUrl": "https://lh3.googleusercontent.com/a-/AOh14GjfZWDM3qKZbLd0FrGsKXwHUuK8gNMkFMIT4Ye8=s64",
      "userId": "00364258643751704926"
     }
    },
    "outputId": "f9b23e62-4be2-4d54-d19e-16378b3fa1d4",
    "ExecuteTime": {
     "end_time": "2024-02-27T07:29:02.754182Z",
     "start_time": "2024-02-27T07:28:01.431193Z"
    }
   },
   "source": [
    "history_elu = history_loss()\n",
    "nn_elu.fit(X_train, y_train, epochs=n_epochs, batch_size=batch_size,\n",
    "                 callbacks=[history_elu], validation_split=validation_split, verbose=2)"
   ],
   "execution_count": 18,
   "outputs": [
    {
     "name": "stdout",
     "output_type": "stream",
     "text": [
      "Epoch 1/5\n",
      "188/188 - 13s - loss: 0.8499 - accuracy: 0.7861 - val_loss: 0.4259 - val_accuracy: 0.8913\n",
      "Epoch 2/5\n",
      "188/188 - 11s - loss: 0.3940 - accuracy: 0.8905 - val_loss: 0.3327 - val_accuracy: 0.9062\n",
      "Epoch 3/5\n",
      "188/188 - 12s - loss: 0.3311 - accuracy: 0.9042 - val_loss: 0.2960 - val_accuracy: 0.9161\n",
      "Epoch 4/5\n",
      "188/188 - 12s - loss: 0.3000 - accuracy: 0.9127 - val_loss: 0.2772 - val_accuracy: 0.9218\n",
      "Epoch 5/5\n",
      "188/188 - 12s - loss: 0.2792 - accuracy: 0.9186 - val_loss: 0.2602 - val_accuracy: 0.9251\n"
     ]
    },
    {
     "data": {
      "text/plain": "<tensorflow.python.keras.callbacks.History at 0x134f01910>"
     },
     "execution_count": 18,
     "metadata": {},
     "output_type": "execute_result"
    }
   ]
  },
  {
   "cell_type": "markdown",
   "metadata": {
    "id": "CmLeJWFqgoTS"
   },
   "source": [
    "## Plotting the losses:"
   ]
  },
  {
   "cell_type": "code",
   "metadata": {
    "id": "i73pxWV8goTT",
    "colab": {
     "base_uri": "https://localhost:8080/",
     "height": 295
    },
    "executionInfo": {
     "status": "ok",
     "timestamp": 1627919116609,
     "user_tz": 300,
     "elapsed": 393,
     "user": {
      "displayName": "deep ai",
      "photoUrl": "https://lh3.googleusercontent.com/a-/AOh14GjfZWDM3qKZbLd0FrGsKXwHUuK8gNMkFMIT4Ye8=s64",
      "userId": "00364258643751704926"
     }
    },
    "outputId": "aed732ba-b4a3-4d7d-960a-0f4d1f84d6e8",
    "ExecuteTime": {
     "end_time": "2024-02-27T07:29:48.791335Z",
     "start_time": "2024-02-27T07:29:47.199777Z"
    }
   },
   "source": [
    "import matplotlib.pyplot as plt\n",
    "# % matplotlib inline\n",
    "plt.plot(np.arange(len(history_sigmoid.losses)),history_sigmoid.losses,label='sigmoid' )\n",
    "plt.plot(np.arange(len(history_relu.losses)),history_relu.losses ,label='relu' )\n",
    "plt.plot(np.arange(len(history_elu.losses)),history_elu.losses ,label='elu' )\n",
    "plt.title('Losses')\n",
    "plt.xlabel('number of batches')\n",
    "plt.legend(loc='best')\n",
    "plt.show()"
   ],
   "execution_count": 21,
   "outputs": [
    {
     "data": {
      "text/plain": "<Figure size 640x480 with 1 Axes>",
      "image/png": "[encoded data removed]"
     },
     "metadata": {},
     "output_type": "display_data"
    }
   ]
  }
 ]
}
